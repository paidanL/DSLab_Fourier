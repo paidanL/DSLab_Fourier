{
 "cells": [
  {
   "cell_type": "markdown",
   "id": "770d5e39-7d3e-4c75-9f42-e15920603289",
   "metadata": {},
   "source": [
    "# Week ?: Sampled Signal Filtering with the Circular Convolution\n",
    "\n",
    "<font size=\"6\"> Laboratory ? </font> <br>\n",
    "<font size=\"3\"> Last updated July 26, 2022 </font>"
   ]
  },
  {
   "cell_type": "markdown",
   "id": "99a20b81-8967-48e2-add1-cdbf1a38b95b",
   "metadata": {},
   "source": [
    "## <span style=\"color:orange;\"> 00. Content </span>\n",
    "\n",
    "### Mathematics \n",
    "- Type here\n",
    "    \n",
    "### Programming Skills \n",
    "- Type here\n",
    "    \n",
    "### Embedded Systems \n",
    "- Type here\n",
    "\n",
    "## <span style=\"color:orange;\"> 0. Required Hardware </span>\n",
    "- Type here"
   ]
  },
  {
   "cell_type": "markdown",
   "id": "843875f5-83e1-45f3-8532-50b34275a0da",
   "metadata": {},
   "source": [
    "<h3 style=\"background-color:lightblue\"> Write your name and email below: </h3>\n",
    "\n",
    "**Name:** me \n",
    "\n",
    "**Email:** me @purdue.edu"
   ]
  },
  {
   "cell_type": "code",
   "execution_count": null,
   "id": "04a0ed22-65d0-4ac4-84aa-eef3c2160631",
   "metadata": {},
   "outputs": [],
   "source": [
    "import numpy as np\n",
    "import matplotlib.pyplot as plt"
   ]
  },
  {
   "cell_type": "markdown",
   "id": "4cfa8636-1836-4c51-bb2d-ab648ee0fb82",
   "metadata": {},
   "source": [
    "## <span style=\"color:orange;\"> 1. Intro </span>"
   ]
  },
  {
   "cell_type": "markdown",
   "id": "48a54664-1cd7-41ee-888d-a1773030002a",
   "metadata": {},
   "source": [
    "Assume f(t) has a finite fourier series and that it is sampled with enough samples so as not to create aliasing."
   ]
  },
  {
   "cell_type": "markdown",
   "id": "348e2b69-0c5c-458f-9fec-f3d7e05bfcad",
   "metadata": {},
   "source": [
    "We are interested in transformation the sampled signal so to either increase or decrease the coefficients of some specific frequencies. For example, we would like to be able to process $f_d[n]$ so that the coefficient of, say, it's first harmonic is set to zero.  More specifically, we would like to do this in the time domain, that it is say without having to compute the Fourier series of $f_d[n]$. "
   ]
  },
  {
   "cell_type": "markdown",
   "id": "b87b827b-4877-468c-aaef-7bfd3bfee898",
   "metadata": {},
   "source": [
    "## <span style=\"color:orange;\"> 2. Circular Convolution </span>"
   ]
  },
  {
   "cell_type": "markdown",
   "id": "847625db-0411-4667-9e52-1ef7e8fbb0a4",
   "metadata": {},
   "source": [
    "Given two sampled signals $f_1[n]$ and $f_2[n]$ both periodic with period $N$, we define their circular convolution as\n",
    "\n",
    "$$ f_1 \\circ f_2 [n] = \\sum_{k=0}^{N-1} f_1[k] f_2[n-k] $$\n"
   ]
  },
  {
   "cell_type": "markdown",
   "id": "7f438962-81f0-4e43-acd3-c82cc2d0d33a",
   "metadata": {},
   "source": [
    "If $f_1[n]=\\sum_{k=-N_0}^{N_0} c_k e^{i k \\frac{2\\pi}{N} n }$ and $f_2[n]=\\sum_{k=-N_0}^{N_0} b_k e^{i k \\frac{2\\pi}{N} n }$ then\n",
    "\n",
    "$$f_1 \\circ f_2[n] = N \\sum_{k=-N_0}^{N-1} c_k b_k e^{i k \\frac{2\\pi}{N} n }.$$\n",
    "\n",
    "In other words, up to a constant factor $N$, the circular convlution multiplies the Fourier series coefficients of the two sampled signals.\n"
   ]
  },
  {
   "cell_type": "markdown",
   "id": "14564e21-4a0b-4aae-9089-4301c81f94ce",
   "metadata": {},
   "source": [
    "## <span style=\"color:orange;\"> 3. Filtering </span>"
   ]
  },
  {
   "cell_type": "markdown",
   "id": "4e642a9d-9b8e-4672-bb40-cd1bfad89f71",
   "metadata": {},
   "source": [
    "Filtering in the continuous time domain but performed on the discrete samples. "
   ]
  },
  {
   "cell_type": "markdown",
   "id": "b07e7a28-c00d-4cf1-a1f8-e8d897304573",
   "metadata": {},
   "source": []
  }
 ],
 "metadata": {
  "kernelspec": {
   "display_name": "Python 3",
   "language": "python",
   "name": "python3"
  },
  "language_info": {
   "codemirror_mode": {
    "name": "ipython",
    "version": 3
   },
   "file_extension": ".py",
   "mimetype": "text/x-python",
   "name": "python",
   "nbconvert_exporter": "python",
   "pygments_lexer": "ipython3",
   "version": "3.8.8"
  }
 },
 "nbformat": 4,
 "nbformat_minor": 5
}
