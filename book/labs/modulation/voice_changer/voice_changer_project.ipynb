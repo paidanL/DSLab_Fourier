{
 "cells": [
  {
   "cell_type": "markdown",
   "id": "f20b54f3-78db-4242-942e-bd1694b54b32",
   "metadata": {},
   "source": [
    "# Week 8: Build a Voice Changer/Voice Shield\n",
    "\n",
    "<font size=\"6\"> Laboratory ? </font> <br>\n",
    "<font size=\"3\"> Last updated July 26, 2022 </font>"
   ]
  },
  {
   "cell_type": "markdown",
   "id": "dbdb2e48-59be-4d32-8324-49daad3652e9",
   "metadata": {},
   "source": [
    "## <span style=\"color:orange;\"> 00. Content </span>\n",
    "\n",
    "### Mathematics \n",
    "- Type here\n",
    "    \n",
    "### Programming Skills \n",
    "- Type here\n",
    "    \n",
    "### Embedded Systems \n",
    "- Type here\n",
    "\n",
    "## <span style=\"color:orange;\"> 0. Required Hardware </span>\n",
    "- Type here"
   ]
  },
  {
   "cell_type": "markdown",
   "id": "60c6cb81-725b-49e5-8c66-c2f614301457",
   "metadata": {},
   "source": [
    "<h3 style=\"background-color:lightblue\"> Write your name and email below: </h3>\n",
    "\n",
    "**Name:** me \n",
    "\n",
    "**Email:** me @purdue.edu"
   ]
  },
  {
   "cell_type": "code",
   "execution_count": null,
   "id": "0f68d33a-a196-420b-885c-31b7a374b43b",
   "metadata": {},
   "outputs": [],
   "source": [
    "import numpy as np\n",
    "import matplotlib.pyplot as plt"
   ]
  },
  {
   "cell_type": "markdown",
   "id": "8f839845-f55a-433f-aa44-ae17a9cb447d",
   "metadata": {},
   "source": [
    "## <span style=\"color:orange;\"> 1. Intro </span>"
   ]
  },
  {
   "cell_type": "markdown",
   "id": "ac971b00-162d-4b85-aede-d1c1c1f4b966",
   "metadata": {},
   "source": [
    "In this lab, we want to build a voice shield to modify the student's voices in real time. More specifically, we want students to speak into a piece of hardware, which will then modulat their voice (with a since wave or other wave) so to modify their speech in a fun way. \n",
    "\n",
    "As much as possible, the hardware used should intersect with the hardware used in the previous lab. That way, we will not increase our hardware budget too much. If new hardware components are needed, they should be low-cost and simple to use."
   ]
  },
  {
   "cell_type": "code",
   "execution_count": null,
   "id": "bc56c17e-7c59-4d56-a3b0-914ee980f0ac",
   "metadata": {},
   "outputs": [],
   "source": []
  }
 ],
 "metadata": {
  "kernelspec": {
   "display_name": "Python 3 (ipykernel)",
   "language": "python",
   "name": "python3"
  },
  "language_info": {
   "codemirror_mode": {
    "name": "ipython",
    "version": 3
   },
   "file_extension": ".py",
   "mimetype": "text/x-python",
   "name": "python",
   "nbconvert_exporter": "python",
   "pygments_lexer": "ipython3",
   "version": "3.10.9"
  }
 },
 "nbformat": 4,
 "nbformat_minor": 5
}
