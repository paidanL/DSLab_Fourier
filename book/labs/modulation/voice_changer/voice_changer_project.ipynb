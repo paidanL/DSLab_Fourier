{
 "cells": [
  {
   "cell_type": "markdown",
   "id": "f20b54f3-78db-4242-942e-bd1694b54b32",
   "metadata": {},
   "source": [
    "# Week 8: Build a Voice Changer/Voice Shield\n",
    "\n",
    "<font size=\"6\"> Laboratory 7 </font> <br>\n",
    "<font size=\"3\"> Last updated March 3, 2023 </font>"
   ]
  },
  {
   "cell_type": "markdown",
   "id": "dbdb2e48-59be-4d32-8324-49daad3652e9",
   "metadata": {},
   "source": [
    "## <span style=\"color:orange;\"> 00. Content </span>\n",
    "\n",
    "### Mathematics \n",
    "- N/A\n",
    "    \n",
    "### Programming Skills \n",
    "- flow structures (`try`/`finally`, `for`/`else`)\n",
    "- Timing conflicts\n",
    "- Buffers\n",
    "    \n",
    "### Embedded Systems \n",
    "- N/A\n",
    "\n",
    "## <span style=\"color:orange;\"> 0. Required Hardware </span>\n",
    "- Headphones"
   ]
  },
  {
   "cell_type": "markdown",
   "id": "60c6cb81-725b-49e5-8c66-c2f614301457",
   "metadata": {},
   "source": [
    "<h3 style=\"background-color:lightblue\"> Write your name and email below: </h3>\n",
    "\n",
    "**Name:** Aidan Leib \n",
    "\n",
    "**Email:** pleib@purdue.edu"
   ]
  },
  {
   "cell_type": "code",
   "execution_count": null,
   "id": "0f68d33a-a196-420b-885c-31b7a374b43b",
   "metadata": {},
   "outputs": [],
   "source": [
    "import numpy as np\n",
    "import matplotlib.pyplot as plt"
   ]
  },
  {
   "cell_type": "markdown",
   "id": "8f839845-f55a-433f-aa44-ae17a9cb447d",
   "metadata": {},
   "source": [
    "## <span style=\"color:orange;\"> 1. Intro </span>"
   ]
  },
  {
   "cell_type": "markdown",
   "id": "ac971b00-162d-4b85-aede-d1c1c1f4b966",
   "metadata": {},
   "source": [
    "## <span style=\"color:orange;\"> 1. Introduction </span>\n",
    "\n",
    "In a previous lab, we learned about modulating signals and in later one, we learned how to capture and manipulate audio using python. That served as a good primer on how to manipulate audio in Python.  We now combine the ideas from the earlier laboratories to create a real-time voice changer. If the time taken for processing data is more than a few milliseconds, we will be forced to either skip sections of audio or have a substantial lag between input and output. In this lab, we will explore ways to minimize latency in producing the modulated output inorder to process the audio in realtime. But before that let us look into audio recordng and playback with Python.\n",
    "\n"
   ]
  },
  {
   "cell_type": "markdown",
   "id": "adfb928e-1dd4-41a5-8119-a749ae643e4c",
   "metadata": {},
   "source": [
    "## <span style=\"color:orange;\"> 2. Audio Recorder </span>\n",
    "We will be using PyAudio for making our voice changer\n",
    "To explore more in detail about PyAudio and its features, you could refer the [API docementation for PyAudio](https://people.csail.mit.edu/hubert/pyaudio/docs/).\n",
    "\n",
    "For Recording Audio with Python, we have to do the following:\n",
    "1. Open a data stream to get audio data frame from microphone\n",
    "2. Iterate over the stream and append each frame to a list of frames.\n",
    "3. Stop and close the data stream.\n",
    "4. Save the data frames as a .wave file.\n",
    "5. Close and terminate the audio stream.\n",
    "\n",
    "[Voice_recorder.py](https://github.com/TheDataScienceLabs/DSLab_Fourier/blob/main/book/labs/modulation/tremolo_beats/voice_recorder.py) is implemented following the above pseudo code. It records 5s of mono channel audio and saves it as 'my_recording.wav'.\n",
    "\n",
    "\n",
    "Let us go through the code in voice_recorder.py.\n",
    "```\n",
    "p = pyaudio.PyAudio()\n",
    "\n",
    "stream = p.open(format = FORMAT,\n",
    "                channels = CHANNELS,\n",
    "                rate = RATE,\n",
    "                input = True,\n",
    "                frames_per_buffer = chunk)\n",
    "```\n",
    "\n",
    "Here we are initializing an Audio stream. Since we enabled input as True, python will recognize this stream as an input audio stream.\n",
    "\n",
    "```\n",
    "for i in range(0, RATE//chunk * RECORD_SECONDS):\n",
    "\n",
    "    frame = stream.read(chunk, exception_on_overflow = False)\n",
    "    frames.append(frame)\n",
    "\n",
    "```\n",
    "\n",
    "This is the part where we read 'chunk' sized samples from the input audio stream.\n",
    "These samples are then appended to a list. The list of samples can be saved as a wav file.\n"
   ]
  },
  {
   "cell_type": "markdown",
   "id": "f51fea49-2eb6-4f3b-86e8-50c88914b7bf",
   "metadata": {},
   "source": [
    "### <span style=\"color:red\"> Exercise 1</span>\n",
    "\n",
    "What role does ```exception_on_overflow = False``` do in ```frame = stream.read(chunk, exception_on_overflow = False)``` on [voice_recorder.py](https://github.com/TheDataScienceLabs/DSLab_Fourier/blob/main/book/labs/modulation/tremolo_beats/voice_recorder.py)? Run the code after setting ```exception_on_overflow = True``` and report your observations. What does the result indicate ?"
   ]
  },
  {
   "cell_type": "code",
   "execution_count": 7,
   "id": "57e0436e-f035-48dd-8929-cfaca4a6507b",
   "metadata": {},
   "outputs": [
    {
     "name": "stdout",
     "output_type": "stream",
     "text": [
      "*************************************\n",
      "*******   recording started   *******\n",
      "******   recording completed   ******\n",
      "*************************************\n",
      "----  saving audio as .wav file  ----\n",
      "*************************************\n"
     ]
    }
   ],
   "source": [
    "#!/usr/bin/env python\n",
    "\n",
    "\"\"\"voice_recorder.py: As the name indicates, this code is used to record audio\"\"\"\n",
    "\n",
    "__author__      = \"Adharsh Sabukumar\"\n",
    "\n",
    "\n",
    "\n",
    "import pyaudio\n",
    "import wave\n",
    "\n",
    "\n",
    "chunk = 1024\n",
    "FORMAT = pyaudio.paInt16\n",
    "CHANNELS = 1\n",
    "RATE = 44100\n",
    "RECORD_SECONDS = 10\n",
    "OUTPUT_FILE_NAME = \"my_recording.wav\"\n",
    "\n",
    "p = pyaudio.PyAudio()\n",
    "\n",
    "stream = p.open(format = FORMAT,\n",
    "                channels = CHANNELS,\n",
    "                rate = RATE,\n",
    "                input = True,\n",
    "                frames_per_buffer = chunk)\n",
    "\n",
    "frames = list()\n",
    "\n",
    "print(\"*************************************\")\n",
    "print(\"*******   recording started   *******\")\n",
    "\n",
    "for i in range(0, RATE//chunk * RECORD_SECONDS):\n",
    "\n",
    "    frame = stream.read(chunk, exception_on_overflow = False)\n",
    "    frames.append(frame)\n",
    "\n",
    "\n",
    "print(\"******   recording completed   ******\")\n",
    "print(\"*************************************\")\n",
    "\n",
    "\n",
    "stream.stop_stream()\n",
    "stream.close()\n",
    "p.terminate()\n",
    "\n",
    "print(\"----  saving audio as .wav file  ----\")\n",
    "print(\"*************************************\")\n",
    "\n",
    "file = wave.open(OUTPUT_FILE_NAME, 'wb')\n",
    "file.setnchannels(CHANNELS)\n",
    "file.setsampwidth(p.get_sample_size(FORMAT))\n",
    "file.setframerate(RATE)\n",
    "file.writeframes(b''.join(frames))\n",
    "file.close()"
   ]
  },
  {
   "cell_type": "markdown",
   "id": "9ea5d147-224c-4d3f-86c1-8361e9467eee",
   "metadata": {},
   "source": [
    "All the argument does is toggle if an IOError should be thrown or not when the stream is overflowed"
   ]
  },
  {
   "cell_type": "markdown",
   "id": "9ddddcab-5c4a-41ee-9755-c059e92e64f2",
   "metadata": {},
   "source": [
    "## <span style=\"color:orange;\"> 2. Audio Player </span>\n",
    "\n",
    "The idea behind the implementation of an audio player is similar but opposite to that of an audio recorder.\n",
    "Since we have the audio file saved in some format, a naive approach would be to load the audio as a single numpy array and play it using Audio() function.\n",
    "\n",
    "But this approach is not an optimal solution when dealing with huge files.\n",
    "\n",
    "So a good approach will be to read smaller chunks at a time from the audio file, so that we do not exhaust our total system memory.\n",
    "\n",
    "The Pseudo code for the audio recording using python and PyAudio is as follows:\n",
    "\n",
    "1. Initialize and open an output audio stream.\n",
    "2. Iterate and read frames of data from the audio file.\n",
    "3. Write the data frames to the output stream.\n",
    "4. Close and terminate the audio stream.\n",
    "\n",
    "[Audio_player.py](https://github.com/TheDataScienceLabs/DSLab_Fourier/blob/main/book/labs/modulation/voice_changer/audio_player.py) is implemented following the above pseudo code."
   ]
  },
  {
   "cell_type": "markdown",
   "id": "58257b6c-3195-4ef4-82d2-987c35b05f43",
   "metadata": {},
   "source": [
    "### <span style=\"color:red\"> Exercise 2</span>\n",
    "\n",
    "Record a 10s audio clip using [voice_recorder.py](https://github.com/TheDataScienceLabs/DSLab_Fourier/blob/main/book/labs/modulation/tremolo_beats/voice_recorder.py) and then play the 10s audio using [audio_player.py](https://github.com/TheDataScienceLabs/DSLab_Fourier/blob/main/book/labs/modulation/voice_changer/audio_player.py). Report your observations."
   ]
  },
  {
   "cell_type": "code",
   "execution_count": 8,
   "id": "3b8bce4a-879b-42ad-a37a-7aadcb556f7d",
   "metadata": {},
   "outputs": [
    {
     "name": "stdout",
     "output_type": "stream",
     "text": [
      "*************************************\n",
      "*******   playback started!   *******\n",
      "*************************************\n",
      "*******   finished playback   *******\n"
     ]
    }
   ],
   "source": [
    "import pyaudio\n",
    "import wave\n",
    "\n",
    "filename = 'my_recording.wav'\n",
    "\n",
    "# Sample size per audio frame\n",
    "chunk = 1024  \n",
    "\n",
    "# open audio file\n",
    "wf = wave.open(filename, 'rb')\n",
    "\n",
    "p = pyaudio.PyAudio()\n",
    "\n",
    "# initialize an audio output stream.\n",
    "\n",
    "stream = p.open(format = p.get_format_from_width(wf.getsampwidth()),\n",
    "                channels = wf.getnchannels(),\n",
    "                rate = wf.getframerate(),\n",
    "                output = True)\n",
    "\n",
    "# read data in chunks\n",
    "data = wf.readframes(chunk)\n",
    "\n",
    "print(\"*************************************\")\n",
    "print(\"*******   playback started!   *******\")\n",
    "\n",
    "while data != b'':\n",
    "    stream.write(data)\n",
    "    data = wf.readframes(chunk)\n",
    "\n",
    "print(\"*************************************\")\n",
    "print(\"*******   finished playback   *******\")\n",
    "\n",
    "\n",
    "stream.close()\n",
    "p.terminate()"
   ]
  },
  {
   "cell_type": "markdown",
   "id": "a08dc889-7c98-4072-bf6d-a2d5b071d12f",
   "metadata": {},
   "source": [
    "The playback is pretty good, it is audible and only 1 channel but it gets the job done. Seems pretty quick to process as it starts playing right as the code runs."
   ]
  },
  {
   "cell_type": "markdown",
   "id": "ebae697d-6777-45de-bb91-dea25cfc6c71",
   "metadata": {},
   "source": [
    "## <span style=\"color:orange;\"> 3. Megaphone - a Pythonic Approach </span>\n",
    "\n",
    "A megaphone is a portable, cone-shaped device used to amplify a person's voice. It is a simple device to amplify input sounds in realtime. In this exercise we will be using python to implememt a Megahorn in realtime.\n",
    "\n",
    "To implement such a device, we follow these steps:\n",
    "1. Initialize and open an input and output stream.\n",
    "2. Read frames from the input stream.\n",
    "3. Write the frames from the input stream to the output stream.\n",
    "4. Close and terminate the data streams.\n",
    "\n",
    "[Megaphone.py](https://github.com/TheDataScienceLabs/DSLab_Fourier/blob/main/book/labs/modulation/voice_changer/megaphone.py) is implemented following the steps above.\n"
   ]
  },
  {
   "cell_type": "markdown",
   "id": "a3f3731e-43d2-4433-8878-6a7708292e9e",
   "metadata": {},
   "source": [
    "### <span style=\"color:red\"> Exercise 3</span>\n",
    "\n",
    "Run [Megaphone.py](https://github.com/TheDataScienceLabs/DSLab_Fourier/blob/main/book/labs/modulation/voice_changer/megaphone.py) and report your observations. How well does this program perform when you are not using headphones? Report your observations."
   ]
  },
  {
   "cell_type": "code",
   "execution_count": 9,
   "id": "e954e042-a357-465c-9159-2e5d0233a564",
   "metadata": {},
   "outputs": [
    {
     "ename": "KeyboardInterrupt",
     "evalue": "",
     "output_type": "error",
     "traceback": [
      "\u001b[0;31m---------------------------------------------------------------------------\u001b[0m",
      "\u001b[0;31mKeyboardInterrupt\u001b[0m                         Traceback (most recent call last)",
      "Input \u001b[0;32mIn [9]\u001b[0m, in \u001b[0;36m<module>\u001b[0;34m\u001b[0m\n\u001b[1;32m     30\u001b[0m swidth \u001b[38;5;241m=\u001b[39m \u001b[38;5;241m2\u001b[39m\n\u001b[1;32m     33\u001b[0m \u001b[38;5;28;01mwhile\u001b[39;00m(\u001b[38;5;28;01mTrue\u001b[39;00m):\n\u001b[0;32m---> 35\u001b[0m     data \u001b[38;5;241m=\u001b[39m \u001b[43mstream\u001b[49m\u001b[38;5;241;43m.\u001b[39;49m\u001b[43mread\u001b[49m\u001b[43m(\u001b[49m\u001b[43mchunk\u001b[49m\u001b[43m,\u001b[49m\u001b[43m \u001b[49m\u001b[43mexception_on_overflow\u001b[49m\u001b[43m \u001b[49m\u001b[38;5;241;43m=\u001b[39;49m\u001b[43m \u001b[49m\u001b[38;5;28;43;01mFalse\u001b[39;49;00m\u001b[43m)\u001b[49m\n\u001b[1;32m     36\u001b[0m     data \u001b[38;5;241m=\u001b[39m np\u001b[38;5;241m.\u001b[39marray(wave\u001b[38;5;241m.\u001b[39mstruct\u001b[38;5;241m.\u001b[39munpack(\u001b[38;5;124m\"\u001b[39m\u001b[38;5;132;01m%d\u001b[39;00m\u001b[38;5;124mh\u001b[39m\u001b[38;5;124m\"\u001b[39m\u001b[38;5;241m%\u001b[39m(\u001b[38;5;28mlen\u001b[39m(data)\u001b[38;5;241m/\u001b[39mswidth), data))\n\u001b[1;32m     39\u001b[0m     chunkout \u001b[38;5;241m=\u001b[39m struct\u001b[38;5;241m.\u001b[39mpack(\u001b[38;5;124m\"\u001b[39m\u001b[38;5;132;01m%d\u001b[39;00m\u001b[38;5;124mh\u001b[39m\u001b[38;5;124m\"\u001b[39m\u001b[38;5;241m%\u001b[39m(\u001b[38;5;28mlen\u001b[39m(data)), \u001b[38;5;241m*\u001b[39m\u001b[38;5;28mlist\u001b[39m(data)) \u001b[38;5;66;03m#convert back to 16-bit data\u001b[39;00m\n",
      "File \u001b[0;32m~/Library/Python/3.9/lib/python/site-packages/pyaudio.py:608\u001b[0m, in \u001b[0;36mStream.read\u001b[0;34m(self, num_frames, exception_on_overflow)\u001b[0m\n\u001b[1;32m    604\u001b[0m \u001b[38;5;28;01mif\u001b[39;00m \u001b[38;5;129;01mnot\u001b[39;00m \u001b[38;5;28mself\u001b[39m\u001b[38;5;241m.\u001b[39m_is_input:\n\u001b[1;32m    605\u001b[0m     \u001b[38;5;28;01mraise\u001b[39;00m \u001b[38;5;167;01mIOError\u001b[39;00m(\u001b[38;5;124m\"\u001b[39m\u001b[38;5;124mNot input stream\u001b[39m\u001b[38;5;124m\"\u001b[39m,\n\u001b[1;32m    606\u001b[0m                   paCanNotReadFromAnOutputOnlyStream)\n\u001b[0;32m--> 608\u001b[0m \u001b[38;5;28;01mreturn\u001b[39;00m \u001b[43mpa\u001b[49m\u001b[38;5;241;43m.\u001b[39;49m\u001b[43mread_stream\u001b[49m\u001b[43m(\u001b[49m\u001b[38;5;28;43mself\u001b[39;49m\u001b[38;5;241;43m.\u001b[39;49m\u001b[43m_stream\u001b[49m\u001b[43m,\u001b[49m\u001b[43m \u001b[49m\u001b[43mnum_frames\u001b[49m\u001b[43m,\u001b[49m\u001b[43m \u001b[49m\u001b[43mexception_on_overflow\u001b[49m\u001b[43m)\u001b[49m\n",
      "\u001b[0;31mKeyboardInterrupt\u001b[0m: "
     ]
    }
   ],
   "source": [
    "\n",
    "#!/usr/bin/env python\n",
    "\n",
    "\"\"\"megaphone.py: Captures audio using microphone and outputs through a speaker in almost real time.\n",
    "This code illustrates how to gather audio data as chunk and to act on it.\"\"\"\n",
    "\n",
    "__author__      = \"Adharsh Sabukumar\"\n",
    "\n",
    "import pyaudio\n",
    "import sys\n",
    "import numpy as np\n",
    "import wave\n",
    "import audioop\n",
    "import struct\n",
    "import scipy.fftpack as fft\n",
    "\n",
    "chunk = 512\n",
    "FORMAT = pyaudio.paInt16\n",
    "CHANNELS = 1\n",
    "RATE = 41000\n",
    "RECORD_SECONDS = 5\n",
    "\n",
    "p = pyaudio.PyAudio()\n",
    "\n",
    "stream = p.open(format = FORMAT,\n",
    "                channels = CHANNELS,\n",
    "                rate = RATE,\n",
    "                input = True,\n",
    "                output = True,\n",
    "                frames_per_buffer = chunk)\n",
    "swidth = 2\n",
    "\n",
    "\n",
    "while(True):\n",
    "\n",
    "    data = stream.read(chunk, exception_on_overflow = False)\n",
    "    data = np.array(wave.struct.unpack(\"%dh\"%(len(data)/swidth), data))\n",
    "\n",
    "\n",
    "    chunkout = struct.pack(\"%dh\"%(len(data)), *list(data)) #convert back to 16-bit data\n",
    "\n",
    "    stream.write(chunkout, chunk)\n",
    "\n",
    "\n",
    "\n",
    "\n",
    "print (\"* done\")\n",
    "\n",
    "stream.stop_stream()\n",
    "stream.close()\n",
    "p.terminate()"
   ]
  },
  {
   "cell_type": "markdown",
   "id": "01ef19ab-0012-4d3a-8bb6-63d1e11f6b4d",
   "metadata": {},
   "source": [
    "That was actually really cool. I didn't realize what it was doing at first but that processed the audio very quickly. Without headphones you start to get a lot of positive feedback, when the microphone picks up the audio coming out of the speakers and amplifies it again. This can obviously be remedied by using headphones which isolates the speakers from the microphone."
   ]
  },
  {
   "cell_type": "markdown",
   "id": "75b1c772-5d89-4095-8ed6-33061b2943d5",
   "metadata": {},
   "source": [
    "## <span style=\"color:orange;\"> 4. Voice Changer </span>\n",
    "\n",
    "Voice changers are one of those gadgets that you might have seen in spy movies or as a part of Halloween costumes. \n",
    "\n",
    "When you speak, your throat produces a vibration which travels as a wave. Essentially,\n",
    "your voice is a sound wave. A voice changer, changes the shape of this sound wave by altering it. This can be done in multiple ways.\n",
    "\n",
    "One of the ways to implement a voice changer is to find out the frequency components of your voice and replace those frequency components with another frequency. However this is computationally expensive and will require specialized hardware to run the operation in realtime.\n",
    "\n",
    "A simple way to do this is to multiply the received audio signal with a wave of known frequency. This will shift the frequency components of the signal altering your voice.\n",
    "\n",
    "To implement such a device, we will do the following:\n",
    "1. Initialize and open an input and output stream.\n",
    "2. Read frames from the input stream.\n",
    "3. Multiply each such audio frames with a wave of known frequency.\n",
    "4. Write these modified audio frames to the output stream.\n",
    "5. Close and terminate the data streams.\n",
    "\n",
    "[Real_time_voice_changer.py](https://github.com/TheDataScienceLabs/DSLab_Fourier/blob/main/book/labs/modulation/voice_changer/real_time_voice_changer.py) is implemented using this approach.\n",
    "\n"
   ]
  },
  {
   "cell_type": "markdown",
   "id": "74efef22-c577-4672-bb06-986007e1e42e",
   "metadata": {},
   "source": [
    "### <span style=\"color:red\"> Exercise 4</span>\n",
    "\n",
    "Run [Real_time_voice_changer.py](https://github.com/TheDataScienceLabs/DSLab_Fourier/blob/main/book/labs/modulation/voice_changer/real_time_voice_changer.py) and report your observations.\n",
    "Identify the shape and frequency of the wave used in altering the input."
   ]
  },
  {
   "cell_type": "code",
   "execution_count": null,
   "id": "0ac4249a-2c0c-4240-8500-99d8ca057117",
   "metadata": {},
   "outputs": [],
   "source": [
    "#!/usr/bin/env python\n",
    "\n",
    "\"\"\"real_time_voice_changer.py: As the name indicates, this code changes your voice in realtime\"\"\"\n",
    "\n",
    "__author__      = \"Adharsh Sabukumar\"\n",
    "\n",
    "\n",
    "\n",
    "import pyaudio\n",
    "import sys\n",
    "import numpy as np\n",
    "import wave\n",
    "import audioop\n",
    "import struct\n",
    "import scipy.fftpack as fft\n",
    "\n",
    "chunk = 253 * 3\n",
    "FORMAT = pyaudio.paInt16\n",
    "CHANNELS = 1\n",
    "RATE = 41000\n",
    "RECORD_SECONDS = 5\n",
    "\n",
    "p = pyaudio.PyAudio()\n",
    "\n",
    "stream = p.open(format = FORMAT,\n",
    "                channels = CHANNELS,\n",
    "                rate = RATE,\n",
    "                input = True,\n",
    "                output = True,\n",
    "                frames_per_buffer = chunk)\n",
    "swidth = 2\n",
    "\n",
    "y = 2**4*np.sin(np.linspace(0, 6*np.pi, chunk, endpoint=False))\n",
    "\n",
    "while(True):\n",
    "\n",
    "    data = stream.read(chunk, exception_on_overflow = False)\n",
    "    data_length = len(data)\n",
    "    data = np.array(wave.struct.unpack(\"%dh\"%(data_length/swidth), data))\n",
    "    data_length = data_length//swidth\n",
    "\n",
    "    data = np.multiply(y,data).astype(np.int16)\n",
    "\n",
    "    #print(data)\n",
    "\n",
    "    chunkout = struct.pack(\"%dh\"%(data_length), *list(data)) #convert back to 16-bit data\n",
    "    stream.write(chunkout, chunk)\n",
    "\n",
    "\n",
    "print (\"* done\")\n",
    "\n",
    "stream.stop_stream()\n",
    "stream.close()\n",
    "p.terminate()"
   ]
  },
  {
   "cell_type": "markdown",
   "id": "9ce20325-1c26-4a20-9fd4-5916cfa6c98c",
   "metadata": {},
   "source": [
    "This program seemed to be slower at processing the audio channel, however this makes sense because it was also manipulating the audio which requires more calculations and time. My voice was definitely altered in the output and sounded very electronic. The wave used to modulate my voice was a sinusoid with frequency 1Hz."
   ]
  },
  {
   "cell_type": "code",
   "execution_count": 16,
   "id": "e3b09326-7de9-46dc-b4c5-5ca6162d00a7",
   "metadata": {},
   "outputs": [
    {
     "data": {
      "text/plain": [
       "[<matplotlib.lines.Line2D at 0x7fbceaa29550>]"
      ]
     },
     "execution_count": 16,
     "metadata": {},
     "output_type": "execute_result"
    },
    {
     "data": {
      "image/png": "[encoded data removed]",
      "text/plain": [
       "<Figure size 432x288 with 1 Axes>"
      ]
     },
     "metadata": {
      "needs_background": "light"
     },
     "output_type": "display_data"
    }
   ],
   "source": [
    "x = np.linspace(0, 6*np.pi, 759, endpoint=False)\n",
    "y = 2**4*np.sin(np.linspace(0, 6*np.pi, 759, endpoint=False))\n",
    "\n",
    "import matplotlib.pyplot as plt\n",
    "\n",
    "plt.plot(x,y)"
   ]
  },
  {
   "cell_type": "markdown",
   "id": "da5d7b8b-aed2-4713-bfca-f3f00b7ad5a6",
   "metadata": {},
   "source": [
    "### <span style=\"color:red\"> Exercise 5</span>\n",
    "\n",
    "Change the shape of the waveform used in [Real_time_voice_changer.py](https://github.com/TheDataScienceLabs/DSLab_Fourier/blob/main/book/labs/modulation/voice_changer/real_time_voice_changer.py). Report your code and observations.  \n"
   ]
  },
  {
   "cell_type": "code",
   "execution_count": 1,
   "id": "0df54cc4-9308-4557-a2bb-28a446d1e507",
   "metadata": {},
   "outputs": [],
   "source": [
    "import numpy as np\n",
    "\n",
    "def square(freq, n):\n",
    "    \"\"\"\n",
    "    freq = frequency of the triangle wave\n",
    "    n = the length of the wave in seconds\n",
    "    \"\"\"\n",
    "    t = np.linspace(0, 6*np.pi, n, endpoint = False)\n",
    "    x = np.sin(freq * t)\n",
    "    return np.sign(x)"
   ]
  },
  {
   "cell_type": "code",
   "execution_count": 15,
   "id": "29154d15-34ed-4559-bdaa-8abe6d41d2a7",
   "metadata": {},
   "outputs": [
    {
     "data": {
      "text/plain": [
       "[<matplotlib.lines.Line2D at 0x7fbcea94dd30>]"
      ]
     },
     "execution_count": 15,
     "metadata": {},
     "output_type": "execute_result"
    },
    {
     "data": {
      "image/png": "[encoded data removed]",
      "text/plain": [
       "<Figure size 432x288 with 1 Axes>"
      ]
     },
     "metadata": {
      "needs_background": "light"
     },
     "output_type": "display_data"
    }
   ],
   "source": [
    "plt.plot(x, square(1, 759))"
   ]
  },
  {
   "cell_type": "code",
   "execution_count": null,
   "id": "9fb886cb-90cc-4fb1-93a5-cadfb6a15ff7",
   "metadata": {},
   "outputs": [],
   "source": [
    "#!/usr/bin/env python\n",
    "\n",
    "\"\"\"real_time_voice_changer.py: As the name indicates, this code changes your voice in realtime\"\"\"\n",
    "\n",
    "__author__      = \"Adharsh Sabukumar\"\n",
    "\n",
    "\n",
    "\n",
    "import pyaudio\n",
    "import sys\n",
    "import numpy as np\n",
    "import wave\n",
    "import audioop\n",
    "import struct\n",
    "import scipy.fftpack as fft\n",
    "\n",
    "chunk = 253 * 3\n",
    "FORMAT = pyaudio.paInt16\n",
    "CHANNELS = 1\n",
    "RATE = 41000\n",
    "RECORD_SECONDS = 5\n",
    "\n",
    "p = pyaudio.PyAudio()\n",
    "\n",
    "stream = p.open(format = FORMAT,\n",
    "                channels = CHANNELS,\n",
    "                rate = RATE,\n",
    "                input = True,\n",
    "                output = True,\n",
    "                frames_per_buffer = chunk)\n",
    "swidth = 2\n",
    "\n",
    "y = 2**4*square(4, chunk)\n",
    "\n",
    "while(True):\n",
    "\n",
    "    data = stream.read(chunk, exception_on_overflow = False)\n",
    "    data_length = len(data)\n",
    "    data = np.array(wave.struct.unpack(\"%dh\"%(data_length/swidth), data))\n",
    "    data_length = data_length//swidth\n",
    "\n",
    "    data = np.multiply(y,data).astype(np.int16)\n",
    "\n",
    "    #print(data)\n",
    "\n",
    "    chunkout = struct.pack(\"%dh\"%(data_length), *list(data)) #convert back to 16-bit data\n",
    "    stream.write(chunkout, chunk)\n",
    "\n",
    "\n",
    "print (\"* done\")\n",
    "\n",
    "stream.stop_stream()\n",
    "stream.close()\n",
    "p.terminate()\n"
   ]
  },
  {
   "cell_type": "markdown",
   "id": "18c76397-487d-4cf8-9344-ebabd13aa6b5",
   "metadata": {},
   "source": [
    "The square wave I used in this one seemed to produce a much muddier output than the sine wave. Not sure if it was picking up a lot of noise or what, but definetely a different output."
   ]
  },
  {
   "cell_type": "markdown",
   "id": "495ac82c-be3c-419f-adf7-5e35e2906e56",
   "metadata": {},
   "source": [
    "### <span style=\"color:red\"> Exercise 6</span>\n",
    "\n",
    "How does [Real_time_voice_changer.py](https://github.com/TheDataScienceLabs/DSLab_Fourier/blob/main/book/labs/modulation/voice_changer/real_time_voice_changer.py) perform when you:\n",
    "1. increase the frequency of the input altering wave?\n",
    "2. decrease the frequency of the input altering wave?\n"
   ]
  },
  {
   "cell_type": "markdown",
   "id": "4994b22b-da57-4d89-ac65-dccc4a80a1d9",
   "metadata": {},
   "source": [
    "1. when I increase the frequency of the modulation wave the output becomes increasingly harder to make out. It almost sounds like all the sounds are getting squished together and output quicker.\n",
    "2. As I decrease the frequency of the altering wave, I can make out the input sounds but can also tell they have been modulated."
   ]
  },
  {
   "cell_type": "markdown",
   "id": "0695ff27-4c68-434a-8ff7-29b58db2afaf",
   "metadata": {},
   "source": [
    "## <span style=\"color:green;\"> Reflection </span>\n",
    "\n",
    "Do not skip this section! Lab will be graded only on completion of this section.\n",
    "\n",
    "__1. What parts of the lab, if any, do you feel you did well? <br>\n",
    "2. What are some things you learned today? <br>\n",
    "3. Are there any topics that could use more clarification? <br>\n",
    "4. Do you have any suggestions on parts of the lab to improve?__\n",
    "\n",
    "<h3 style=\"background-color:lightblue\"> Write Answers for the Reflection Below </h3>"
   ]
  },
  {
   "cell_type": "markdown",
   "id": "c1aca601-30d3-4cdf-8ce1-752068c0a47e",
   "metadata": {},
   "source": [
    "1. I think I was able to modify the given code pretty well to accomplish the tasks that were asked.\n",
    "2. I learned the general relationship between modulated waveforms and their inputs, as well as how to build real time audio processors.\n",
    "3. I think maybe the code was a little advanced but I'd like to know more about how the real time processing is accomplished.\n",
    "4. NOt necessarily, this one was nice and fun to play with."
   ]
  },
  {
   "cell_type": "code",
   "execution_count": null,
   "id": "63c5bab1-b517-4e59-85b6-3aaaf4e6b572",
   "metadata": {},
   "outputs": [],
   "source": []
  }
 ],
 "metadata": {
  "kernelspec": {
   "display_name": "Python 3 (ipykernel)",
   "language": "python",
   "name": "python3"
  },
  "language_info": {
   "codemirror_mode": {
    "name": "ipython",
    "version": 3
   },
   "file_extension": ".py",
   "mimetype": "text/x-python",
   "name": "python",
   "nbconvert_exporter": "python",
   "pygments_lexer": "ipython3",
   "version": "3.9.0"
  }
 },
 "nbformat": 4,
 "nbformat_minor": 5
}
