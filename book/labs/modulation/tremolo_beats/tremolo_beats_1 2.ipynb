{
 "cells": [
  {
   "cell_type": "markdown",
   "id": "2ea9fafa-555c-4c04-bc6a-1e9da6ec6c3b",
   "metadata": {},
   "source": [
    "# Week 6: Tremolo/Beats Effects 1\n",
    "\n",
    "<font size=\"6\"> Laboratory 5 </font> <br>\n",
    "<font size=\"3\"> Last updated February 17, 2023 </font>"
   ]
  },
  {
   "cell_type": "markdown",
   "id": "78a0c3ce-2459-4c5c-a060-2f04541d6235",
   "metadata": {},
   "source": [
    "## <span style=\"color:orange;\"> 00. Content </span>\n",
    "\n",
    "### Mathematics \n",
    "- Laws of sines/cosines\n",
    "    \n",
    "### Programming Skills \n",
    "- Type here\n",
    "    \n",
    "### Embedded Systems \n",
    "- N/A\n",
    "\n",
    "## <span style=\"color:orange;\"> 0. Required Hardware </span>\n",
    "- N/A"
   ]
  },
  {
   "cell_type": "markdown",
   "id": "2625002a-cd73-492d-9bb2-da6a7fd048e6",
   "metadata": {},
   "source": [
    "<h3 style=\"background-color:lightblue\"> Write your name and email below: </h3>\n",
    "\n",
    "**Name:** me \n",
    "\n",
    "**Email:** me @purdue.edu"
   ]
  },
  {
   "cell_type": "code",
   "execution_count": 7,
   "id": "4f15c739-1b47-45e4-9e95-9df04c4e4124",
   "metadata": {},
   "outputs": [],
   "source": [
    "import numpy as np"
   ]
  },
  {
   "cell_type": "markdown",
   "id": "5098e476-3355-4800-afd7-50a37ecb4e88",
   "metadata": {},
   "source": [
    "# <span style=\"color:orange;\"> 1. Introduction to Amplitude Modulation </span>  "
   ]
  },
  {
   "cell_type": "markdown",
   "id": "527bceb0-191e-42b2-9990-4e2f41f631d7",
   "metadata": {},
   "source": [
    "Amplitude modulation is the process of multiplying a CT signal by a another signal $c(t)$ called a \"carrier.\"  \n",
    "If the signal is denoted by $x(t)$, then the modulated signal $y(t)$ is given by \n",
    "\n",
    "$$y(t)=x(t)c(t).$$\n",
    "\n",
    "For example, we can modulate a signal $x(t)$ using a cosine carrier $c(t)=\\cos (2 \\pi f_0 t) $ with frequency $f_0$. Then the modulated signal $y(t)$ is given by\n",
    "\n",
    "$$ y(t)=x(t) \\cos (2 \\pi f_0 t) .$$\n",
    " "
   ]
  },
  {
   "cell_type": "markdown",
   "id": "4de2df2a-c2be-4633-9d31-494df18c64cd",
   "metadata": {},
   "source": [
    "As you may have learned in your companion course (e.g. ECE301), periodic carriers play a special role in signal processing as they can be used to shift the frequencies of a signal. This is because of the multiplication property of the Fourier transform/series.  We will come back to the idea of shifting frequencies at the end of this lab. But first, let us explore a fun and intuitive effect that can be created with amplitude modulation: the tremolo effect (also called \"beat effect\").  "
   ]
  },
  {
   "cell_type": "markdown",
   "id": "5704a83f-1fa9-4ed5-8535-6b8c6e5bb6a3",
   "metadata": {},
   "source": [
    "# <span style=\"color:orange;\">  2. The Tremolo Effect </span> "
   ]
  },
  {
   "cell_type": "markdown",
   "id": "e15e6e41-edc9-4c47-9d4c-672ac27bf262",
   "metadata": {},
   "source": [
    "When the frequency of the carrier $c(t)$ is low, more specifically when it is below the audible range (the audible range is about 20Hz to 20KHz), then modulation creates a \"tremolo\" effect\" on the original signal. This is something you can hear if $x(t)$ is an audio signal. It sounds like one is turning the volume up and down, periodically. Let's try it out!"
   ]
  },
  {
   "cell_type": "markdown",
   "id": "5fe67fde-21b9-4ad6-9efb-d85b568314d3",
   "metadata": {},
   "source": [
    "## Modulation with Sine Wave Exercises "
   ]
  },
  {
   "cell_type": "markdown",
   "id": "72a4086d-c765-43f1-857d-1250bf318e89",
   "metadata": {},
   "source": [
    "### <span style=\"color:red\"> Exercise 1 </span>\n",
    "\n",
    "Let $x(t)= \\sin 2 \\pi 440 t$ (this is a middle A). Play it. Now consider the carrier $c(t)=\\cos (2 \\pi f_0 t )$ with $f_0=2 Hz$. Play the modulated sound $y(t)= x(t) c(t).$"
   ]
  },
  {
   "cell_type": "code",
   "execution_count": null,
   "id": "8598ad5b-8cca-487a-9ff9-4a58ab42b749",
   "metadata": {},
   "outputs": [],
   "source": []
  },
  {
   "cell_type": "markdown",
   "id": "f18a0db8-6d2b-4e21-a1f3-f90ad8b203f9",
   "metadata": {},
   "source": [
    "### <span style=\"color:red\"> Exercise 2 </span>\n",
    "\n",
    "Change the frequency $f_0$. Compare what happens when the frequency is very low (<20Hz) and when it is very high (20-20kHZ)."
   ]
  },
  {
   "cell_type": "code",
   "execution_count": null,
   "id": "5d4477d6-e5b3-4b1b-b865-f1e4584f560b",
   "metadata": {},
   "outputs": [],
   "source": []
  },
  {
   "cell_type": "markdown",
   "id": "3d90c785-6daa-4f46-96d3-cb0962259e1f",
   "metadata": {},
   "source": [
    "### <span style=\"color:red\"> Exercise 3 </span>\n",
    "\n",
    "Create a sine wave of frequency 220Hz, and modulate it with $c(t)=\\cos (2 \\pi f_0 t )$ "
   ]
  },
  {
   "cell_type": "code",
   "execution_count": null,
   "id": "89a0d3eb-da4b-40ff-b17b-2d49d2c23fb5",
   "metadata": {},
   "outputs": [],
   "source": []
  },
  {
   "cell_type": "markdown",
   "id": "ad380e02-fd3a-4b00-9780-79df1d6802c7",
   "metadata": {},
   "source": [
    "## Modulation with Triangular Wave Exercises "
   ]
  },
  {
   "cell_type": "markdown",
   "id": "8d906246-779c-491f-8e47-b25492b84925",
   "metadata": {},
   "source": [
    "### <span style=\"color:red\"> Exercise 4 </span>\n",
    "\n",
    "Create a periodic triangular wave with frequency of 3 Hz. The area of each triangle should be equal to one. Play the triangular wave. Change the triagular wave frequency and play the resulting modulated sound. "
   ]
  },
  {
   "cell_type": "code",
   "execution_count": null,
   "id": "7f84baa9-a4dc-4c28-bf5d-b2483ccc0d24",
   "metadata": {},
   "outputs": [],
   "source": []
  },
  {
   "cell_type": "markdown",
   "id": "e3a23510-3d47-448e-bf26-9d2ca3a11c18",
   "metadata": {},
   "source": [
    "### <span style=\"color:red\"> Exercise 5 </span>\n",
    "\n",
    "Modulate a middle A with the triangular wave you created in the previous exercise. Play the modulated sound. Change the triagular wave frequency and play the resulting modulated sound. Compare what happens when the frequency is very low (<20Hz) and when it is very high (20-20kHZ)."
   ]
  },
  {
   "cell_type": "code",
   "execution_count": null,
   "id": "32be704f-5b13-4b4b-9fef-86e14cc12ec9",
   "metadata": {},
   "outputs": [],
   "source": []
  },
  {
   "cell_type": "markdown",
   "id": "f3a093cf-efaa-4a80-bace-a4cdfc1d44c4",
   "metadata": {},
   "source": [
    "## Modulation with Square Wave Exercises"
   ]
  },
  {
   "cell_type": "markdown",
   "id": "abc64acb-61da-42a7-b457-395dcce9a87a",
   "metadata": {},
   "source": [
    "### <span style=\"color:red\"> Exercise 6 </span>\n",
    "\n",
    "Create a periodic square wave with frequency of 3 Hz. The square should occupy half of the period. Play the square wave."
   ]
  },
  {
   "cell_type": "code",
   "execution_count": null,
   "id": "acabc6f9-53c4-4011-8ddc-71b1b81eba2a",
   "metadata": {},
   "outputs": [],
   "source": []
  },
  {
   "cell_type": "markdown",
   "id": "3008c1d7-34b4-4d71-8375-56f0c61ef921",
   "metadata": {},
   "source": [
    "### <span style=\"color:red\"> Exercise 7 </span>\n",
    "\n",
    "Modulate a middle A with the square wave you created in the previous exercise. Play the modulated sound."
   ]
  },
  {
   "cell_type": "code",
   "execution_count": null,
   "id": "83339223-2363-452c-bd31-d12359396604",
   "metadata": {},
   "outputs": [],
   "source": []
  },
  {
   "cell_type": "markdown",
   "id": "e5d2ae9a-a3eb-4dd9-9089-0da9c495bd6d",
   "metadata": {},
   "source": [
    "# <span style=\"color:orange;\">  3. The Math Behind Multiplication by a Periodic Carrier </span> "
   ]
  },
  {
   "cell_type": "markdown",
   "id": "74ae8428-be08-4a2c-b7fc-d5f9bf55f85a",
   "metadata": {},
   "source": [
    "Because of the properties of complex exponentials, multiplying a signal by a periodic carrier signal results in changing the frequencies of the components of the signal."
   ]
  },
  {
   "cell_type": "markdown",
   "id": "f36a8104-4a0c-415e-801b-2fadc58dde39",
   "metadata": {},
   "source": [
    "For example, multiplying two sine wave together is the same as adding a wave at their average frequency and a wave at their frequency difference. "
   ]
  },
  {
   "cell_type": "markdown",
   "id": "f68bd431-8125-4757-b7c9-97a90b1478bb",
   "metadata": {},
   "source": [
    "Indeed, we have \n",
    "\n",
    "$$ \\sin\\left(  2 \\pi f_1 t \\right) \\sin \\left( 2 \\pi f_2 t \\right) = \\frac{1}{2}\\cos \\left( 2 \\pi (f_1-f_2) t \\right) - \\frac{1}{2}\\cos \\ \\left( 2 \\pi (f_1+f_2) t \\right).$$\n"
   ]
  },
  {
   "cell_type": "markdown",
   "id": "e94c7aaa-c8a7-476c-829d-935bee2e134c",
   "metadata": {},
   "source": [
    "In other words, the frequency $f_1$  in the signal $\\sin \\left( 2\\pi f_1 t\\right)$ is divided into two components which are \"shifted\" to new frequencies on either sides of $f_1$; the extent of the shift is given by the carrier frequency $f_2$.  \n"
   ]
  },
  {
   "cell_type": "code",
   "execution_count": null,
   "id": "66b63731-87fb-4e9e-89c4-eb1c4823e6ae",
   "metadata": {},
   "outputs": [],
   "source": []
  },
  {
   "cell_type": "markdown",
   "id": "3a974965-8139-4747-8662-d1455aa8e010",
   "metadata": {},
   "source": [
    "### <span style=\"color:red\"> Exercise 8 </span>\n",
    "\n",
    "Prove the above formula. Hint: Transform the sines into complex exponentials."
   ]
  },
  {
   "cell_type": "markdown",
   "id": "b469ed4f-bbc9-4df0-91d5-302c40bcd498",
   "metadata": {},
   "source": []
  },
  {
   "cell_type": "markdown",
   "id": "c759a65c-78d0-461e-b746-5f3d606fe750",
   "metadata": {},
   "source": [
    "## <span style=\"color:green;\"> Reflection </span>\n",
    "\n",
    "Do not skip this section! Lab will be graded only on completion of this section.\n",
    "\n",
    "__1. What parts of the lab, if any, do you feel you did well? <br>\n",
    "2. What are some things you learned today? <br>\n",
    "3. Are there any topics that could use more clarification? <br>\n",
    "4. Do you have any suggestions on parts of the lab to improve?__\n",
    "\n",
    "<h3 style=\"background-color:lightblue\"> Write Answers for the Reflection Below </h3>"
   ]
  },
  {
   "cell_type": "code",
   "execution_count": null,
   "id": "80f2b458-2926-4f78-bb1b-94a961949ad1",
   "metadata": {},
   "outputs": [],
   "source": []
  }
 ],
 "metadata": {
  "kernelspec": {
   "display_name": "Python 3",
   "language": "python",
   "name": "python3"
  },
  "language_info": {
   "codemirror_mode": {
    "name": "ipython",
    "version": 3
   },
   "file_extension": ".py",
   "mimetype": "text/x-python",
   "name": "python",
   "nbconvert_exporter": "python",
   "pygments_lexer": "ipython3",
   "version": "3.8.8"
  }
 },
 "nbformat": 4,
 "nbformat_minor": 5
}
