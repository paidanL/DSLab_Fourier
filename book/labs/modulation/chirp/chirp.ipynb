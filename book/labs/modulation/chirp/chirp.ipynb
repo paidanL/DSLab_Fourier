{
 "cells": [
  {
   "cell_type": "markdown",
   "id": "02217769-474e-4ff7-8c94-46b7cdccdd95",
   "metadata": {},
   "source": [
    "# Week 9: Chirps, Bells, and other Instruments\n",
    "\n",
    "<font size=\"6\"> Laboratory 8 </font> <br>\n",
    "<font size=\"3\"> Last updated March 6, 2023 </font>"
   ]
  },
  {
   "cell_type": "markdown",
   "id": "a570c6ee-997b-46e9-aee1-7453466401e4",
   "metadata": {},
   "source": [
    "## <span style=\"color:orange;\"> 00. Content </span>\n",
    "\n",
    "### Mathematics \n",
    "- Laws of sines/cosines\n",
    "    \n",
    "### Programming Skills \n",
    "- Type here\n",
    "    \n",
    "### Embedded Systems \n",
    "- N/A\n",
    "\n",
    "## <span style=\"color:orange;\"> 0. Required Hardware </span>\n",
    "- N/A"
   ]
  },
  {
   "cell_type": "markdown",
   "id": "0d294711-3497-4cfd-bef9-ea4d91638641",
   "metadata": {},
   "source": [
    "<h3 style=\"background-color:lightblue\"> Write your name and email below: </h3>\n",
    "\n",
    "**Name:** me \n",
    "\n",
    "**Email:** me @purdue.edu"
   ]
  },
  {
   "cell_type": "code",
   "execution_count": 7,
   "id": "bcca2f33-8392-4a1b-a882-91dc520607ad",
   "metadata": {},
   "outputs": [],
   "source": [
    "import numpy as np"
   ]
  },
  {
   "cell_type": "markdown",
   "id": "6865af46-07b3-461f-bd67-1a780bf7f597",
   "metadata": {},
   "source": [
    "# <span style=\"color:orange;\"> 1. More on Amplitude Modulation: bell envelopes </span>  "
   ]
  },
  {
   "cell_type": "markdown",
   "id": "bfdcc703-827c-4eae-9105-e9a33ff66dd8",
   "metadata": {},
   "source": [
    "In the last couple of labs, we have explored the modulation of a signal by multiplying it with a periodic signal, such as a sine wave or a triangular wave. We have explored how this changes the sound by listening to it. It was observed that, when the frequency of the carrier is low compared to that of the sound, modulating a sound is perceived as a periodical increase/decrease of the volume of the sound. Mathematically, we say that such modulation modifies the \"envelop\" of the signal. The envelop of a signal represents the maximal/minimal values between which the signal oscillates over time. (Yeah, his is not very precise, but giving a precise mathematical definition would just be sonfusing at this point. -pm) So amplitude modulation, which as the name indicates changes the amplitude of the signal, naturally changes the envelop of the signal. When the carrier value is very small at some point in time, the amplitude of the modulated signal is decreased, thus making the sound less loud at that moment. Conversely, if the carrier value is very large at some point in time, the amplitude of the modulated signal is decreased, thus making the sound louder at that moment. "
   ]
  },
  {
   "cell_type": "markdown",
   "id": "caac3096-f3e7-4f85-afb0-a598737f1f5b",
   "metadata": {},
   "source": [
    "This visualization can inspire some more creative ways to modify a sound. A fun example is created using \"bell envelops\" $ c(t) = e^{-t/\\lambda}$,  $\\lambda >0$, which decays the amplitude of the sound in an interesting fashion. The parameter $\\lambda$ is called the \"time constant\" and controls the speed of the decay: the larger $\\lambda$, the faster the decay. So to recap: when a signal $x(t)$ is modulated by a bell envelop, the modulated signal $y(t)$ is given by\n",
    "\n",
    "$$  y(t)= e^{-t/\\lambda} x(t), \\text{ for some time constant } \\lambda >0. $$"
   ]
  },
  {
   "cell_type": "markdown",
   "id": "f645687c-f51b-4d8d-b3b7-cdec5f4c4e8b",
   "metadata": {},
   "source": [
    "### <span style=\"color:red\"> Exercise 1 </span>\n",
    "\n",
    "Create a middle C sound that lasts one second. You can use your prefered wave shape (sine, triangular, square, etc.) to first create a middle C. Then modulate your middle C using a bell envelop. Experiment with different values of $\\lambda$ and notice how this affects the final sound. "
   ]
  },
  {
   "cell_type": "code",
   "execution_count": null,
   "id": "481db98a-ea23-47a3-a630-5669c6b70c27",
   "metadata": {},
   "outputs": [],
   "source": []
  },
  {
   "cell_type": "markdown",
   "id": "a2530581-d690-494c-9f14-38377d96b58c",
   "metadata": {},
   "source": [
    "### <span style=\"color:red\"> Exercise 2 </span>"
   ]
  },
  {
   "cell_type": "markdown",
   "id": "fa053806-9ff0-4eac-a57b-6b8cee0a71a1",
   "metadata": {},
   "source": [
    "Pick a value of $\\lambda$, and then create an entire scale of notes that sound like bells. Use your scale to play a short song. (no need to be a fancy song, just do-re-mi-fa-so-la-ti-do is enough, But if you feel creative, go for it!)"
   ]
  },
  {
   "cell_type": "code",
   "execution_count": null,
   "id": "d945905c-b0cf-4c57-adcb-dedc6fb53473",
   "metadata": {},
   "outputs": [],
   "source": []
  },
  {
   "cell_type": "markdown",
   "id": "4ffb1611-1e5d-44b9-8290-2b7f60f1fd0a",
   "metadata": {},
   "source": [
    "Despite the name of the envelop you used, the sounds you create do not quite sound like bells. In order to create bell sounds, we will need to use more than one sine wave frequency. So we move on to the next topic: frequency modulation. "
   ]
  },
  {
   "cell_type": "markdown",
   "id": "13cd575b-a4f2-4bae-a9e7-e4d2409e8457",
   "metadata": {},
   "source": [
    "# <span style=\"color:orange;\"> 2. Frequency Modulation: Chirps (linearly swept frequency) </span>  "
   ]
  },
  {
   "cell_type": "markdown",
   "id": "e505325c-be10-46f3-8f4e-5868c5f73f47",
   "metadata": {},
   "source": [
    "We have explored different ways to modulate the amplitude of a signal, i.e. Amplitude Modulation (AM). One can also also modulate the frequency of a signal, i.e. Frequency Modulation (FM). If $x($) is a single sine wave \n",
    "\n",
    "$$ x(t) = C \\cos(2\\pi f_0 t + \\phi) \\text{ for some } C, f_0, \\phi \\in {\\mathbb R} ,$$\n",
    "\n",
    "then, after frequency modulation, the modulated signal $y(t)$ can be written as\n",
    "\n",
    "$$ y(t)= C \\cos( \\psi_{f_0, \\phi} (t) )$$\n",
    "\n",
    "\n",
    "for some  function $\\psi_{f_0, \\phi}(t)$ depending on $f_0$ and $\\phi$ ."
   ]
  },
  {
   "cell_type": "markdown",
   "id": "a0f9d415-5976-470a-8504-9e9b2f55b6db",
   "metadata": {},
   "source": [
    "The instanteneous frequency at time $t$ of a signal of the form  $ y(t)= C \\cos( \\psi_{f_0, \\phi} (t) )$ is given by the derivative of $\\psi_{f_0, \\phi}(t)$ divided by $2\\pi$:\n",
    "    \n",
    "$$ f(t)= \\frac{1}{2\\pi} \\frac{d \\psi_{f_0, \\phi}(t) }{dt}.$$"
   ]
  },
  {
   "cell_type": "markdown",
   "id": "c8ad622f-aeb4-43e2-8c3b-3e87298f9b23",
   "metadata": {},
   "source": [
    "In particular, the instanteneous frequency $f(t)$ of the original signal $ x(t) = C \\cos(2\\pi f_0 t + \\phi) $ is a constant:\n",
    "\n",
    "$$ f(t)=  \\frac{1}{2\\pi}  \\frac{d  \\left( 2\\pi f_0 t + \\phi \\right) }{dt}= f_0.$$"
   ]
  },
  {
   "cell_type": "markdown",
   "id": "f5bed91f-77f3-4fe5-a496-145d90ad6819",
   "metadata": {},
   "source": [
    "Now if we modulate the signal using the quadratic function $\\psi_{f_0,\\phi}= 2\\pi a t^2 + 2\\pi f_0 t + \\phi $ with $a\\neq 0$, then the instantenous frequency of the modulated signal varies linearly with time:\n",
    "\n",
    "$$ f(t)= \\frac{1}{2\\pi}  \\frac{d  \\left(2\\pi a t^2 + 2\\pi f_0 t + \\phi \\right) }{dt}= 2at+f_0.$$\n",
    "\n",
    "So the frequency of the modulated signal begins at $f_0$ at time $t=0$, and increases/decreases linearly at a rate (slope) of $2a$ per time unit. The sound produced by such a signal is similar to a bird chirp, hence the name \"chirp\"."
   ]
  },
  {
   "cell_type": "markdown",
   "id": "2959b108-25bb-4f15-ac33-4d2fd9f1ffc4",
   "metadata": {},
   "source": [
    "### <span style=\"color:red\"> Exercise 3 </span>\n",
    "\n",
    "Create a chirp lasting 0.5 seconds with parameters $f_0=252$ and $\\phi=0$. Experiment with different values of $a$.  "
   ]
  },
  {
   "cell_type": "code",
   "execution_count": null,
   "id": "1cd5b980-b1b6-4977-a0b5-ee71da320521",
   "metadata": {},
   "outputs": [],
   "source": []
  },
  {
   "cell_type": "markdown",
   "id": "fa68d899-8071-4142-973b-e84f05854214",
   "metadata": {},
   "source": [
    "### <span style=\"color:red\"> Exercise 4 </span>\n",
    "\n",
    "Repeat Exercise 3, but this time begin your chirp at $t=-0.25$ and end it at $1=-.25$. What difference do you notice?"
   ]
  },
  {
   "cell_type": "code",
   "execution_count": null,
   "id": "346c92df-17cf-44de-9d61-e84c3aadbed6",
   "metadata": {},
   "outputs": [],
   "source": []
  },
  {
   "cell_type": "markdown",
   "id": "6c9f8f89-6126-4890-a4ee-5672b68a7acf",
   "metadata": {},
   "source": [
    "### <span style=\"color:red\"> Exercise 5 </span>\n",
    "\n",
    "Based on Exercise 3 and Exercise 4, how would you go about creating a chirp that sounds like a middle C? Explain your strategy and code it to check that it works. "
   ]
  },
  {
   "cell_type": "code",
   "execution_count": null,
   "id": "ac48f945-abe3-4bf1-9d8f-44501c0c5565",
   "metadata": {},
   "outputs": [],
   "source": []
  },
  {
   "cell_type": "markdown",
   "id": "33041fd9-8613-4a94-9d20-44e73a0d8521",
   "metadata": {},
   "source": [
    "### <span style=\"color:red\"> Exercise 6 </span>\n",
    "\n",
    "Similarly to Exercise 2, create an entire scale of notes that sound like chirps. Use your scale to play a short song. (It can be the same song as for Exercise 2.)"
   ]
  },
  {
   "cell_type": "code",
   "execution_count": null,
   "id": "70e36596-e9f8-4f67-acb5-2c8d47390c68",
   "metadata": {},
   "outputs": [],
   "source": []
  },
  {
   "cell_type": "markdown",
   "id": "36fd67cd-6307-40b0-96d8-e9ef55d5e69e",
   "metadata": {},
   "source": [
    "# <span style=\"color:orange;\"> 3. Putting it all together: Synthesis of Bells and other Music Instruments </span>  "
   ]
  },
  {
   "cell_type": "markdown",
   "id": "40d049a0-f166-41b2-a787-2b6f5abd81fa",
   "metadata": {},
   "source": [
    "The previous examples have taught you how to sunthesize a bell sound and a chirp using basic operations on the frequency and amplitude of a periodic signal. Hopefully, you have developed a bit of an intuition on how these simple operations change the sound you hear. Now we generalize these so to be able to synthesize more general music instruments. Following the technique proposed by Stanford Professor John Chowning in 1973, the general equation we will use for the sound of the instrument (one note) is\n",
    "\n",
    "$$ y(t)= A(t)   $$\n",
    "\n",
    "YOu will recognizew the factor A(t) in front, which controls the envelop of the signal, as in amplitude modulation. YOu will also recognive the \n",
    "\n",
    "\n",
    "In general the modulation of a signal $x(t)$ can be written as \n",
    "\n",
    "$$y(t)= A(t) \\cos \\left[ 2 \\pi f_0 t + B(t) \\cos \\left( 2\\pi f_1 t + \\psi_1 \\right)+\\psi_0  \\right].  $$\n",
    "\n",
    "The function A(t) modifies the envelop of x(t), and as we have seen previously, can take on different forms (e.g. periodic, exponential, etc.). \n",
    "To understand the rest of the expression, we compute the instantenous frequency of $y(t)$:\n",
    "\n",
    "\\begin{align}\n",
    "f(t) & = \\frac{1}{2\\pi}\\frac{d}{dt} \\left(  2 \\pi f_0 t + B(t) \\cos \\left( 2\\pi f_1 t + \\psi_1 \\right)+\\psi_0\\right),\\\\\n",
    "& =  f_0 - B(t) f_1 \\sin \\left( 2 \\pi f_1 t + \\psi_1 \\right) + \\frac{1}{2\\pi} B'(t) \\cos \\left( 2\\pi f_1 t + \\psi_1 \\right).\n",
    "\\end{align}\n"
   ]
  },
  {
   "cell_type": "markdown",
   "id": "58afac3f-51ef-46a3-95ad-abd894cc7757",
   "metadata": {},
   "source": [
    "So the frequency of $y(t)$ changes with time based on the value of $f_1$, called the modulating frequency, and the function $B(t)$, called the (frequency) modulation index envelop. For example, one can create a vibrato around the frequency $f_0$ using the frequency $f_1$. The function $B(t)$ is used to control what other frequency components are present in the signal. In future lab, we will learn how to analyze these frequency components using the DFT. For now, let's just have some fun and use this model to create a cool music instruments.    "
   ]
  },
  {
   "cell_type": "markdown",
   "id": "260ee9d3-6f82-4611-8827-3f447b18fdee",
   "metadata": {},
   "source": [
    "### <span style=\"color:red\"> Exercise 7 </span> (Ref: DSP First, a Multimedia approach, p. 451)\n",
    "\n",
    "Create a bell sounds using the following parameters:\n",
    "\n",
    "$$ A(t) = e^{\\frac{-t}{\\lambda}}, B(t)= B_0 e^{\\frac{-t}{\\lambda}},  f_1= 2 f_0, $$\n",
    "\n",
    "\n",
    "with either\n",
    "\n",
    "a)  $f_0=110$, $B_0=10$, $\\lambda=2$, duration  6 seconds \n",
    "\n",
    "or \n",
    "\n",
    "b)  $f_0=210$, $B_0=5$, $\\lambda=2$, duration  6 seconds \n",
    "\n",
    "or \n",
    "\n",
    "c)  $f_0=110$, $B_0=10$, $\\lambda=12$, duration  3 seconds \n"
   ]
  },
  {
   "cell_type": "markdown",
   "id": "90180068-a149-48be-92dc-d41184ca2600",
   "metadata": {},
   "source": [
    "# <span style=\"color:orange;\"> 4. Update your synthesizer </span>"
   ]
  },
  {
   "cell_type": "markdown",
   "id": "f4f493b9-5c0e-4dd4-b192-58c89151e5b7",
   "metadata": {},
   "source": [
    "### <span style=\"color:red\"> Exercise 8 </span>"
   ]
  },
  {
   "cell_type": "markdown",
   "id": "852725b0-4efe-4836-90fa-6f9cd8cbebab",
   "metadata": {},
   "source": [
    "Now that you know how create cool sounds, modify the synthesizer you built in Lab 2, and make it play your own unique notes. You can use the previously synthesized bells or chirps, or create your own personal combination of parameters.\n",
    "\n",
    "When you are done, show it to your instructor. "
   ]
  },
  {
   "cell_type": "code",
   "execution_count": null,
   "id": "22e26aae-be14-432e-948b-3037146b8ca4",
   "metadata": {},
   "outputs": [],
   "source": []
  }
 ],
 "metadata": {
  "kernelspec": {
   "display_name": "Python 3",
   "language": "python",
   "name": "python3"
  },
  "language_info": {
   "codemirror_mode": {
    "name": "ipython",
    "version": 3
   },
   "file_extension": ".py",
   "mimetype": "text/x-python",
   "name": "python",
   "nbconvert_exporter": "python",
   "pygments_lexer": "ipython3",
   "version": "3.8.8"
  }
 },
 "nbformat": 4,
 "nbformat_minor": 5
}
