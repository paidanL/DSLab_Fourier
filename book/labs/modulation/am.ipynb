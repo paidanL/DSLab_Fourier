{
 "cells": [
  {
   "cell_type": "markdown",
   "id": "2ea9fafa-555c-4c04-bc6a-1e9da6ec6c3b",
   "metadata": {},
   "source": [
    "# Week 6: Tremolo/Beats Effects \n",
    "\n",
    "<font size=\"6\"> Laboratory 5 </font> <br>\n",
    "<font size=\"3\"> Last updated February 9, 2023 </font>"
   ]
  },
  {
   "cell_type": "markdown",
   "id": "78a0c3ce-2459-4c5c-a060-2f04541d6235",
   "metadata": {},
   "source": [
    "## <span style=\"color:orange;\"> 00. Content </span>\n",
    "\n",
    "### Mathematics \n",
    "- Laws of sines/cosines\n",
    "    \n",
    "### Programming Skills \n",
    "- Type here\n",
    "    \n",
    "### Embedded Systems \n",
    "- N/A\n",
    "\n",
    "## <span style=\"color:orange;\"> 0. Required Hardware </span>\n",
    "- N/A"
   ]
  },
  {
   "cell_type": "markdown",
   "id": "2625002a-cd73-492d-9bb2-da6a7fd048e6",
   "metadata": {},
   "source": [
    "<h3 style=\"background-color:lightblue\"> Write your name and email below: </h3>\n",
    "\n",
    "**Name:** me \n",
    "\n",
    "**Email:** me @purdue.edu"
   ]
  },
  {
   "cell_type": "code",
   "execution_count": 7,
   "id": "4f15c739-1b47-45e4-9e95-9df04c4e4124",
   "metadata": {},
   "outputs": [],
   "source": [
    "import numpy as np"
   ]
  },
  {
   "cell_type": "markdown",
   "id": "5098e476-3355-4800-afd7-50a37ecb4e88",
   "metadata": {},
   "source": [
    "# <span style=\"color:orange;\"> 1. Introduction to Amplitude Modulation </span>  "
   ]
  },
  {
   "cell_type": "markdown",
   "id": "527bceb0-191e-42b2-9990-4e2f41f631d7",
   "metadata": {},
   "source": [
    "Amplitude modulation is the process of multiplying a CT signal by a another signal $c(t)$ called a \"carrier.\"  \n",
    "If the signal is denoted by $x(t)$, then the modulated signal $y(t)$ is given by \n",
    "\n",
    "$$y(t)=x(t)c(t).$$\n",
    "\n",
    "For example, we can modulate a signal $x(t)$ using a cosine carrier $c(t)=\\cos (2 \\pi f_0 t) $ with frequency $f_0$. Then the modulated signal $y(t)$ is given by\n",
    "\n",
    "$$ y(t)=x(t) \\cos (2 \\pi f_0 t) .$$\n",
    " "
   ]
  },
  {
   "cell_type": "markdown",
   "id": "4de2df2a-c2be-4633-9d31-494df18c64cd",
   "metadata": {},
   "source": [
    "As you may have learned in your companion course (e.g. ECE301), periodic carriers play a special role in signal processing as they can be used to shift the frequencies of a signal. This is because of the multiplication property of the Fourier transform/series.  We will come back to the idea of shifting frequencies at the end of this lab. But first, let us explore a fun and intuitive effect that can be created with amplitude modulation: the tremolo effect (also called \"beat effect\").  "
   ]
  },
  {
   "cell_type": "markdown",
   "id": "5704a83f-1fa9-4ed5-8535-6b8c6e5bb6a3",
   "metadata": {},
   "source": [
    "# <span style=\"color:orange;\">  2. The Tremolo Effect </span> "
   ]
  },
  {
   "cell_type": "markdown",
   "id": "e15e6e41-edc9-4c47-9d4c-672ac27bf262",
   "metadata": {},
   "source": [
    "When the frequency of the carrier $c(t)$ is low, more specifically when it is below the audible range (the audible range is about 20Hz to 20KHz), then modulation creates a \"tremolo\" effect\" on the original signal. This is something you can hear if $x(t)$ is an audio signal. It sounds like one is turning the volume up and down, periodically. Let's try it out!"
   ]
  },
  {
   "cell_type": "markdown",
   "id": "5fe67fde-21b9-4ad6-9efb-d85b568314d3",
   "metadata": {},
   "source": [
    "## Modulation with Sine Wave Exercises "
   ]
  },
  {
   "cell_type": "markdown",
   "id": "72a4086d-c765-43f1-857d-1250bf318e89",
   "metadata": {},
   "source": [
    "### <span style=\"color:red\"> Exercise 1 </span>\n",
    "\n",
    "Let $x(t)= \\sin 2 \\pi 440 t$ (this is a middle A). Play it. Now consider the carrier $c(t)=\\cos (2 \\pi f_0 t )$ with $f_0=2 Hz$. Play the modulated sound $y(t)= x(t) c(t).$"
   ]
  },
  {
   "cell_type": "code",
   "execution_count": null,
   "id": "8598ad5b-8cca-487a-9ff9-4a58ab42b749",
   "metadata": {},
   "outputs": [],
   "source": []
  },
  {
   "cell_type": "markdown",
   "id": "f18a0db8-6d2b-4e21-a1f3-f90ad8b203f9",
   "metadata": {},
   "source": [
    "### <span style=\"color:red\"> Exercise 2 </span>\n",
    "\n",
    "Change the frequency $f_0$. Compare what happens when the frequency is very low (<20Hz) and when it is very high (20-20kHZ)."
   ]
  },
  {
   "cell_type": "code",
   "execution_count": null,
   "id": "5d4477d6-e5b3-4b1b-b865-f1e4584f560b",
   "metadata": {},
   "outputs": [],
   "source": []
  },
  {
   "cell_type": "markdown",
   "id": "3d90c785-6daa-4f46-96d3-cb0962259e1f",
   "metadata": {},
   "source": [
    "### <span style=\"color:red\"> Exercise 3 </span>\n",
    "\n",
    "Record your voice, and modulate it with $c(t)=\\cos (2 \\pi f_0 t )$ "
   ]
  },
  {
   "cell_type": "code",
   "execution_count": null,
   "id": "89a0d3eb-da4b-40ff-b17b-2d49d2c23fb5",
   "metadata": {},
   "outputs": [],
   "source": []
  },
  {
   "cell_type": "markdown",
   "id": "ad380e02-fd3a-4b00-9780-79df1d6802c7",
   "metadata": {},
   "source": [
    "## Modulation with Triangular Wave Exercises "
   ]
  },
  {
   "cell_type": "markdown",
   "id": "8d906246-779c-491f-8e47-b25492b84925",
   "metadata": {},
   "source": [
    "### <span style=\"color:red\"> Exercise 4 </span>\n",
    "\n",
    "Create a periodic triangular wave with frequency of 3 Hz. The area of each triangle should be equal to one. Play the triangular wave. Change the triagular wave frequency and play the resulting modulated sound. "
   ]
  },
  {
   "cell_type": "code",
   "execution_count": null,
   "id": "7f84baa9-a4dc-4c28-bf5d-b2483ccc0d24",
   "metadata": {},
   "outputs": [],
   "source": []
  },
  {
   "cell_type": "markdown",
   "id": "e3a23510-3d47-448e-bf26-9d2ca3a11c18",
   "metadata": {},
   "source": [
    "### <span style=\"color:red\"> Exercise 5 </span>\n",
    "\n",
    "Modulate a middle A with the triangular wave you created in the previous exercise. Play the modulated sound. Change the triagular wave frequency and play the resulting modulated sound. Compare what happens when the frequency is very low (<20Hz) and when it is very high (20-20kHZ)."
   ]
  },
  {
   "cell_type": "code",
   "execution_count": null,
   "id": "32be704f-5b13-4b4b-9fef-86e14cc12ec9",
   "metadata": {},
   "outputs": [],
   "source": []
  },
  {
   "cell_type": "markdown",
   "id": "5bc67b16-8131-4ee2-a473-81ea95f8ac89",
   "metadata": {},
   "source": [
    "### <span style=\"color:red\"> Exercise 6 </span>\n",
    "\n",
    "Modulate the sound of your voise with the triangular wave and play the modulated sound Change the triagular wave frequency and play the resulting modulated sound. Compare what happens when the frequency is very low (<20Hz) and when it is very high (20-20kHZ)."
   ]
  },
  {
   "cell_type": "code",
   "execution_count": null,
   "id": "ef5a1973-2295-4a74-bff2-5d8c3c359fa1",
   "metadata": {},
   "outputs": [],
   "source": []
  },
  {
   "cell_type": "markdown",
   "id": "f3a093cf-efaa-4a80-bace-a4cdfc1d44c4",
   "metadata": {},
   "source": [
    "## Modulation with Square Wave Exercises"
   ]
  },
  {
   "cell_type": "markdown",
   "id": "abc64acb-61da-42a7-b457-395dcce9a87a",
   "metadata": {},
   "source": [
    "### <span style=\"color:red\"> Exercise 7 </span>\n",
    "\n",
    "Create a periodic square wave with frequency of 3 Hz. The square should occupy half of the period. Play the square wave."
   ]
  },
  {
   "cell_type": "code",
   "execution_count": null,
   "id": "acabc6f9-53c4-4011-8ddc-71b1b81eba2a",
   "metadata": {},
   "outputs": [],
   "source": []
  },
  {
   "cell_type": "markdown",
   "id": "3008c1d7-34b4-4d71-8375-56f0c61ef921",
   "metadata": {},
   "source": [
    "### <span style=\"color:red\"> Exercise 8 </span>\n",
    "\n",
    "Modulate a middle A with the square wave you created in the previous exercise. Play the modulated sound."
   ]
  },
  {
   "cell_type": "code",
   "execution_count": null,
   "id": "83339223-2363-452c-bd31-d12359396604",
   "metadata": {},
   "outputs": [],
   "source": []
  },
  {
   "cell_type": "markdown",
   "id": "c3b7a199-0c61-4e8f-8fff-655898730154",
   "metadata": {},
   "source": [
    "### <span style=\"color:red\"> Exercise 9 </span>\n",
    "\n",
    "Modulate the sound of your voise with the square wave and play the modulated sound."
   ]
  },
  {
   "cell_type": "code",
   "execution_count": null,
   "id": "c5ef1b11-d4cc-4c8b-a7cf-c6488edfb9a2",
   "metadata": {},
   "outputs": [],
   "source": []
  },
  {
   "cell_type": "markdown",
   "id": "de1de444-243b-48b8-a599-1259b8ab7046",
   "metadata": {},
   "source": [
    "## Create your own modulation effect"
   ]
  },
  {
   "cell_type": "markdown",
   "id": "f8e95607-014d-456a-8fc8-8154e9ae82e6",
   "metadata": {},
   "source": [
    "### <span style=\"color:red\"> Exercise 10 </span>\n",
    "\n",
    "Create the signal $x(t$ a recording of you saying \"B'Euler up!\". "
   ]
  },
  {
   "cell_type": "code",
   "execution_count": null,
   "id": "4d1b84b6-ad8c-49c9-9533-b465835489c1",
   "metadata": {},
   "outputs": [],
   "source": []
  },
  {
   "cell_type": "markdown",
   "id": "836d1975-3c49-4e4c-b1c9-44c93040e1ad",
   "metadata": {},
   "source": [
    "### <span style=\"color:red\"> Exercise 11 </span>\n",
    "\n",
    "Create an original periodic signal $c_1(t)$. Use it to modulate $x(t$ and play the resulting modulated signal. "
   ]
  },
  {
   "cell_type": "code",
   "execution_count": null,
   "id": "5e6ac83d-7de8-4805-b3c9-1a05d52cab31",
   "metadata": {},
   "outputs": [],
   "source": []
  },
  {
   "cell_type": "markdown",
   "id": "383460a8-6313-4f9f-89ae-7a38ad918063",
   "metadata": {},
   "source": [
    "### <span style=\"color:red\"> Exercise 12 </span>\n",
    "\n",
    "Create another original periodic signal  $c_2(t)$ with the same frequency as  $c_1(t)$. Use it to modulate $x(t$ and play the resulting modulated signal. "
   ]
  },
  {
   "cell_type": "code",
   "execution_count": null,
   "id": "6a2ea341-8fe1-4a8f-aa60-7d35fadf545f",
   "metadata": {},
   "outputs": [],
   "source": []
  },
  {
   "cell_type": "markdown",
   "id": "db6802cd-a727-43ba-b70d-9268f354806c",
   "metadata": {},
   "source": [
    "### <span style=\"color:red\"> Exercise 13 </span>\n",
    "\n",
    "Play the signal $x(t) c_1(t) c_2(t)$. Describe that signal. "
   ]
  },
  {
   "cell_type": "code",
   "execution_count": null,
   "id": "ad248929-4545-4336-8ae3-84a2cdca282e",
   "metadata": {},
   "outputs": [],
   "source": []
  },
  {
   "cell_type": "markdown",
   "id": "eff60e65-699f-4e98-8621-4ea190a60045",
   "metadata": {},
   "source": [
    "### <span style=\"color:red\"> Exercise 14 </span>\n",
    "\n",
    "Play the signal $x(t) (c_1(t) + c_2(t)) $. Describe that signal. "
   ]
  },
  {
   "cell_type": "code",
   "execution_count": null,
   "id": "24a4c909-b19f-4d54-b33e-3989283dc747",
   "metadata": {},
   "outputs": [],
   "source": []
  },
  {
   "cell_type": "markdown",
   "id": "c759a65c-78d0-461e-b746-5f3d606fe750",
   "metadata": {},
   "source": [
    "# <span style=\"color:orange;\">  3. The Math Behind Multiplication by a Periodic Carrier </span> "
   ]
  },
  {
   "cell_type": "markdown",
   "id": "b545aee4-aa5c-4bb0-825e-ad9589097b8e",
   "metadata": {},
   "source": [
    "Because of the properties of complex exponentials, multiplying a signal by a periodic carrier signal results in changing the frequencies of the components of the signal."
   ]
  },
  {
   "cell_type": "markdown",
   "id": "82caa974-327b-4c3b-9b64-8c16dd6e0535",
   "metadata": {},
   "source": [
    "For example, multiplying two sine wave together is the same as adding a wave at their average frequency and a wave at their frequency difference. "
   ]
  },
  {
   "cell_type": "markdown",
   "id": "e77e97c0-1c95-4fe2-a841-bfaf113bc4e8",
   "metadata": {},
   "source": [
    "Indeed, we have \n",
    "\n",
    "$$ \\sin\\left(  2 \\pi f_1 t \\right) \\sin \\left( 2 \\pi f_2 t \\right) = \\frac{1}{2}\\cos \\left( 2 \\pi (f_1-f_2) t \\right) - \\frac{1}{2}\\cos \\ \\left( 2 \\pi (f_1+f_2) t \\right).$$\n"
   ]
  },
  {
   "cell_type": "markdown",
   "id": "9e2642d3-61ff-4bb1-87c9-adddce9c51db",
   "metadata": {},
   "source": [
    "In other words, the frequency $f_1$  in the signal $\\sin \\left( 2\\pi f_1 t\\right)$ is divided into two components which are \"shifted\" to new frequencies on either sides of $f_1$; the extent of the shift is given by the carrier frequency $f_2$.  \n"
   ]
  },
  {
   "cell_type": "markdown",
   "id": "e43a4149-8a24-4c5c-9ff3-3b216553d836",
   "metadata": {},
   "source": [
    "### <span style=\"color:red\"> Exercise 15 </span>\n",
    "\n",
    "Prove the above formula. Hint: Transform the sines into complex exponentials."
   ]
  },
  {
   "cell_type": "code",
   "execution_count": null,
   "id": "b4cc0ddc-2279-4264-9aeb-01764a2fa923",
   "metadata": {},
   "outputs": [],
   "source": []
  },
  {
   "cell_type": "markdown",
   "id": "6b68c8be-8700-42bf-940b-8280b60de2d2",
   "metadata": {},
   "source": [
    "Now we will explore what happens when two periodic signals with a similar frequency are added together (right-hand-side of the equation), and use the formula above to interpret the result as an amplitude modulation."
   ]
  },
  {
   "cell_type": "markdown",
   "id": "8a60bf06-853c-40d6-82ff-b1a82d2223a2",
   "metadata": {},
   "source": [
    "# <span style=\"color:orange;\">  4. Instrument Tuning with \"beats\" </span> "
   ]
  },
  {
   "cell_type": "markdown",
   "id": "0739a13a-d396-4c06-ab34-96016313421e",
   "metadata": {},
   "source": [
    "Orchestra players are well familiar with the tremolo effect, which they call \"beats\", as they use it to tune their instruments. "
   ]
  },
  {
   "cell_type": "markdown",
   "id": "5c5ef23d-70ea-408f-84eb-78f35a3c879c",
   "metadata": {},
   "source": [
    "The idea is the following: if two instruments play the same note, then the sound produced corresponds to the addition of two periodic signals. For simplicity, let's assume that the first instrument plays a cosine wave at a frequency $f_a$:\n",
    "\n",
    "$$ x_a(t)= \\cos 2\\pi f_a t, $$\n",
    "\n",
    "and let's assume that the second instrument plays another cosine wave at a similar (but not equal) frequency $f_b$: \n",
    "\n",
    "$$ x_b(t)= \\cos 2\\pi f_b t. $$\n",
    "\n",
    "Then the combined sound is \n",
    "\n",
    "$$x(t)= x_a(t)+x_b(t)=   \\cos 2\\pi f_a t+ \\cos 2\\pi f_b t.$$"
   ]
  },
  {
   "cell_type": "markdown",
   "id": "6146bd3e-3f54-42f2-bec7-5e522b50b8f6",
   "metadata": {},
   "source": [
    "### <span style=\"color:red\"> Exercise 16 </span>\n",
    "\n",
    "Assume $f_a=400 Hz$ and $f_b=410 Hz$. Write $x(t)$ as a product of two sine waves. "
   ]
  },
  {
   "cell_type": "code",
   "execution_count": null,
   "id": "eacaefb2-4c02-40bb-9feb-197e3f3ea781",
   "metadata": {},
   "outputs": [],
   "source": []
  },
  {
   "cell_type": "markdown",
   "id": "a759efc5-3df7-45fd-8441-85ffe01cb7d9",
   "metadata": {},
   "source": [
    "To understand what happens in general, we replace $f_1$ by $\\frac{f_a+f_b}{2}$ and  $f_2$ by $ \\frac{f_b-f_a}{2}$ in the equation above. This gives us\n",
    "\n",
    "$$ \\sin\\left(  2 \\pi \\left(  \\frac{f_a+f_b}{2} \\right) t \\right) \\sin \\left( 2 \\pi \\left(  \\frac{f_b-f_a}{2}    \\right) t           \\right) = \\frac{1}{2}\\cos \\left( 2 \\pi f_a t \\right) - \\frac{1}{2}\\cos\\left( 2 \\pi f_b t \\right) .$$\n"
   ]
  },
  {
   "cell_type": "markdown",
   "id": "5bde0da7-2eed-4170-b324-6a86904a707c",
   "metadata": {},
   "source": [
    "In other words, two cosine waves with a similar frequency added together correspond to modulating a sine wave at the average frequency with a (carrier) sine wave at half the frequency difference. If $f_1$ and $f_2$ are close frequencies in the audible range, then their difference is small. Therefore, one expects a tremolo effect to occur when the instruments are not in tune. "
   ]
  },
  {
   "cell_type": "markdown",
   "id": "7519d7b5-a32b-401d-9461-2c282b54bc81",
   "metadata": {},
   "source": [
    "### <span style=\"color:red\"> Exercise 17</span>\n",
    "\n",
    "Suppose the signals $ \\sin \\left( 2 \\pi 440 t \\right) $ (a middle A) and the signal $\\sin \\left( 2\\pi 442 t\\right)$ are added together. What would be the frequency of the carrier (i.e., the beat/tremolo frequency)? Play the added signals: do you hear the beats? Plot the modulated signal: is it the same? Plot a few cycles of each signal (added and modulated) and compare. "
   ]
  },
  {
   "cell_type": "code",
   "execution_count": null,
   "id": "14ae9242-f59f-4a4b-aef6-b5e6e1c33c59",
   "metadata": {},
   "outputs": [],
   "source": []
  },
  {
   "cell_type": "markdown",
   "id": "a2cb51ea-c07a-4512-a38b-bd0a6a35a2ef",
   "metadata": {},
   "source": [
    "### <span style=\"color:red\"> Exercise 18 </span>\n",
    "\n",
    "Can two musicians listening to the added sounds determine the difference between the frequencies of their instruments? If so, how? If not, why not."
   ]
  },
  {
   "cell_type": "code",
   "execution_count": null,
   "id": "5b75f1b2-6918-4f12-9793-80aefbcfc603",
   "metadata": {},
   "outputs": [],
   "source": []
  },
  {
   "cell_type": "markdown",
   "id": "ba084e28-71cc-4742-b747-24a3e23b43a4",
   "metadata": {},
   "source": [
    "### <span style=\"color:red\"> Exercise 19 </span>\n",
    "\n",
    "Can two musicians playing out-of-tune instruments use the beat phenomenon so to tune their instrument in such a way that they play an A at the 440Hz frequency?  If so, how? If not, explain why not. "
   ]
  },
  {
   "cell_type": "code",
   "execution_count": null,
   "id": "d8b3cd97-4610-47e6-aac0-2897a1f4c0b6",
   "metadata": {},
   "outputs": [],
   "source": []
  }
 ],
 "metadata": {
  "kernelspec": {
   "display_name": "Python 3",
   "language": "python",
   "name": "python3"
  },
  "language_info": {
   "codemirror_mode": {
    "name": "ipython",
    "version": 3
   },
   "file_extension": ".py",
   "mimetype": "text/x-python",
   "name": "python",
   "nbconvert_exporter": "python",
   "pygments_lexer": "ipython3",
   "version": "3.8.8"
  }
 },
 "nbformat": 4,
 "nbformat_minor": 5
}
