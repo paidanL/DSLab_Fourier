{
 "cells": [
  {
   "cell_type": "markdown",
   "id": "5af5bf76-eeba-48b3-ac6e-489f4fc6ca9c",
   "metadata": {},
   "source": [
    "# Week 10: The Discrete Fourier Transform (DFT)\n",
    "\n",
    "<font size=\"6\"> Laboratory 9 </font> <br>\n",
    "<font size=\"3\"> Last updated March 26, 2023 </font>"
   ]
  },
  {
   "cell_type": "markdown",
   "id": "0d3551c5-166a-4757-b099-e36be5551b02",
   "metadata": {},
   "source": [
    "## <span style=\"color:orange;\"> 00. Content </span>\n",
    "\n",
    "### Mathematics \n",
    "- Fourier series\n",
    "- Euler's formula\n",
    "- Sampling and Aliasing\n",
    "- Periodicity of discrete-time complex exponentials\n",
    "- Orthogonality of discrete complex harmonics exponentials\n",
    "- Sampling theorem\n",
    "    \n",
    "### Programming Skills \n",
    "- Loops\n",
    "- FFT function from numpy\n",
    "### Embedded Systems \n",
    "- N/A\n",
    "\n",
    "## <span style=\"color:orange;\"> 0. Required Hardware </span>\n",
    "- N/A"
   ]
  },
  {
   "cell_type": "markdown",
   "id": "e1e8e33e-141c-4ba0-b7b2-d721bdc3edc8",
   "metadata": {},
   "source": [
    "<h3 style=\"background-color:lightblue\"> Write your name and email below: </h3>\n",
    "\n",
    "**Name:** Aidan Leib \n",
    "\n",
    "**Email:** pleib@purdue.edu"
   ]
  },
  {
   "cell_type": "code",
   "execution_count": 1,
   "id": "d81382e4-4bee-4285-87e4-4a32631e794f",
   "metadata": {},
   "outputs": [],
   "source": [
    "import numpy as np\n",
    "import matplotlib.pyplot as plt"
   ]
  },
  {
   "cell_type": "markdown",
   "id": "004e4038-3e35-441a-9388-ca2417648ad3",
   "metadata": {},
   "source": [
    "## <span style=\"color:orange;\"> 1. Intro </span>"
   ]
  },
  {
   "cell_type": "markdown",
   "id": "5857505d-44b8-47d9-991e-414491827618",
   "metadata": {},
   "source": [
    "The signals we acquire in real-life have a finite duration. We typically assume that they \"start at zero\", meaning that they are equal to zero until $t=0$. After the signal duration is passed, i.e. when $t$ is greater than the duration of the signal, then we also assume that the signal is equal to zero. "
   ]
  },
  {
   "cell_type": "markdown",
   "id": "3316e277-1ddb-4b74-8f09-d47de4e8cb53",
   "metadata": {},
   "source": [
    "Putting this in mathematical terms: a finite duration signal $f(t)$ takes the form \n",
    "\n",
    "$$ f(t)=\\left\\{ \\begin{array}{ll} f(t), & 0\\leq t < \\text{signal duration}, \\\\ 0, & \\text{ else.}\\end{array}  \\right. $$"
   ]
  },
  {
   "cell_type": "markdown",
   "id": "e2da3189-d994-4b18-a28e-47ed44ceae07",
   "metadata": {},
   "source": [
    "In order to analyze a finite duration signal, we repeat it periodically with a period $P$ that is at least as long as the duration of the signal (otherwise, the copies will overlap with each other and mess up the signal). When $P$ is strictly greater than the duration (so there is \"space\" in between the copies), we say that the signal has been \"zero padded\" between the repetitions. "
   ]
  },
  {
   "cell_type": "markdown",
   "id": "dc0a2606-9069-49db-bfbe-af452a0aa9a7",
   "metadata": {},
   "source": [
    "We assume that the repeated signal is such that it is equal to its Fourier series: \n",
    "\n",
    "$$f(t)= \\frac{a_0}{2}+ \\sum_{k=1}^\\infty a_k \\cos \\left(\\frac{2 \\pi}{P} k t \\right) + b_k \\sin \\left(\\frac{2 \\pi}{P} k t  \\right).$$"
   ]
  },
  {
   "cell_type": "markdown",
   "id": "c1a78b88-7010-44dd-98ae-5f768d90dc37",
   "metadata": {},
   "source": [
    "We are interested in analyzing the signal $f(t)$. In real-life, we cannot do this directly by manipulating the function $f(t)$, as we typically only have access to a digital recording of $f(t)$. So, for example, computing the Fourier transform of $f(t)$ (by integration) is not possible. We would like to be able to perform the analysis of $f(t)$ by analysing its digital recording instead."
   ]
  },
  {
   "cell_type": "markdown",
   "id": "59423391-3a96-4f83-8ebd-66b54ff307a3",
   "metadata": {},
   "source": [
    "One important analysis to be performed is the recovery of the coefficients  $a_k,b_k$ from the digital recording. \n",
    "\n",
    "\n",
    "We assume that the digital recording takes the form of a discrete-time signal $f_d[n]$, with $n\\in {\\mathbb N}$, obtained by sampling the original signal $f(t)$. More specifically, we assume that $f_d[n]$ is a uniform sampling of $f(t)$:\n",
    "\n",
    "$$f_d[n]=f(nT), \\text{ for some } T>0.$$\n",
    "\n",
    "\n",
    "The parameter $T$ is called the **sampling period**. The quantity $\\frac{1}{T}$ is called the **sampling frequency**.   The sampling period $T$ is the time difference between two sample points, and the sampling frequency represent how many samples are acquired per time unit.    "
   ]
  },
  {
   "cell_type": "markdown",
   "id": "3f0566e3-fd5f-428b-92ed-0a04333cad08",
   "metadata": {},
   "source": [
    "In order to simplify the math, we rewrite $f(t)$ in terms of complex exponentials: \n",
    "\n",
    "$$ f(t)=  \\sum_{k=-\\infty}^\\infty c_n e^{i \\frac{2\\pi}{P}nt} $$ \n",
    "\n",
    "where $ c_0=\\frac{a_0}{2}$ and\n",
    "\n",
    "\\begin{equation}\n",
    "c_n=\n",
    "    \\begin{cases}\n",
    "        \\frac{1}{2} (a_n- i b_n) & \\text{for } n < 0\\\\\n",
    "        \\frac{1}{2} (a_n+ i b_n) & \\text{for } n>1\n",
    "    \\end{cases}\n",
    "\\end{equation}"
   ]
  },
  {
   "cell_type": "markdown",
   "id": "aa5c319d-901a-43fd-b5f1-17de35fd316e",
   "metadata": {},
   "source": [
    "### <span style=\"color:red\"> Exercise 1 </span>\n",
    "Derive the above formula. (Hint: replace each sine and cosine by sums of complex exponentials. If you do not know the sums already, find them using Euler's formula $e^{i\\theta}=\\cos \\theta + i \\sin \\theta$. B'Euler up! )"
   ]
  },
  {
   "cell_type": "markdown",
   "id": "8e349408-f95a-4062-bd83-1417d92c2b5e",
   "metadata": {},
   "source": [
    "$$f(t)= \\frac{a_0}{2}+ \\sum_{k=1}^\\infty a_k \\cos \\left(\\frac{2 \\pi}{P} k t \\right) + b_k \\sin \\left(\\frac{2 \\pi}{P} k t  \\right)$$"
   ]
  },
  {
   "cell_type": "markdown",
   "id": "e7b6cd0b-641c-486f-a2c2-043af3e420ab",
   "metadata": {},
   "source": [
    "$$= \\frac{a_0}{2} + \\sum_{k=1}^\\infty a_k \\frac{e^{i \\frac{2\\pi}{P}kt} + e^{-i \\frac{2\\pi}{P}kt}}{2} + \n",
    "                                      b_k \\frac{e^{i \\frac{2\\pi}{P}kt} - e^{-i \\frac{2\\pi}{P}kt}}{2i}$$"
   ]
  },
  {
   "cell_type": "markdown",
   "id": "59d59ee4-ce06-4778-8920-79f8dd78804b",
   "metadata": {},
   "source": [
    "$$= c_0 + \\sum_{k=1}^\\infty \\frac{1}{2}(a_k - ib_n) \\left( e^{i \\frac{2\\pi}{P}kt} + e^{-i \\frac{2\\pi}{P}kt} \n",
    "                                                    + e^{i \\frac{2\\pi}{P}kt} - e^{-i \\frac{2\\pi}{P}kt}\\right)$$"
   ]
  },
  {
   "cell_type": "markdown",
   "id": "e43081c8-ec05-44dc-8442-e525ec44622f",
   "metadata": {},
   "source": [
    "$$= \\sum_{k=-\\infty}^\\infty c_n e^{i \\frac{2\\pi}{P}kt}$$"
   ]
  },
  {
   "cell_type": "markdown",
   "id": "cab977d4-65cf-49ae-954a-8475f06d63bb",
   "metadata": {},
   "source": [
    "In the following, we will show how to recover the coefficients $a_k,b_k$ using the **Discrete Fourier Transform (DFT)** of the sampling $f_n[n]$. The DFT transforms a discrete-time periodic signal with period $N$ into a sequence of complex numbers that is also periodic with period $N$. The numbers in the sequence are called the **DFT coefficients.**"
   ]
  },
  {
   "cell_type": "markdown",
   "id": "63c5b3f2-278d-4f93-a67b-34317b0f1b90",
   "metadata": {},
   "source": [
    "The formula for the $k^{th}$ DFT coefficient of a sampled signal $f_d[n]$ with period $N$ is\n",
    "\n",
    "$$ F[k]= \\sum_{n=0}^{N-1} f_d[n] e^{-i \\frac{2 \\pi}{N} k n }.  $$\n"
   ]
  },
  {
   "cell_type": "markdown",
   "id": "cd74ca12-0dc1-48d3-9360-a5633303b10e",
   "metadata": {},
   "source": [
    "As we will see later, in some circumstances, namely if\n",
    "- the Fourier series of $f(t)$ is finite, that is to say if $c_k=0$ for all $|k|>K$, (i.e., a band-limited signal) and \n",
    "- $N$ is large enough,\n",
    "\n",
    "then we have \n",
    "\n",
    "$$F[k]= N c_k, \\text{ for all }0\\leq k \\leq K.$$ \n",
    "\n",
    "Therefore, in those circumstances, one can recover the Fourier series coefficients $a_k=2 (c_k+c_k^*)$, $b_k=2(c_k-c_k^*)$ of the signal $f(t)$ from the DFT coefficients of the sampled signal. The rest of the lab explores and clarifies this.\n"
   ]
  },
  {
   "cell_type": "markdown",
   "id": "97e0f193-a192-4029-a7f0-05bf2d8c8a74",
   "metadata": {},
   "source": [
    "## <span style=\"color:orange;\"> 2. Periodicity of the Sampling </span>"
   ]
  },
  {
   "cell_type": "markdown",
   "id": "3ca65d56-ee6d-4359-bc46-8a41513b148c",
   "metadata": {},
   "source": [
    "In order for the proposed analysis method to work, the sampled signal must be periodic. In other words, there must exist an integer $N$ such that \n",
    "\n",
    "$$ f_d[n+N] = f_d[n], \\forall n.$$\n",
    "\n",
    "Depending on the sampling period $T$ chosen, the sampled signal may or may not be periodic."
   ]
  },
  {
   "cell_type": "markdown",
   "id": "9407ce7c-ac0f-4261-9821-4a9da1c2a108",
   "metadata": {},
   "source": [
    "### <span style=\"color:red\"> Exercise 2 </span>\n",
    "If the signal $f(t)=e^{i \\frac{2\\pi}{10} t }$ is sampled with a sampling period $T=2$, show that the resulting sampling $f_d[n]=f(nT)$ is periodic with period $N=5$. (Use either code or mathematics.) "
   ]
  },
  {
   "cell_type": "code",
   "execution_count": null,
   "id": "1ff236a6-bb76-476a-970e-90ae0db2f522",
   "metadata": {},
   "outputs": [],
   "source": []
  },
  {
   "cell_type": "markdown",
   "id": "444cb8d6-8f1d-4b92-ad79-0c18d814adec",
   "metadata": {},
   "source": [
    "### <span style=\"color:red\"> Exercise 3 </span> \n",
    "If the signal $f(t)=e^{i \\frac{2\\pi}{10} t }$ is sampled with a sampling period $T=3$, show that the resulting sampling $f_d[n]=f(nT)$ is periodic with period $N=10$. (Use either code or mathematics.)"
   ]
  },
  {
   "cell_type": "code",
   "execution_count": null,
   "id": "cd29767b-6633-4258-9786-b277f0f631fb",
   "metadata": {},
   "outputs": [],
   "source": []
  },
  {
   "cell_type": "markdown",
   "id": "6032868c-47ca-4f64-84ef-803cc34a6988",
   "metadata": {},
   "source": [
    "### <span style=\"color:red\"> Exercise 4 </span> \n",
    "If the signal $f(t)=e^{i \\frac{2\\pi}{10} t }$ is sampled with a sampling period $T=\\sqrt{2}$, show that the resulting sampling $f_d[n]=f(nT)$ is not periodic. (Here you must use mathematics.)"
   ]
  },
  {
   "cell_type": "code",
   "execution_count": null,
   "id": "a9d4ccc4-df7e-4729-88dc-bacac116e071",
   "metadata": {},
   "outputs": [],
   "source": []
  },
  {
   "cell_type": "markdown",
   "id": "fcc84fd4-b252-4b86-bc0d-7ec8a1c9a169",
   "metadata": {},
   "source": [
    "In general, $f_d[n]= f(n T)$ is periodic  if an only if $\\frac{P}{T}$ is a rational number. That means that we can write $\\frac{P}{T}$ as a ratio of two integers:\n",
    "\n",
    "\n",
    "$$\\frac{P}{T}=\\frac{N}{K}.$$ \n",
    "\n",
    "\n",
    "If $N$ and $K$ have no common factor, then $N$ is the fundamental period of $f_d[n]$. "
   ]
  },
  {
   "cell_type": "markdown",
   "id": "d5d649b0-b5c9-473e-b668-d6860be1437a",
   "metadata": {},
   "source": [
    "For example, if $T=\\frac{P}{N}$, then we acquire $N$ samples per period, and $f_d[n]$ is periodic with period $N$. Similarly, if $T=\\frac{2 P}{N}$, then we acquire $N$ samples per two periods, which corresponds to $\\frac{N}{2}$ samples per period. If $N$ is odd, then $f_d[n]$ has period $N$ (it has to be an integer). If $N$ is even, $f_d[n]$ has period $\\frac{N}{2}$."
   ]
  },
  {
   "cell_type": "markdown",
   "id": "27792374-326d-4c3c-85c8-7819dfd3630d",
   "metadata": {},
   "source": [
    "## <span style=\"color:orange;\"> 2. Toy Example of Signal Analysis </span>"
   ]
  },
  {
   "cell_type": "markdown",
   "id": "66113d8c-2349-4b5d-9663-2543623a2d81",
   "metadata": {},
   "source": [
    "Suppose the signal recorded, once repeated periorically, is of the form \n",
    "\n",
    "$$  f(t)= a_1 \\cos \\left(2 \\pi 100 t \\right) + a_4 \\cos \\left(2 \\pi 400 t  \\right). $$\n",
    "\n",
    "So the signal has period $ P=\\frac{1}{100} $.\n",
    "\n",
    "Note: The Period of a linear combination of signals is the LCM of their individual periods.\n",
    "\n"
   ]
  },
  {
   "cell_type": "markdown",
   "id": "f7266202-51f8-4d7c-841d-492141a2f179",
   "metadata": {},
   "source": [
    "Let us write $f_d[n]$ in terms of complex exponentials, using the formulas $\\cos \\theta = \\frac{1}{2} (e^{i\\theta}+e^{-i\\theta})$ and $\\sin \\theta = \\frac{1}{2i} (e^{i\\theta}-e^{-i\\theta})$: \n",
    "\n",
    "\n",
    "$$ f_d[n]= \\frac{a_1}{2} \\left(e^{i  2 \\pi \\frac{n}{10}}+ e^{-i 2 \\pi \\frac{n}{10}}\\right) + \\frac{a_4}{2}\\left(e^{i 2 \\pi  4 \\frac{n}{10}}+ e^{-i 2 \\pi 4 \\frac{n}{10}}\\right). $$"
   ]
  },
  {
   "cell_type": "markdown",
   "id": "6af62db5-319d-4f8b-a4e9-e2a177b37b5c",
   "metadata": {},
   "source": [
    "\n",
    "Given is a recording with 1000 samples per unit of time (so the sampling period is $T=\\frac{1}{1000}$): \n",
    "\n",
    "$$ f_d[n] = f( n \\frac{1} {1000}).$$\n",
    "\n",
    "More specifically, the recorded signal is  \n",
    "\n",
    "$$ \\begin{aligned}\n",
    "f_d[n]&= a_1 \\cos \\left(2 \\pi 100 \\frac{n} {1000} \\right) + a_4 \\cos \\left(2 \\pi 400  \\frac{n} {1000}  \\right)\\\\\n",
    "&= a_1 \\cos \\left(2 \\pi \\frac{n}{10} \\right) + a_4 \\cos \\left(2 \\pi 4 \\frac{n}{10} \\right). \n",
    "\\end{aligned} $$\n",
    "\n",
    "\n",
    "\n",
    "Observe that $f_d[n]$ is periodic, with period $N=10$. This is because we are taking $10$ samples per period \n",
    "\n",
    "(since $\\frac{P}{T}=\\frac{1000}{100}=10$)."
   ]
  },
  {
   "cell_type": "markdown",
   "id": "e59a9f62-03e2-46f5-b4fc-90e39d977991",
   "metadata": {},
   "source": [
    "Now let us compute the first coefficient $F[1]$ of the 10-point DFT of $f_d[n]$.  "
   ]
  },
  {
   "cell_type": "markdown",
   "id": "9246189e-f0b1-4c1e-ae27-9acb48237317",
   "metadata": {},
   "source": [
    "We have\n",
    "\n",
    "$$\n",
    "\\begin{aligned}\n",
    "F[1]&= \\sum_{n=0}^{9} f_d[n]  e^{-i \\frac{2\\pi}{10} n} \\\\\n",
    "&= \\sum_{n=0}^{9} \\left( \\frac{a_1}{2} \\left(e^{i 2 \\pi \\frac{n}{10}}+ e^{-i 2 \\pi \\frac{n}{10}}\\right) \n",
    "+\n",
    "\\frac{a_4}{2}\\left(e^{i 2 \\pi  4 \\frac{n}{10}}+ e^{-i 2 \\pi 4 \\frac{n}{10}}\\right)\\right)  e^{-i \\frac{2\\pi}{10}  n} \\\\\n",
    "&= 10 \\frac{a_1}{2}\n",
    "\\end{aligned}\n",
    "$$\n",
    "\n",
    "since complex exponentials have the following orthogonality property:\n",
    "\n",
    "$$\n",
    "\\sum_{n=0}^{N-1} e^{j \\frac{2\\pi}{N} k_1 n } e^{j \\frac{2\\pi}{N} k_2 n } = \\left\\{ \n",
    "\\begin{array}{ll}\n",
    "    N &, \\text{ if } k_1+k_2  \\text{ is a multiple of } N  \\\\\n",
    "   0  &, \\text{ else}. \n",
    "\\end{array}\n",
    "\\right.\n",
    "$$\n",
    "\n",
    "Therefore, $a_1=2 \\frac{F[1]}{10}$. So we are able to obtain the value of $a_1$ from the value of $F[1]$."
   ]
  },
  {
   "cell_type": "markdown",
   "id": "8daae434-ff03-4704-846f-b5a0022a632a",
   "metadata": {},
   "source": [
    "### <span style=\"color:red\"> Exercise 5 </span>\n",
    "Test the formula $a_1=2 \\frac{ F[1]}{10}$ as follows:\n",
    "\n",
    "* Pick values of $a_1$ and $a_4$. (Do not pick the same value for both.)\n",
    "* Replace the chosen values in the function $  f(t)= a_1 \\cos \\left(2 \\pi 100 t \\right) + a_4 \\cos \\left(2 \\pi 400 t  \\right)$.\n",
    "* Sample the function $f(t)$ with a sampling period $T=1000^{-1}$ to obtain the sampling $ f_d[n]$.\n",
    "* Compute $F[1]$ using the formula  $F[1]=\\sum_{n=0}^{9} f_d[n]  e^{-i \\frac{2\\pi}{10} n}$.\n",
    "* Compute $a_1$ using the formula $a_1=2 \\frac{ F[1]}{10}$.\n",
    "* Compare the value of $a_1$ you obtained to the original value of $a_1$ you had chosen. Is it the same?"
   ]
  },
  {
   "cell_type": "code",
   "execution_count": null,
   "id": "7275d1b0-9ef2-466b-ac7a-34c034fc7332",
   "metadata": {},
   "outputs": [],
   "source": []
  },
  {
   "cell_type": "markdown",
   "id": "9fad9a4c-9933-4d5b-ac5d-0fb95f0ca3e9",
   "metadata": {},
   "source": [
    "Similarly, we can recover $a_4$ from $F[4]$. We have\n",
    "\n",
    "$$\n",
    "\\begin{aligned}\n",
    "F[4]&= \\sum_{n=0}^{9} f_d[n]  e^{-i \\frac{2\\pi}{10} 4 n} \\\\\n",
    "&= \\sum_{n=0}^{4} \\left( \\frac{a_1}{2} \\left(e^{i 2 \\pi \\frac{n}{10}}+ e^{-i 2 \\pi  \\frac{n}{10}}\\right) \n",
    "+\n",
    "\\frac{a_4}{2}\\left(e^{i 2 \\pi  4 \\frac{n}{10}}+ e^{-i 2 \\pi 4 \\frac{n}{10}}\\right)\\right) e^{-i \\frac{2\\pi}{5} 4 n} \\\\\n",
    "&= 10 \\frac{a_4}{2},\n",
    "\\end{aligned}\n",
    "$$ \n",
    "\n",
    "again by using the fact that \n",
    "\n",
    "$$\n",
    "\\sum_{n=0}^{N-1} e^{j \\frac{2\\pi}{N} k_1 n } e^{j \\frac{2\\pi}{N} k_2 n } = \\left\\{ \n",
    "\\begin{array}{ll}\n",
    "    N &, \\text{ if } k_1+k_2  \\text{ is a multiple of } N  \\\\\n",
    "   0  &, \\text{ else}. \n",
    "\\end{array}\n",
    "\\right.\n",
    "$$\n",
    "\n",
    "Therefore, $a_4=2 \\frac{F[4]}{10}$. So we are able to obtain the value of $a_4$ from the value of $F[4]$.\n"
   ]
  },
  {
   "cell_type": "markdown",
   "id": "28205974-136d-4ebc-82ac-2bf4059153d5",
   "metadata": {},
   "source": [
    "### <span style=\"color:red\"> Exercise 6 </span> \n",
    "Test the formula $a_4=2 \\frac{F[4]}{10}$ in the same was as you did for Exercise 5."
   ]
  },
  {
   "cell_type": "code",
   "execution_count": null,
   "id": "9fe14aef-0e66-41b7-b7c2-a6bc6d2762b4",
   "metadata": {},
   "outputs": [],
   "source": []
  },
  {
   "cell_type": "markdown",
   "id": "4d00fd5a-3e4a-4cf4-8699-0571559e865f",
   "metadata": {},
   "source": [
    "## <span style=\"color:orange;\"> 3. Another Toy Example of Signal Analysis- with Aliasing </span>"
   ]
  },
  {
   "cell_type": "markdown",
   "id": "ead408e9-be47-4929-be08-539692009ca2",
   "metadata": {},
   "source": [
    "Again, we assume thay the signal recorded is known to be of the form\n",
    "\n",
    "$$  f(t)= a_1 \\cos \\left(2 \\pi 100 t \\right) + a_4 \\cos \\left(2 \\pi 400  t  \\right). $$\n",
    "\n",
    "So the signal has a period $P=\\frac{1}{100}$."
   ]
  },
  {
   "cell_type": "markdown",
   "id": "b388414f-d177-43d6-8334-436b74d304e4",
   "metadata": {},
   "source": [
    "But this time, we are given a recording with only 500 samples per unit of time (so the sampling period is $T=\\frac{1}{500}$): \n",
    "\n",
    "$$ f_d[n] = f( n \\frac{1} {500}).$$\n",
    "\n",
    "More specifically, the recorded signal is\n",
    "\n",
    "$$ \n",
    "\\begin{aligned}\n",
    "f_d[n]&= a_1 \\cos \\left(2 \\pi 100 \\frac{n} {500} \\right) + a_4 \\cos \\left(2 \\pi 400  \\frac{n} {500}  \\right)\\\\\n",
    "&= a_1 \\cos \\left(2 \\pi  \\frac{n}{5} \\right) + a_4 \\cos \\left(2 \\pi 4 \\frac{n}{5} \\right). \n",
    "\\end{aligned}\n",
    "$$"
   ]
  },
  {
   "cell_type": "markdown",
   "id": "55af7b00-812a-408a-a406-3015e1b2468a",
   "metadata": {},
   "source": [
    "Let us write $f_d[n]$ in terms of complex exponentials:\n",
    "\n",
    "$$\n",
    "\\begin{aligned}\n",
    "f_d[n]&= \\frac{a_1}{2} \\left(e^{i 2 \\pi  \\frac{n}{5}}+ e^{-i 2 \\pi  \\frac{n}{5}}\\right) \n",
    "+\n",
    "\\frac{a_4}{2}\\left(e^{i 2 \\pi  4 \\frac{n}{5}}+ e^{-i 2 \\pi 4 \\frac{n}{5}}\\right).\n",
    "\\end{aligned}\n",
    "$$"
   ]
  },
  {
   "cell_type": "markdown",
   "id": "b98e6f0b-3b67-450a-bdb4-08d8af7d43ec",
   "metadata": {},
   "source": [
    "Here $f_d[n]$ is periodic with period $N=5$. This is because we are taking $5$ samples per signal period (since $\\frac{P}{T}=\\frac{500}{100}=5$)."
   ]
  },
  {
   "cell_type": "markdown",
   "id": "48aee72b-6ed3-4a0d-993c-3852e51b1681",
   "metadata": {},
   "source": [
    "Now let us compute the first coefficient $F[1]$ of the 5-point DFT of $f_d[n]$.  "
   ]
  },
  {
   "cell_type": "markdown",
   "id": "14fd2f91-de86-4cc8-bc17-228667155143",
   "metadata": {},
   "source": [
    "We have \n",
    "\n",
    "$$\n",
    "\\begin{aligned}\n",
    "F[1]&= \\sum_{n=0}^{4} f_d[n]  e^{-i \\frac{2\\pi}{5} n} \\\\\n",
    "&= \\sum_{n=0}^{4} \\left( \\frac{a_1}{2} \\left(e^{i 2 \\pi \\frac{n}{5}}+ e^{-i 2 \\pi  \\frac{n}{5}}\\right) \n",
    "+\n",
    "\\frac{a_4}{2}\\left(e^{i 2 \\pi  4 \\frac{n}{5}}+ e^{-i 2 \\pi 4 \\frac{n}{5}}\\right)\\right) e^{-i \\frac{2\\pi}{5} 4 n} \\\\\n",
    "&= 5 \\frac{a_1}{2} + 5 \\frac{a_4}{2},\n",
    "\\end{aligned}\n",
    "$$\n",
    "\n",
    "again since\n",
    "\n",
    "$$\n",
    "\\sum_{n=0}^{N-1} e^{j \\frac{2\\pi}{N} k_1 n } e^{j \\frac{2\\pi}{N} k_2 n } = \\left\\{ \n",
    "\\begin{array}{ll}\n",
    "    N &, \\text{ if } k_1+k_2  \\text{ is a multiple of } N  \\\\\n",
    "   0  &, \\text{ else}. \n",
    "\\end{array}\n",
    "\\right.\n",
    "$$"
   ]
  },
  {
   "cell_type": "markdown",
   "id": "673734bf-299c-4a28-8912-072c351b294d",
   "metadata": {},
   "source": [
    "Thus, in this case, $F[1]$ does not give us the value of $a_1$ anymore, but rather only the sum of $a_1$ and $a_4$. "
   ]
  },
  {
   "cell_type": "markdown",
   "id": "d1b71a39-ca0a-4392-91de-388d10f1f97b",
   "metadata": {},
   "source": [
    "The reason for this is fundamental: the function $e^{i 2 \\pi  4 \\frac{n}{5}}$ is the same as the function $e^{-i 2 \\pi   \\frac{n}{5}}$. So we cannot recover the coefficients separately because the two exponential signals, once sampled, become the same signal. Indeed, the sampled signal can be written as\n",
    "\n",
    "$$\n",
    "f_d[n]= \\left( \\frac{a_1}{2} +  \\frac{a_4}{2} \\right) e^{i 2\\pi  \\frac{n}{5}}+ \\left( \\frac{a_1}{2} +  \\frac{a_4}{2} \\right) e^{-i 2\\pi  \\frac{n}{5}}.\n",
    "$$"
   ]
  },
  {
   "cell_type": "markdown",
   "id": "eb8399fb-a39c-480f-8728-f20cfb3a5542",
   "metadata": {},
   "source": [
    "Another way to see this is to observe that $\\cos (2 \\pi 4 \\frac{n}{5})= \\cos(2 \\pi 4 \\frac{n}{5}- 2\\pi n )= \\cos (-2 \\pi  \\frac{n}{5})=  \\cos (2 \\pi  \\frac{n}{5})$."
   ]
  },
  {
   "cell_type": "markdown",
   "id": "47d568ca-0f26-4cab-ad81-ac721e582dac",
   "metadata": {},
   "source": [
    "So the signal $f_d[n]$ can be written as \n",
    "\n",
    "$$\n",
    "\\begin{aligned}\n",
    "f_d[n]&= a_1 \\cos \\left(2 \\pi  \\frac{n}{5} \\right) + a_4 \\cos \\left(2 \\pi 4 \\frac{n}{5} \\right),\\\\\n",
    "&= a_1 \\cos \\left(2 \\pi  \\frac{n}{5} \\right)+ a_4 \\cos \\left(2 \\pi \\frac{n}{5} \\right),\\\\\n",
    "&= (a_1+a_4) \\cos \\left(2 \\pi  \\frac{n}{5} \\right).\n",
    "\\end{aligned}\n",
    "$$ \n",
    "\n",
    "This phenomenon is called **aliasing**. "
   ]
  },
  {
   "cell_type": "markdown",
   "id": "f6bb8a37-96e8-49e5-86ef-568a4f186b26",
   "metadata": {},
   "source": [
    "### <span style=\"color:red\"> Exercise 7 </span> \n",
    "Check, numerically, that sampling $\\cos (2\\pi 100 t)$ or $\\cos (2\\pi 400 t)$  with a period $T=\\frac{1}{500}$ in either cases yield the same discrete-time signal $f_d[n]$."
   ]
  },
  {
   "cell_type": "code",
   "execution_count": null,
   "id": "e916ad2e-53db-4525-80f1-0478f8b549b3",
   "metadata": {},
   "outputs": [],
   "source": []
  },
  {
   "cell_type": "markdown",
   "id": "c3eff06f-2cfb-49b6-8b6e-bc26230353aa",
   "metadata": {},
   "source": [
    "### <span style=\"color:red\"> Exercise 8 </span> \n",
    "Use an approach similar to that of Exercise 5 to show, numerically, that in the toy example with aliasing above, we have $\\frac{2}{5} F[1]= a_1+a_4$ (as opposed to $\\frac{2}{5} F[1]= a_1$)."
   ]
  },
  {
   "cell_type": "code",
   "execution_count": null,
   "id": "2668bc63-e3f3-452d-807d-c966b77bfc9e",
   "metadata": {},
   "outputs": [],
   "source": []
  },
  {
   "cell_type": "markdown",
   "id": "e6266b31-c54d-4e8b-9b8e-d587e9164c6b",
   "metadata": {},
   "source": [
    "## <span style=\"color:orange;\"> 4. The Theory </span>"
   ]
  },
  {
   "cell_type": "markdown",
   "id": "01703037-da26-484d-a158-b80733e7efd7",
   "metadata": {},
   "source": [
    "The aliasing phenomenon is well understood. In fact, you may have heard about the **Nyquist criterion**: a condition that, if satisfied, guarantees that aliasing will not occur. In this lab, we will not dwelve further into this criterion per say. Instead, we will jump directly to the topic of interest, which is to analyze a signal $f(t)$ from a sampling $f_d[n]=f(nT)$. By \"analysing\" we mean recovering the Fourier series coefficients $c_k$ of $f(t)$.  "
   ]
  },
  {
   "cell_type": "markdown",
   "id": "f16f2b9a-50b8-4947-bc57-607dcb4c44f7",
   "metadata": {},
   "source": [
    "Recall that the **DFT** of a signal $f_d[n]$ with period $N$ is defined as the discrete-time signal\n",
    "\n",
    "$$ F[k]= \\sum_{n=0}^{N-1} f_d[n] e^{-i \\frac{2 \\pi}{N} k n },  $$\n",
    "\n",
    "and the specific value of entry $F[k]$  is called the **k-th coefficients of the DFT** of the signal. "
   ]
  },
  {
   "cell_type": "markdown",
   "id": "d063b17c-5af7-45f1-a43a-d88a536b1656",
   "metadata": {},
   "source": [
    "It turns out that the DFT coefficients give us the value of the Fourier series coefficients of $f(t)$, provided that we have taken \"enough\" samples considering the number of non-zero coefficients in the Fourier series of $f(t)$. More specifically, we have the following theorem."
   ]
  },
  {
   "cell_type": "markdown",
   "id": "77357a19-969c-44c7-9772-c447e04d82df",
   "metadata": {},
   "source": [
    "## Sampling Theorem\n",
    "If f(t) has a finite Fourier series with $2K+1$ terms \n",
    "\n",
    "$$\n",
    "f(t)=\\sum_{k=-K}^K c_k e^{i \\frac{2\\pi}{P} k t} = \\frac{a_0}{2}+ \\sum_{k=1}^K a_k \\cos \\left(\\frac{2 \\pi}{P} k t \\right) + b_k \\sin \\left(\\frac{2 \\pi}{P} k t  \\right).\n",
    "$$ \n",
    "\n",
    "(so band-limited, with maximum frequency $K\\frac{1}{P}$), and if we sample $f(t)$ with a sampling frequency $\\frac{1}{T}$ such that $\\frac{P}{T}=N$ is an integer (i.e., an integer number of points per period), and \n",
    "\n",
    "$$\\frac{1}{T} > 2 K\\frac{1}{P}$$ \n",
    "\n",
    "(i.e., more than $2K$ points per period). Then $f_d[n]$ is periodic, with period $N$, and the DFT of $f_d[n]$ gives the values of coefficients $c_k$ of the Fourier series of $f(t)$ as follows: \n",
    "\n",
    "$$\n",
    "\\begin{align}\n",
    "F[0] &= N c_0 = N a_0, \\\\\n",
    "F[k]& = N c_k= N\\frac{1}{2}(a_k-ib_k), \\text{ for all }  1\\leq k \\leq K.\n",
    "\\end{align}\n",
    "$$"
   ]
  },
  {
   "cell_type": "markdown",
   "id": "c355468f-5991-44f8-92d8-99df4c53b88e",
   "metadata": {},
   "source": [
    "## Proof of Sampling Theorem\n",
    "\n",
    "The proof of the sampling theorem follows the same model as the computation performed in the toy examples. \n",
    "\n",
    "We start from the formula for the DFT coefficients and replace $f_d[n]$ by its expression in terms of complex exponentials.\n",
    "\n",
    "$$ \\begin{aligned}\n",
    "F[k]&= \\sum_{n=0}^{N-1} f_d[n]  e^{-i \\frac{2\\pi}{N} k n} \\\\\n",
    "&=  \\sum_{n=0}^{N-1} f(nT) e^{-i \\frac{2\\pi}{N} k n} \\\\\n",
    "&=  \\sum_{n=0}^{N-1} \\sum_{k'=-K}^K c_{k'} e^{i \\frac{2\\pi}{P} k' n T } e^{-i \\frac{2\\pi}{N} k n}.\n",
    "\\end{aligned} $$\n",
    "Because of the choice of sampling period $T$, the sampling is periodic with period $N=\\frac{P}{T}$. Thus we can replace\n",
    "the fraction $\\frac{P}{T}$ in the right-hand-side by $N$ to obtain\n",
    "\n",
    "$$ \\begin{aligned}\n",
    "F[k] &=  \\sum_{n=0}^{N-1} \\sum_{k'=-K}^K c_{k'} e^{i \\frac{2\\pi}{N} k' n  } e^{-i \\frac{2\\pi}{N} k n}.\n",
    "\\end{aligned} $$\n",
    "\n",
    "\n",
    "Next we will simplify the right-hand-side by permuting the two sums and using the orthogonality property of the complex exponentials:\n",
    "\n",
    "$$ \\sum_{n=0}^{N-1} e^{j \\frac{2\\pi}{N} k_1 n } e^{j \\frac{2\\pi}{N} k_2 n } = \\left\\{ \n",
    "\\begin{array}{ll}\n",
    "    N &, \\text{ if } k_1+k_2  \\text{ is a multiple of } N  \\\\\n",
    "   0  &, \\text{ else}. \n",
    "\\end{array}\n",
    "\\right.  $$\n",
    "\n",
    "Step-by-step, we have, for $k=0,1,2,\\ldots, K$\n",
    "\n",
    "$$ \\begin{aligned}\n",
    "F[k] &=  \\sum_{k'=-K}^K \\sum_{n=0}^{N-1}  c_{k'} e^{i \\frac{2\\pi}{N} k'  n  } e^{-i \\frac{2\\pi}{N} k n}\\\\\n",
    "&= \\sum_{k'=-K}^K  c_{k'} \\sum_{n=0}^{N-1}  e^{i \\frac{2\\pi}{N} k'  n  } e^{-i \\frac{2\\pi}{N} k n} \\\\\n",
    "&= \\sum_{k'=-K}^K  c_{k'} \\left\\{ \n",
    "\\begin{array}{ll}\n",
    "    N &, \\text{ if } k'-k  \\text{ is a multiple of } N  \\\\\n",
    "   0  &, \\text{ else}. \n",
    "\\end{array}\n",
    "\\right.  \\\\\n",
    "\\end{aligned} $$\n",
    "\n",
    "Now if $\\frac{1}{T} > 2 K \\frac{1}{P}$, we have $\\frac{P}{T} > 2 K$ and thus  $N > 2 K$. This implies that the only $k'$ in the range $k'\\in \\{ -K, -K+1, \\ldots, K \\}$ which is such that $k'$ a multiple of $N$ is $k'=0$. Likewise, the only $k'$ in the range $k'\\in \\{ -K, -K+1, \\ldots, K \\}$ which is such that $k'$ a multiple of $N$ plus $k$ is $k'=k$. Thus the right-hand-side sum simplifies to\n",
    "\n",
    "$$ \\begin{aligned}\n",
    "F[k] &=   N c_{k}, \\text{ for } k=0,1,2,\\ldots,K \\\\\n",
    "\\end{aligned} $$\n",
    "\n",
    "\n"
   ]
  },
  {
   "cell_type": "markdown",
   "id": "f876c951-95d3-4012-a97a-b14c067e6941",
   "metadata": {},
   "source": [
    "### <span style=\"color:red\"> Exercise 9 </span>\n",
    "Illustrate the Sampling Theorem with a numerical example:\n",
    "* Write a  periodic signal $f(t)$ as a linear combination of  sines and cosines. \n",
    "* Obtain a sampling $f_d[n]=f(nT)$ of the signal $f(t)$, with an appropriate sampling period $T$.\n",
    "* Compute the DFT coefficients of the sampling $f_d[n]$.\n",
    "* Use the formula from the theorem to recover the coefficients $a_k$, $b_k$ of the linear combination from the DFT coefficients. "
   ]
  },
  {
   "cell_type": "code",
   "execution_count": null,
   "id": "0c41173f-38f9-4b04-a333-7ac08c9be368",
   "metadata": {},
   "outputs": [],
   "source": []
  },
  {
   "cell_type": "markdown",
   "id": "cf267314-431d-43a7-aa9a-c01512fb88ef",
   "metadata": {},
   "source": [
    "## <span style=\"color:orange;\"> 5. The FFT Command </span>"
   ]
  },
  {
   "cell_type": "markdown",
   "id": "f6e4ec96-af2c-408a-aae1-21700c26af2e",
   "metadata": {},
   "source": [
    "In the previous exercise, you had to write your own function to compute a DFT. Running your function may have taken a long time, especially if you used loops. Python has a quick command to compute a DFT. The command uses a fast algorithm called a Fast Fourier Transform (FFT) to compute the DFT.\n",
    "\n",
    "Numpy and Scipy python libraries have an fft function which can be used for computing discrete fourier transforms.\n",
    "\n",
    "An example is provided to demonstrate computing and plotting of the DFT of a signal using numpy.fft.fft function."
   ]
  },
  {
   "cell_type": "code",
   "execution_count": 44,
   "id": "04d433d9-57e2-4c90-84ea-3567edb0ea52",
   "metadata": {},
   "outputs": [
    {
     "data": {
      "image/png": "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\n",
      "text/plain": [
       "<Figure size 640x480 with 1 Axes>"
      ]
     },
     "metadata": {},
     "output_type": "display_data"
    }
   ],
   "source": [
    "import numpy as np\n",
    "import matplotlib.pyplot as plt\n",
    "\n",
    "def sine_wave_generator(frequency, t):\n",
    "\n",
    "    y = np.sin(2 * np.pi * frequency * t)\n",
    "    \n",
    "    return y\n",
    "\n",
    "sampling_rate = 2100\n",
    "sampling_period = 1/sampling_rate\n",
    "duration = 2\n",
    "\n",
    "t = np.arange(0, duration, sampling_period) \n",
    "\n",
    "waveform = 3*sine_wave_generator(2, t) + sine_wave_generator(5, t) + 2*sine_wave_generator(3, t)\n",
    "\n",
    "plt.plot(t, waveform)\n",
    "plt.title('Signal')\n",
    "plt.xlabel('t')\n",
    "plt.ylabel('f(t)')\n",
    "plt.show()\n"
   ]
  },
  {
   "cell_type": "code",
   "execution_count": 45,
   "id": "8a6304db-ce8d-492d-aa96-14394709dfdf",
   "metadata": {},
   "outputs": [
    {
     "data": {
      "image/png": "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\n",
      "text/plain": [
       "<Figure size 800x600 with 1 Axes>"
      ]
     },
     "metadata": {},
     "output_type": "display_data"
    }
   ],
   "source": [
    "\n",
    "\n",
    "dft = np.fft.fft(waveform)\n",
    "\n",
    "num_samples = sampling_rate * duration\n",
    "xf = np.fft.fftfreq(num_samples, sampling_period)\n",
    "\n",
    "plt.figure(figsize = (8, 6))\n",
    "plt.stem(xf, np.abs(dft))\n",
    "plt.xlim(-10, 10)\n",
    "plt.title('Discrete Fourier Transform')\n",
    "plt.xlabel('frequency')\n",
    "plt.ylabel('Amplitude')\n",
    "plt.show()"
   ]
  },
  {
   "cell_type": "markdown",
   "id": "6bc180aa-7c6f-416b-90f7-fd37ee1e2ce7",
   "metadata": {},
   "source": [
    "### <span style=\"color:red\"> Exercise 10 </span>\n",
    "Repeat exercise 10 with a different signal $f(t)$. This time, use the FFT command."
   ]
  },
  {
   "cell_type": "code",
   "execution_count": null,
   "id": "f28233c1-e883-4593-8fe7-dae6596aa34b",
   "metadata": {},
   "outputs": [],
   "source": []
  },
  {
   "cell_type": "markdown",
   "id": "f9aa527f-da61-4fb6-800f-b57c7085119e",
   "metadata": {},
   "source": [
    "## <span style=\"color:green;\"> Reflection </span>\n",
    "\n",
    "Do not skip this section! Assignment will be graded only on completing this section.\n",
    "\n",
    "__1. What parts of the lab, if any, do you feel you did well? <br>\n",
    "2. What are some things you learned today? <br>\n",
    "3. Are there any topics that could use more clarification? <br>\n",
    "4. Do you have any suggestions on parts of the lab to improve?__\n",
    "\n",
    "<h3 style=\"background-color:lightblue\"> Write Answers for the Reflection Below </h3>"
   ]
  },
  {
   "cell_type": "code",
   "execution_count": null,
   "id": "be113ed4-087e-45e3-a85e-b584f14ad2ae",
   "metadata": {},
   "outputs": [],
   "source": []
  }
 ],
 "metadata": {
  "kernelspec": {
   "display_name": "Python 3 (ipykernel)",
   "language": "python",
   "name": "python3"
  },
  "language_info": {
   "codemirror_mode": {
    "name": "ipython",
    "version": 3
   },
   "file_extension": ".py",
   "mimetype": "text/x-python",
   "name": "python",
   "nbconvert_exporter": "python",
   "pygments_lexer": "ipython3",
<<<<<<< HEAD
   "version": "3.9.0"
=======
   "version": "3.10.9"
>>>>>>> 17bb3e72fcb1b1056b531817fc71073aa3e6dc9e
  }
 },
 "nbformat": 4,
 "nbformat_minor": 5
}
