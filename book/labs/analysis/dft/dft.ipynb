{
 "cells": [
  {
   "cell_type": "markdown",
   "id": "5af5bf76-eeba-48b3-ac6e-489f4fc6ca9c",
   "metadata": {},
   "source": [
    "# Week 10: The Discrete Fourier Transform (DFT)\n",
    "\n",
    "<font size=\"6\"> Laboratory 9 </font> <br>\n",
    "<font size=\"3\"> Last updated February 17, 2023 </font>"
   ]
  },
  {
   "cell_type": "markdown",
   "id": "0d3551c5-166a-4757-b099-e36be5551b02",
   "metadata": {},
   "source": [
    "## <span style=\"color:orange;\"> 00. Content </span>\n",
    "\n",
    "### Mathematics \n",
    "- Fourier series\n",
    "- Euler's formula\n",
    "- Sampling and Aliasing\n",
    "- Periodicity of discrete-time complex exponentials\n",
    "- Orthogonality of discrete complex harmonics exponentials\n",
    "- Sampling theorem\n",
    "    \n",
    "### Programming Skills \n",
    "- FFT function\n",
    "    \n",
    "### Embedded Systems \n",
    "- N/A\n",
    "\n",
    "## <span style=\"color:orange;\"> 0. Required Hardware </span>\n",
    "- N/A"
   ]
  },
  {
   "cell_type": "markdown",
   "id": "e1e8e33e-141c-4ba0-b7b2-d721bdc3edc8",
   "metadata": {},
   "source": [
    "<h3 style=\"background-color:lightblue\"> Write your name and email below: </h3>\n",
    "\n",
    "**Name:** me \n",
    "\n",
    "**Email:** me @purdue.edu"
   ]
  },
  {
   "cell_type": "code",
   "execution_count": null,
   "id": "d81382e4-4bee-4285-87e4-4a32631e794f",
   "metadata": {},
   "outputs": [],
   "source": [
    "import numpy as np\n",
    "import matplotlib.pyplot as plt"
   ]
  },
  {
   "cell_type": "markdown",
   "id": "004e4038-3e35-441a-9388-ca2417648ad3",
   "metadata": {},
   "source": [
    "## <span style=\"color:orange;\"> 1. Intro </span>"
   ]
  },
  {
   "cell_type": "markdown",
   "id": "5857505d-44b8-47d9-991e-414491827618",
   "metadata": {},
   "source": [
    "The signals we acquire in real-life have a finite duration. We typically assume that they \"start at zero,\" meaning that they are equal to zero until $t=0$. After the signal duration is passed, i.e. when $t$ is greater than the duration of the signal, then we also assume that the signal is equal to zero. "
   ]
  },
  {
   "cell_type": "markdown",
   "id": "3316e277-1ddb-4b74-8f09-d47de4e8cb53",
   "metadata": {},
   "source": [
    "Putting this in mathematical terms: a finite duration signal $f(t)$ takes the form $$ f(t)=\\left\\{ \\begin{array}{ll} f(t), & 0\\leq t < \\text{signal duration}, \\\\ 0, & \\text{ else.}\\end{array}  \\right. $$"
   ]
  },
  {
   "cell_type": "markdown",
   "id": "e2da3189-d994-4b18-a28e-47ed44ceae07",
   "metadata": {},
   "source": [
    "In order to analyze a finite duration signal, we repeat it periodically with a period $P$ that is at least as long as the duration of the signal (otherwise, the copies will overlap with each other and mess up the signal). When $P$ is strictly greater than the duration (so there is \"space\" in between the copies), we say that the signal has been \"zero padded\" between the repetitions. "
   ]
  },
  {
   "cell_type": "markdown",
   "id": "dc0a2606-9069-49db-bfbe-af452a0aa9a7",
   "metadata": {},
   "source": [
    "We assume that the repeated signal is such that it is equal to its Fourier series: $$f(t)= \\frac{a_0}{2}+ \\sum_{k=1}^\\infty a_k \\cos \\left(\\frac{2 \\pi}{P} k t \\right) + b_k \\sin \\left(\\frac{2 \\pi}{P} k t  \\right).$$"
   ]
  },
  {
   "cell_type": "markdown",
   "id": "c1a78b88-7010-44dd-98ae-5f768d90dc37",
   "metadata": {},
   "source": [
    "We are interested in analyzing the signal $f(t)$. In real-life, we cannot do this directly by manipulating the function $f(t)$, as we typically only have access to a digital recording of $f(t)$. So, for example, computing the Fourier transform of $f(t)$ (by integration) is not possible. We would like to be able to perform the analysis of $f(t)$ by analysing its digital recording instead."
   ]
  },
  {
   "cell_type": "markdown",
   "id": "59423391-3a96-4f83-8ebd-66b54ff307a3",
   "metadata": {},
   "source": [
    "One important analysis to be performed is the recovery of the coefficients  $a_k,b_k$ from the digital recording. \n",
    "\n",
    "\n",
    "We assume that the digital recording takes the form of a discrete-time signal $f_d[n]$, with $n\\in {\\mathbb N}$, obtained by sampling the original signal $f(t)$. More specifically, we assume that $f_d[n]$ is a uniform sampling of $f(t)$:\n",
    "\n",
    "$$f_d[n]=f(nT), \\text{ for some } T>0.$$\n",
    "\n",
    "\n",
    "The parameter $T$ is called the **sampling period**. The quantity $\\frac{1}{T}$ is called the **sampling frequency**.   The sampling period $T$ is the time difference between two sample points, and the sampling frequency represent how many samples are acquired per time unit.    "
   ]
  },
  {
   "cell_type": "markdown",
   "id": "3f0566e3-fd5f-428b-92ed-0a04333cad08",
   "metadata": {},
   "source": [
    "In order to simplify the math, we rewrite $f(t)$ in terms of complex exponentials: $$ f(t)=  \\sum_{k=-\\infty}^\\infty c_n e^{i \\frac{2\\pi}{P}kt} $$ where $ c_0=\\frac{a_0}{2} $ and $c_n=\\frac{1}{2} (a_n- i b_n)=c_{-n}^*$,  for $n>1$. "
   ]
  },
  {
   "cell_type": "markdown",
   "id": "aa5c319d-901a-43fd-b5f1-17de35fd316e",
   "metadata": {},
   "source": [
    "### <span style=\"color:red\"> Exercise 1 </span>\n",
    "Derive the above formula. (Hint: replace each sine and cosine by sums of complex exponentials. If you do not know the sums already, find them using Euler's formula $e^{i\\theta}=\\cos \\theta + i \\sin \\theta$. B'Euler up! )"
   ]
  },
  {
   "cell_type": "code",
   "execution_count": null,
   "id": "972b5409-717c-4ec0-ba15-2f2dc5579c9f",
   "metadata": {},
   "outputs": [],
   "source": []
  },
  {
   "cell_type": "markdown",
   "id": "cab977d4-65cf-49ae-954a-8475f06d63bb",
   "metadata": {},
   "source": [
    "In the following, we will show how to recover the coefficients $a_k,b_k$ using the **Discrete Fourier Transform (DFT)** of the sampling $f_n[n]$. The DFT transforms a discrete-time periodic signal with period $N$ into a sequence of complex numbers that is also periodic with period $N$. The numbers in the sequence are called the **DFT coefficients.**"
   ]
  },
  {
   "cell_type": "markdown",
   "id": "63c5b3f2-278d-4f93-a67b-34317b0f1b90",
   "metadata": {},
   "source": [
    "The formula for the $k^{th}$ DFT coefficient of a sampled signal $f_d[n]$ with period $N$ is\n",
    "\n",
    "$$ F[k]= \\sum_{n=0}^{N-1} f_d[n] e^{-i \\frac{2 \\pi}{N} k n }.  $$\n"
   ]
  },
  {
   "cell_type": "markdown",
   "id": "cd74ca12-0dc1-48d3-9360-a5633303b10e",
   "metadata": {},
   "source": [
    "As we will see later, in some circumstances, namely if\n",
    "- the Fourier series of $f(t)$ is finite, that is to say if $c_k=0$ for all $|k|>K$, (i.e., a band-limited signal) and \n",
    "- $N$ is large enough,\n",
    "\n",
    "then we have \n",
    "\n",
    "$$F[k]= N c_k, \\text{ for all }0\\leq k \\leq K.$$ \n",
    "\n",
    "Therefore, in those circumstances, one can recover the Fourier series coefficients $a_k=2 (c_k+c_k^*)$, $b_k=2(c_k-c_k^*)$ of the signal $f(t)$ from the DFT coefficients of the sampled signal. The rest of the lab explores and clarifies this.\n"
   ]
  },
  {
   "cell_type": "markdown",
   "id": "97e0f193-a192-4029-a7f0-05bf2d8c8a74",
   "metadata": {},
   "source": [
    "## <span style=\"color:orange;\"> 2. Periodicity of the Sampling </span>"
   ]
  },
  {
   "cell_type": "markdown",
   "id": "3ca65d56-ee6d-4359-bc46-8a41513b148c",
   "metadata": {},
   "source": [
    "In order for the proposed analysis method to work, the sampled signal must be periodic. In other words, there must exist an integer $N$ such that \n",
    "\n",
    "$$ f_d[n+N] = f_d[n], \\forall n.$$\n",
    "\n",
    "Depending on the sampling period $T$ chosen, the sampled signal may or may not be periodic."
   ]
  },
  {
   "cell_type": "markdown",
   "id": "9407ce7c-ac0f-4261-9821-4a9da1c2a108",
   "metadata": {},
   "source": [
    "### <span style=\"color:red\"> Exercise 2 </span>\n",
    "If the signal $f(t)=e^{i \\frac{2\\pi}{10} t }$ is sampled with a sampling period $T=2$, show that the resulting sampling $f_d[n]=f(nT)$ is periodic with period $N=5$. (Use either code or mathematics.) "
   ]
  },
  {
   "cell_type": "code",
   "execution_count": null,
   "id": "1ff236a6-bb76-476a-970e-90ae0db2f522",
   "metadata": {},
   "outputs": [],
   "source": []
  },
  {
   "cell_type": "markdown",
   "id": "444cb8d6-8f1d-4b92-ad79-0c18d814adec",
   "metadata": {},
   "source": [
    "### <span style=\"color:red\"> Exercise 3 </span> \n",
    "If the signal $f(t)=e^{i \\frac{2\\pi}{10} t }$ is sampled with a sampling period $T=3$, show that the resulting sampling $f_d[n]=f(nT)$ is periodic with period $N=10$. (Use either code or mathematics.)"
   ]
  },
  {
   "cell_type": "code",
   "execution_count": null,
   "id": "cd29767b-6633-4258-9786-b277f0f631fb",
   "metadata": {},
   "outputs": [],
   "source": []
  },
  {
   "cell_type": "markdown",
   "id": "6032868c-47ca-4f64-84ef-803cc34a6988",
   "metadata": {},
   "source": [
    "### <span style=\"color:red\"> Exercise 4 </span> \n",
    "If the signal $f(t)=e^{i \\frac{2\\pi}{10} t }$ is sampled with a sampling period $T=\\sqrt{2}$, show that the resulting sampling $f_d[n]=f(nT)$ is not periodic. (Here you must use mathematics.)"
   ]
  },
  {
   "cell_type": "code",
   "execution_count": null,
   "id": "a9d4ccc4-df7e-4729-88dc-bacac116e071",
   "metadata": {},
   "outputs": [],
   "source": []
  },
  {
   "cell_type": "markdown",
   "id": "fcc84fd4-b252-4b86-bc0d-7ec8a1c9a169",
   "metadata": {},
   "source": [
    "In general, $f_d[n]= f(n T)$ is periodic  if an only if $\\frac{P}{T}$ is a rational number. That means that we can write $\\frac{P}{T}$ as a ratio of two integers:\n",
    "$$\\frac{P}{T}=\\frac{N}{K}.$$ \n",
    "If $N$ and $K$ have no common factor, then $N$ is the fundamental period of $f_d[n]$. "
   ]
  },
  {
   "cell_type": "markdown",
   "id": "d5d649b0-b5c9-473e-b668-d6860be1437a",
   "metadata": {},
   "source": [
    "For example, if $T=\\frac{P}{N}$, then we acquire $N$ samples per period, and $f_d[n]$ is periodic with period $N$. Similarly, if $T=\\frac{2 P}{N}$, then we acquire $N$ samples per two periods, which corresponds to $\\frac{N}{2}$ samples per period. If $N$ is odd, then $f_d[n]$ has period $N$ (it has to be an integer). If $N$ is even, $f_d[n]$ has period $\\frac{N}{2}$."
   ]
  },
  {
   "cell_type": "markdown",
   "id": "27792374-326d-4c3c-85c8-7819dfd3630d",
   "metadata": {},
   "source": [
    "## <span style=\"color:orange;\"> 2. Toy Example of Signal Analysis </span>"
   ]
  },
  {
   "cell_type": "markdown",
   "id": "66113d8c-2349-4b5d-9663-2543623a2d81",
   "metadata": {},
   "source": [
    "Suppose the signal recorded, once repeated periorically, is of the form $$  f(t)= a_1 \\cos \\left(2 \\pi 100 t \\right) + a_4 \\cos \\left(2 \\pi 400 t  \\right). $$\n",
    "So the signal has period $P=\\frac{1}{100}$."
   ]
  },
  {
   "cell_type": "markdown",
   "id": "6af62db5-319d-4f8b-a4e9-e2a177b37b5c",
   "metadata": {},
   "source": [
    "Given is a recording with 1000 samples per unit of time (so the sampling period is $T=\\frac{1}{1000}$): $$ f_d[n] = f( n \\frac{1} {1000}).$$\n",
    "More specifically, the recorded signal is  \n",
    "\n",
    "$$ \\begin{aligned}\n",
    "f_d[n]&= a_1 \\cos \\left(2 \\pi 100 \\frac{n} {1000} \\right) + a_4 \\cos \\left(2 \\pi 400  \\frac{n} {1000}  \\right)\\\\\n",
    "&= a_1 \\cos \\left(2 \\pi \\frac{n}{10} \\right) + a_4 \\cos \\left(2 \\pi 4 \\frac{n}{10} \\right). \n",
    "\\end{aligned} $$\n",
    "\n",
    "Observe that $f_d[n]$ is periodic, with period $N=10$. This is because we are taking $10$ samples per period (since $\\frac{P}{T}=\\frac{1000}{100}=10$)."
   ]
  },
  {
   "cell_type": "markdown",
   "id": "f7266202-51f8-4d7c-841d-492141a2f179",
   "metadata": {},
   "source": [
    "Let us write $f_d[n]$ in terms of complex exponentials, using the formulas $\\cos \\theta = \\frac{1}{2} (e^{i\\theta}+e^{-i\\theta})$ and $\\sin \\theta = \\frac{1}{2i} (e^{i\\theta}-e^{-i\\theta})$: \n",
    "\n",
    "$$ f_d[n]= \\frac{a_1}{2} \\left(e^{i  2 \\pi \\frac{n}{10}}+ e^{-i 2 \\pi \\frac{n}{10}}\\right) + \\frac{a_4}{2}\\left(e^{i 2 \\pi  4 \\frac{n}{10}}+ e^{-i 2 \\pi 4 \\frac{n}{10}}\\right). $$"
   ]
  },
  {
   "cell_type": "markdown",
   "id": "e59a9f62-03e2-46f5-b4fc-90e39d977991",
   "metadata": {},
   "source": [
    "Now let us compute the first coefficient $F[1]$ of the 10-point DFT of $f_d[n]$.  "
   ]
  },
  {
   "cell_type": "markdown",
   "id": "9246189e-f0b1-4c1e-ae27-9acb48237317",
   "metadata": {},
   "source": [
    "We have \n",
    "$$ \\begin{aligned}\n",
    "F[1]&= \\sum_{n=0}^{9} f_d[n]  e^{-i \\frac{2\\pi}{10} n} \\\\\n",
    "&= \\sum_{n=0}^{9} \\left( \\frac{a_1}{2} \\left(e^{i 2 \\pi \\frac{n}{10}}+ e^{-i 2 \\pi \\frac{n}{10}}\\right) \n",
    "+\n",
    "\\frac{a_4}{2}\\left(e^{i 2 \\pi  4 \\frac{n}{10}}+ e^{-i 2 \\pi 4 \\frac{n}{10}}\\right)\\right)  e^{-i \\frac{2\\pi}{10}  n} \\\\\n",
    "&= 10 \\frac{a_1}{2}\n",
    "\\end{aligned}$$\n",
    "since complex exponentials have the following orthogonality property:\n",
    "$$ \\sum_{n=0}^{N-1} e^{j \\frac{2\\pi}{N} k_1 n } e^{j \\frac{2\\pi}{N} k_2 n } = \\left\\{ \n",
    "\\begin{array}{ll}\n",
    "    N &, \\text{ if } k_1+k_2  \\text{ is a multiple of } N  \\\\\n",
    "   0  &, \\text{ else}. \n",
    "\\end{array}\n",
    "\\right.$$\n",
    "Therefore, $a_1=2 \\frac{F[1]}{10}$. So we are able to obtain the value of $a_1$ from the value of $F[1]$."
   ]
  },
  {
   "cell_type": "markdown",
   "id": "8daae434-ff03-4704-846f-b5a0022a632a",
   "metadata": {},
   "source": [
    "### <span style=\"color:red\"> Exercise 5 </span>\n",
    "Test the formula $a_1=2 \\frac{ F[1]}{10}$ as follows:\n",
    "* pick the values of $a_1$ and $a_4$. (Do not pick the same value for both.)\n",
    "* replace the chosen values in the function $  f(t)= a_1 \\cos \\left(2 \\pi 100 t \\right) + a_4 \\cos \\left(2 \\pi 400 t  \\right)$. \n",
    "* Sample the function $f(t)$ with a sampling period $T=1000^{-1}$ to obtain the sampling $ f_d[n]$.\n",
    "* Compute $F[1]$ using the formula  $F[1]=\\sum_{n=0}^{9} f_d[n]  e^{-i \\frac{2\\pi}{10} n}$.\n",
    "* Compute $a_1$ using the formula $a_1=2 \\frac{ F[1]}{10}$.\n",
    "* Compare the value of $a_1$ you obtained to the original value of $a_1$ you had chosen. Is it the same?"
   ]
  },
  {
   "cell_type": "code",
   "execution_count": null,
   "id": "7275d1b0-9ef2-466b-ac7a-34c034fc7332",
   "metadata": {},
   "outputs": [],
   "source": []
  },
  {
   "cell_type": "markdown",
   "id": "9fad9a4c-9933-4d5b-ac5d-0fb95f0ca3e9",
   "metadata": {},
   "source": [
    "Similarly, we can recover $a_4$ from $F[4]$. Indeed, we have\n",
    "$$ \\begin{aligned}\n",
    "F[4]&= \\sum_{n=0}^{9} f_d[n]  e^{-i \\frac{2\\pi}{10} 4 n} \\\\\n",
    "&= \\sum_{n=0}^{4} \\left( \\frac{a_1}{2} \\left(e^{i 2 \\pi \\frac{n}{10}}+ e^{-i 2 \\pi  \\frac{n}{10}}\\right) \n",
    "+\n",
    "\\frac{a_4}{2}\\left(e^{i 2 \\pi  4 \\frac{n}{10}}+ e^{-i 2 \\pi 4 \\frac{n}{10}}\\right)\\right) e^{-i \\frac{2\\pi}{5} 4 n} \\\\\n",
    "&= 10 \\frac{a_4}{2},\n",
    "\\end{aligned}$$ \n",
    "again by using the fact that \n",
    "\n",
    "$$ \\sum_{n=0}^{N-1} e^{j \\frac{2\\pi}{N} k_1 n } e^{j \\frac{2\\pi}{N} k_2 n } = \\left\\{ \n",
    "\\begin{array}{ll}\n",
    "    N &, \\text{ if } k_1+k_2  \\text{ is a multiple of } N  \\\\\n",
    "   0  &, \\text{ else}. \n",
    "\\end{array}\n",
    "\\right.$$\n",
    "\n",
    "Therefore, $a_4=2 \\frac{F[4]}{10}$. So we are able to obtain the value of $a_4$ from the value of $F[4]$.\n"
   ]
  },
  {
   "cell_type": "markdown",
   "id": "28205974-136d-4ebc-82ac-2bf4059153d5",
   "metadata": {},
   "source": [
    "### <span style=\"color:red\"> Exercise 6 </span> \n",
    "Test the formula $a_4=2 \\frac{F[4]}{10}$ in the same was as you did for Exercise 5."
   ]
  },
  {
   "cell_type": "code",
   "execution_count": null,
   "id": "9fe14aef-0e66-41b7-b7c2-a6bc6d2762b4",
   "metadata": {},
   "outputs": [],
   "source": []
  },
  {
   "cell_type": "markdown",
   "id": "4d00fd5a-3e4a-4cf4-8699-0571559e865f",
   "metadata": {},
   "source": [
    "## <span style=\"color:orange;\"> 3. Another Toy Example of Signal Analysis- with Aliasing </span>"
   ]
  },
  {
   "cell_type": "markdown",
   "id": "ead408e9-be47-4929-be08-539692009ca2",
   "metadata": {},
   "source": [
    "Again, we assume thay the signal recorded is known to be of the form\n",
    "$$  f(t)= a_1 \\cos \\left(2 \\pi 100 t \\right) + a_4 \\cos \\left(2 \\pi 400  t  \\right). $$\n",
    "So the signal has period $P=\\frac{1}{100}$."
   ]
  },
  {
   "cell_type": "markdown",
   "id": "b388414f-d177-43d6-8334-436b74d304e4",
   "metadata": {},
   "source": [
    "But this time, we are given a recording with only 500 samples per unit of time (so the sampling period is $T=\\frac{1}{500}$): \n",
    "$$ f_d[n] = f( n \\frac{1} {500}).$$\n",
    "More specifically, the recorded signal is  \n",
    "$$ \\begin{aligned}\n",
    "f_d[n]&= a_1 \\cos \\left(2 \\pi 100 \\frac{n} {500} \\right) + a_4 \\cos \\left(2 \\pi 400  \\frac{n} {500}  \\right)\\\\\n",
    "&= a_1 \\cos \\left(2 \\pi  \\frac{n}{5} \\right) + a_4 \\cos \\left(2 \\pi 4 \\frac{n}{5} \\right). \n",
    "\\end{aligned} $$"
   ]
  },
  {
   "cell_type": "markdown",
   "id": "b98e6f0b-3b67-450a-bdb4-08d8af7d43ec",
   "metadata": {},
   "source": [
    "Here $f_d[n]$ is periodic with period $N=5$. This is because we are taking $5$ samples per signal period (since $\\frac{P}{T}=\\frac{500}{100}=5$)."
   ]
  },
  {
   "cell_type": "markdown",
   "id": "55af7b00-812a-408a-a406-3015e1b2468a",
   "metadata": {},
   "source": [
    "Let us write $f_d[n]$ in terms of complex exponentials:\n",
    "$$ \\begin{aligned}\n",
    "f_d[n]&= \\frac{a_1}{2} \\left(e^{i 2 \\pi  \\frac{n}{5}}+ e^{-i 2 \\pi  \\frac{n}{5}}\\right) \n",
    "+\n",
    "\\frac{a_4}{2}\\left(e^{i 2 \\pi  4 \\frac{n}{5}}+ e^{-i 2 \\pi 4 \\frac{n}{5}}\\right).\n",
    "\\end{aligned} $$"
   ]
  },
  {
   "cell_type": "markdown",
   "id": "48aee72b-6ed3-4a0d-993c-3852e51b1681",
   "metadata": {},
   "source": [
    "Now let us compute the first coefficient $F[1]$ of the 5-point DFT of $f_d[n]$.  "
   ]
  },
  {
   "cell_type": "markdown",
   "id": "14fd2f91-de86-4cc8-bc17-228667155143",
   "metadata": {},
   "source": [
    "We have \n",
    "$$ \\begin{aligned}\n",
    "F[1]&= \\sum_{n=0}^{4} f_d[n]  e^{-i \\frac{2\\pi}{5} n} \\\\\n",
    "&= \\sum_{n=0}^{4} \\left( \\frac{a_1}{2} \\left(e^{i 2 \\pi \\frac{n}{5}}+ e^{-i 2 \\pi  \\frac{n}{5}}\\right) \n",
    "+\n",
    "\\frac{a_4}{2}\\left(e^{i 2 \\pi  4 \\frac{n}{5}}+ e^{-i 2 \\pi 4 \\frac{n}{5}}\\right)\\right) e^{-i \\frac{2\\pi}{5} 4 n} \\\\\n",
    "&= 5 \\frac{a_1}{2} + 5 \\frac{a_4}{2},\n",
    "\\end{aligned} $$\n",
    "again since\n",
    "$$ \\sum_{n=0}^{N-1} e^{j \\frac{2\\pi}{N} k_1 n } e^{j \\frac{2\\pi}{N} k_2 n } = \\left\\{ \n",
    "\\begin{array}{ll}\n",
    "    N &, \\text{ if } k_1+k_2  \\text{ is a multiple of } N  \\\\\n",
    "   0  &, \\text{ else}. \n",
    "\\end{array}\n",
    "\\right.$$"
   ]
  },
  {
   "cell_type": "markdown",
   "id": "673734bf-299c-4a28-8912-072c351b294d",
   "metadata": {},
   "source": [
    "Thus, in this case, $F[1]$ does not give us the value of $a_1$ anymore, but rather only the sum of $a_1$ and $a_4$. "
   ]
  },
  {
   "cell_type": "markdown",
   "id": "d1b71a39-ca0a-4392-91de-388d10f1f97b",
   "metadata": {},
   "source": [
    "The reason for this is fundamental: the function $e^{i 2 \\pi  4 \\frac{n}{5}}$ is the same as the function $e^{-i 2 \\pi   \\frac{n}{5}}$. So we cannot recover the coefficients separately because the two exponential signals, once sampled, become the same signal. Indeed, the sampled signal can be written as\n",
    "$$ f_d[n]= \\left( \\frac{a_1}{2} +  \\frac{a_4}{2} \\right) e^{i 2\\pi  \\frac{n}{5}}+ \\left( \\frac{a_1}{2} +  \\frac{a_4}{2} \\right) e^{-i 2\\pi  \\frac{n}{5}}.$$"
   ]
  },
  {
   "cell_type": "markdown",
   "id": "eb8399fb-a39c-480f-8728-f20cfb3a5542",
   "metadata": {},
   "source": [
    "Another way to see this is to observe that $\\cos (2 \\pi 4 \\frac{n}{5})= \\cos(2 \\pi 4 \\frac{n}{5}- 2\\pi n )= \\cos (-2 \\pi  \\frac{n}{5})=  \\cos (2 \\pi  \\frac{n}{5})$."
   ]
  },
  {
   "cell_type": "markdown",
   "id": "47d568ca-0f26-4cab-ad81-ac721e582dac",
   "metadata": {},
   "source": [
    "So the signal $f_d[n]$ can be written as $$ \\begin{aligned}\n",
    "f_d[n]&= a_1 \\cos \\left(2 \\pi  \\frac{n}{5} \\right) + a_4 \\cos \\left(2 \\pi 4 \\frac{n}{5} \\right),\\\\\n",
    "&= a_1 \\cos \\left(2 \\pi  \\frac{n}{5} \\right)+ a_4 \\cos \\left(2 \\pi \\frac{n}{5} \\right),\\\\\n",
    "&= (a_1+a_4) \\cos \\left(2 \\pi  \\frac{n}{5} \\right).\n",
    "\\end{aligned} $$ \n",
    "This phenomenon is called **aliasing**. "
   ]
  },
  {
   "cell_type": "markdown",
   "id": "f6bb8a37-96e8-49e5-86ef-568a4f186b26",
   "metadata": {},
   "source": [
    "### <span style=\"color:red\"> Exercise 7 </span> \n",
    "Check, numerically, that sampling $\\cos (2\\pi 100 t)$ or $\\cos (2\\pi 400 t)$  with a period $T=\\frac{1}{500}$ in either cases yield the same discrete-time signal $f_d[n]$."
   ]
  },
  {
   "cell_type": "code",
   "execution_count": null,
   "id": "e916ad2e-53db-4525-80f1-0478f8b549b3",
   "metadata": {},
   "outputs": [],
   "source": []
  },
  {
   "cell_type": "markdown",
   "id": "c3eff06f-2cfb-49b6-8b6e-bc26230353aa",
   "metadata": {},
   "source": [
    "### <span style=\"color:red\"> Exercise 8 </span> \n",
    "Use an approach similar to that of Exercise 5 to show, numerically, that in the toy example with aliasing above, we have $\\frac{2}{5} F[1]= a_1+a_4$ (as opposed to $\\frac{2}{5} F[1]= a_1$)."
   ]
  },
  {
   "cell_type": "code",
   "execution_count": null,
   "id": "2668bc63-e3f3-452d-807d-c966b77bfc9e",
   "metadata": {},
   "outputs": [],
   "source": []
  },
  {
   "cell_type": "markdown",
   "id": "e6266b31-c54d-4e8b-9b8e-d587e9164c6b",
   "metadata": {},
   "source": [
    "## <span style=\"color:orange;\"> 4. The Theory </span>"
   ]
  },
  {
   "cell_type": "markdown",
   "id": "01703037-da26-484d-a158-b80733e7efd7",
   "metadata": {},
   "source": [
    "The aliasing phenomenon is well understood. In fact, you may have heard about the **Nyquist criterion**: a condition that, if satisfied, guarantees that aliasing will not occur. In this lab, we will not dwelve further into this criterion per say. Instead, we will jump directly to the topic of interest, which is to analyze a signal $f(t)$ from a sampling $f_d[n]=f(nT)$. By \"analysing\" we mean recovering the Fourier series coefficients $c_k$ of $f(t)$.  "
   ]
  },
  {
   "cell_type": "markdown",
   "id": "f16f2b9a-50b8-4947-bc57-607dcb4c44f7",
   "metadata": {},
   "source": [
    "Recall that the ** DFT** of a signal $f_d[n]$ with period $N$ is defined as the discrete-time signal\n",
    "\n",
    "$$ F[k]= \\sum_{n=0}^{N-1} f_d[n] e^{-i \\frac{2 \\pi}{N} k n },  $$\n",
    "\n",
    "and the specific value of entry $F[k]$  is called the **k-th coefficients of the DFT** of the signal. "
   ]
  },
  {
   "cell_type": "markdown",
   "id": "d063b17c-5af7-45f1-a43a-d88a536b1656",
   "metadata": {},
   "source": [
    "It turns out that the DFT coefficients give us the value of the Fourier series coefficients of $f(t)$, provided that we have taken \"enough\" samples considering the number of non-zero coefficients in the Fourier series of $f(t)$. More specifically, we have the following theorem."
   ]
  },
  {
   "cell_type": "markdown",
   "id": "77357a19-969c-44c7-9772-c447e04d82df",
   "metadata": {},
   "source": [
    "## Sampling Theorem\n",
    "If f(t) has a finite Fourier series with $2K+1$ terms \n",
    "\n",
    "$$f(t)=\\sum_{k=-K}^K c_k e^{i \\frac{2\\pi}{P} k t} = \\frac{a_0}{2}+ \\sum_{k=1}^K a_k \\cos \\left(\\frac{2 \\pi}{P} k t \\right) + b_k \\sin \\left(\\frac{2 \\pi}{P} k t  \\right). $$ \n",
    "\n",
    "(so band-limited, with maximum frequency $K\\frac{1}{P}$), and if we sample $f(t)$ with a sampling frequency $\\frac{1}{T}$ such that $\\frac{P}{T}=N$ is an integer (i.e., an integer number of points per period), and \n",
    "\n",
    "$$\\frac{1}{T} > 2 K\\frac{1}{P}$$ \n",
    "\n",
    "(i.e., more than $2K$ points per period). Then $f_d[n]$ is periodic, with period $N$, and the DFT of $f_d[n]$ gives the values of coefficients $c_k$ of the Fourier series of $f(t)$ as follows: \n",
    "\n",
    "$$\n",
    "\\begin{align}\n",
    "F[0] &= N c_0 = N a_0, \\\\\n",
    "F[k]& = N c_k= N\\frac{1}{2}(a_k-ib_k), \\text{ for all }  1\\leq k \\leq K.\n",
    "\\end{align}\n",
    "$$"
   ]
  },
  {
   "cell_type": "markdown",
   "id": "c355468f-5991-44f8-92d8-99df4c53b88e",
   "metadata": {},
   "source": [
    "## Proof of Sampling Theorem\n",
    "\n",
    "The proof of the sampling theorem follows the same model as the computation performed in the toy examples. \n",
    "\n",
    "We start from the formula for the DFT coefficients and replace $f_d[n]$ by its expression in terms of complex exponentials.\n",
    "\n",
    "$$ \\begin{aligned}\n",
    "F[k]&= \\sum_{n=0}^{N-1} f_d[n]  e^{-i \\frac{2\\pi}{N} k n} \\\\\n",
    "&=  \\sum_{n=0}^{N-1} f(nT) e^{-i \\frac{2\\pi}{N} k n} \\\\\n",
    "&=  \\sum_{n=0}^{N-1} \\sum_{k'=-K}^K c_{k'} e^{i \\frac{2\\pi}{P} k' n T } e^{-i \\frac{2\\pi}{N} k n}.\n",
    "\\end{aligned} $$\n",
    "Because of the choice of sampling period $T$, the sampling is periodic with period $N=\\frac{P}{T}$. Thus we can replace\n",
    "the fraction $\\frac{P}{T}$ in the right-hand-side by $N$ to obtain\n",
    "\n",
    "$$ \\begin{aligned}\n",
    "F[k] &=  \\sum_{n=0}^{N-1} \\sum_{k'=-K}^K c_{k'} e^{i \\frac{2\\pi}{N} k' n  } e^{-i \\frac{2\\pi}{N} k n}.\n",
    "\\end{aligned} $$\n",
    "\n",
    "\n",
    "Next we will simplify the right-hand-side by permuting the two sums and using the orthogonality property of the complex exponentials:\n",
    "\n",
    "$$ \\sum_{n=0}^{N-1} e^{j \\frac{2\\pi}{N} k_1 n } e^{j \\frac{2\\pi}{N} k_2 n } = \\left\\{ \n",
    "\\begin{array}{ll}\n",
    "    N &, \\text{ if } k_1+k_2  \\text{ is a multiple of } N  \\\\\n",
    "   0  &, \\text{ else}. \n",
    "\\end{array}\n",
    "\\right.  $$\n",
    "\n",
    "Step-by-step, we have, for $k=0,1,2,\\ldots, K$\n",
    "\n",
    "$$ \\begin{aligned}\n",
    "F[k] &=  \\sum_{k'=-K}^K \\sum_{n=0}^{N-1}  c_{k'} e^{i \\frac{2\\pi}{N} k'  n  } e^{-i \\frac{2\\pi}{N} k n}\\\\\n",
    "&= \\sum_{k'=-K}^K  c_{k'} \\sum_{n=0}^{N-1}  e^{i \\frac{2\\pi}{N} k'  n  } e^{-i \\frac{2\\pi}{N} k n} \\\\\n",
    "&= \\sum_{k'=-K}^K  c_{k'} \\left\\{ \n",
    "\\begin{array}{ll}\n",
    "    N &, \\text{ if } k'-k  \\text{ is a multiple of } N  \\\\\n",
    "   0  &, \\text{ else}. \n",
    "\\end{array}\n",
    "\\right.  \\\\\n",
    "\\end{aligned} $$\n",
    "\n",
    "Now if $\\frac{1}{T} > 2 K \\frac{1}{P}$, we have $\\frac{P}{T} > 2 K$ and thus  $N > 2 K$. This implies that the only $k'$ in the range $k'\\in \\{ -K, -K+1, \\ldots, K \\}$ which is such that $k'$ a multiple of $N$ is $k'=0$. Likewise, the only $k'$ in the range $k'\\in \\{ -K, -K+1, \\ldots, K \\}$ which is such that $k'$ a multiple of $N$ plus $k$ is $k'=k$. Thus the right-hand-side sum simplifies to\n",
    "\n",
    "$$ \\begin{aligned}\n",
    "F[k] &=   N c_{k}, \\text{ for } k=0,1,2,\\ldots,K \\\\\n",
    "\\end{aligned} $$\n",
    "$\\square$\n",
    "\n"
   ]
  },
  {
   "cell_type": "markdown",
   "id": "f876c951-95d3-4012-a97a-b14c067e6941",
   "metadata": {},
   "source": [
    "### <span style=\"color:red\"> Exercise 9 </span>\n",
    "Illustrate the Sampling Theorem with a numerical example:\n",
    "* Write a  periodic signal $f(t)$ as as a linear combination of  sines and cosines. \n",
    "* Obtain a sampling $f_d[n]=f(nT)$ of the signal $f(t)$, with an appropriate sampling period $T$.\n",
    "* Compute the DFT coefficients of the sampling $f_d[n]$.\n",
    "* Ue the formula from the theorem to recover the coefficients $a_k$ $b_k$ of the linear combination from the DFT coefficients. "
   ]
  },
  {
   "cell_type": "code",
   "execution_count": null,
   "id": "0c41173f-38f9-4b04-a333-7ac08c9be368",
   "metadata": {},
   "outputs": [],
   "source": []
  },
  {
   "cell_type": "markdown",
   "id": "cf267314-431d-43a7-aa9a-c01512fb88ef",
   "metadata": {},
   "source": [
    "## <span style=\"color:orange;\"> 5. The FFT Command </span>"
   ]
  },
  {
   "cell_type": "markdown",
   "id": "f6e4ec96-af2c-408a-aae1-21700c26af2e",
   "metadata": {},
   "source": [
    "In the previous exercise, you had to write your own function to compute a DFT. Running your function may have taken a long time, especially if you used loops. Python has a quick command to compute a DFT. The command uses a fast algorithm called a Fast Fourier Transform (FFT) to compute the DFT.  Here is the synthax. CODE NEEDS TO BE ADDED HERE."
   ]
  },
  {
   "cell_type": "markdown",
   "id": "6bc180aa-7c6f-416b-90f7-fd37ee1e2ce7",
   "metadata": {},
   "source": [
    "### <span style=\"color:red\"> Exercise 10 </span>\n",
    "Repeat exercise 10 with a different signal $f(t)$. This time, use the FFT command."
   ]
  },
  {
   "cell_type": "code",
   "execution_count": null,
   "id": "f28233c1-e883-4593-8fe7-dae6596aa34b",
   "metadata": {},
   "outputs": [],
   "source": []
  },
  {
   "cell_type": "markdown",
   "id": "f9aa527f-da61-4fb6-800f-b57c7085119e",
   "metadata": {},
   "source": [
    "## <span style=\"color:green;\"> Reflection </span>\n",
    "\n",
    "Do not skip this section! It will be graded but only on completion.\n",
    "\n",
    "__1. What parts of the lab, if any, do you feel you did well? <br>\n",
    "2. What are some things you learned today? <br>\n",
    "3. Are there any topics that could use more clarification? <br>\n",
    "4. Do you have any suggestions on parts of the lab to improve?__\n",
    "\n",
    "<h3 style=\"background-color:lightblue\"> Write Answers for the Reflection Below </h3>"
   ]
  },
  {
   "cell_type": "code",
   "execution_count": null,
   "id": "be113ed4-087e-45e3-a85e-b584f14ad2ae",
   "metadata": {},
   "outputs": [],
   "source": []
  }
 ],
 "metadata": {
  "kernelspec": {
   "display_name": "Python 3",
   "language": "python",
   "name": "python3"
  },
  "language_info": {
   "codemirror_mode": {
    "name": "ipython",
    "version": 3
   },
   "file_extension": ".py",
   "mimetype": "text/x-python",
   "name": "python",
   "nbconvert_exporter": "python",
   "pygments_lexer": "ipython3",
   "version": "3.8.8"
  }
 },
 "nbformat": 4,
 "nbformat_minor": 5
}
