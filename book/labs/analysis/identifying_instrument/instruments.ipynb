{
 "cells": [
  {
   "cell_type": "markdown",
   "id": "078bd073-0260-4976-be10-bb29f7765cfd",
   "metadata": {},
   "source": [
    "# Week 13: Identifying Music Instruments"
   ]
  },
  {
   "cell_type": "markdown",
   "id": "62df040b-3361-47b3-b9f3-3e538ab82ed0",
   "metadata": {},
   "source": [
    "create synthesized instrument using formula for FM, then write them as sum of exponentials using DFT"
   ]
  },
  {
   "cell_type": "markdown",
   "id": "7480e1a2-1c68-48d8-8477-7d99e5d53233",
   "metadata": {},
   "source": [
    "introduce idea of recognizing by comparing fourier series (FDT) coefficients "
   ]
  },
  {
   "cell_type": "markdown",
   "id": "a60a4b29-18f8-4270-98e3-b3d20c21a100",
   "metadata": {},
   "source": [
    "do it with real instrument sound (voice?) as well as synthesized ones"
   ]
  }
 ],
 "metadata": {
  "kernelspec": {
   "display_name": "Python 3",
   "language": "python",
   "name": "python3"
  },
  "language_info": {
   "codemirror_mode": {
    "name": "ipython",
    "version": 3
   },
   "file_extension": ".py",
   "mimetype": "text/x-python",
   "name": "python",
   "nbconvert_exporter": "python",
   "pygments_lexer": "ipython3",
   "version": "3.8.8"
  }
 },
 "nbformat": 4,
 "nbformat_minor": 5
}
