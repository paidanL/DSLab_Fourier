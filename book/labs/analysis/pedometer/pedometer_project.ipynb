{
 "cells": [
  {
   "cell_type": "markdown",
   "metadata": {},
   "source": [
    "# Week 12: Build a Pedometer\n",
    "\n",
    "<font size=\"6\"> Laboratory 11 </font> <br>\n",
    "<font size=\"3\"> Last updated April 5, 2023 </font>"
   ]
  },
  {
   "cell_type": "markdown",
   "metadata": {},
   "source": [
    "## <span style=\"color:orange;\"> 00. Content </span>\n",
    "\n",
    "<font size=\"5\"> Mathematics </font>\n",
    "- 3 dimensional vectors\n",
    "    \n",
    "<font size=\"5\"> Programming Skills </font>\n",
    "- Working with Functions and Classes\n",
    "\n",
    "## <span style=\"color:orange;\"> 0. Required Hardware </span>\n",
    "- Microcontroller: Raspberry Pi Pico\n",
    "- Breadboard\n",
    "- Micro-USB connector\n",
    "- LSM9DS0 sensor module\n",
    "- 9-volt battery\n",
    "- LM7805 IC (voltage regulator IC)"
   ]
  },
  {
   "cell_type": "markdown",
   "metadata": {},
   "source": [
    "<h3 style=\"background-color:lightblue\"> Write your name and email below: </h3>\n",
    "\n",
    "**Name:** me \n",
    "\n",
    "**Email:** me @purdue.edu"
   ]
  },
  {
   "cell_type": "markdown",
   "metadata": {},
   "source": [
    "## <span style=\"color:orange;\"> 1. Introduction </span>"
   ]
  },
  {
   "cell_type": "markdown",
   "metadata": {},
   "source": [
    "A pedometer is a small electronic gadget that counts the number of steps taken by a person throughout the day. It is often worn on the waistline or fastened into clothing and detects motion and activity using a sensor. Pedometers are popular among health and fitness enthusiasts because they can provide a good measure of daily physical activity and help people track their progress toward fitness goals. Many current pedometers now include calorie counts, distance measurements, and heart rate monitors, making them much more useful for tracking general health and fitness.\n",
    "\n",
    "Today we will work on building our own pedometer using a raspberry pi pico and some sensors.\n",
    "\n",
    "But before we begin let us explore how to store and retrieve data in pico."
   ]
  },
  {
   "cell_type": "markdown",
   "metadata": {},
   "source": [
    "## <span style=\"color:orange;\"> 2. Storing Data in a Raspberry Pi Pico </span>\n",
    "\n",
    "The Pico has 2MB of onboard memory or flash storage, so we can save some small files of sensor data directly on the Pico as a text or csv file. For applications which need more than 2MB of storage, we could always use connect an SD card module to our raspberry pi pico.\n",
    "\n",
    "Let us look at an example program to see how to save data to the onboard flash memory in our pico.\n",
    "Take a look at the file [temperature.py](https://github.com/TheDataScienceLabs/DSLab_Fourier/blob/main/book/labs/analysis/pedometer/temperature.py), which records the Pico's internal temperature in degrees Celcius and writes these temperature values to the file `temp.txt`. In this example, we are saving the temperature value at each instant on a new line in a text file."
   ]
  },
  {
   "cell_type": "markdown",
   "metadata": {},
   "source": [
    "### <span style=\"color:red\"> Exercise 1</span>\n",
    "\n",
    "- Using Thonny, run [temperature.py](https://github.com/TheDataScienceLabs/DSLab_Fourier/blob/main/book/labs/analysis/pedometer/temperature.py) on your Pico. \n",
    "- After the script is done running, move the `temp.txt` file that is stored on the Pico into your computer.\n",
    "- Delete `temp.txt` from the Pico's storage.\n",
    "- Plot and visualize the temperature readings. Include appropriate x-axis and y-axis labels"
   ]
  },
  {
   "cell_type": "code",
   "execution_count": null,
   "metadata": {},
   "outputs": [],
   "source": []
  },
  {
   "cell_type": "markdown",
   "metadata": {},
   "source": [
    "### <span style=\"color:red\"> Exercise 2</span>\n",
    "\n",
    "- Modify [temperature.py](https://github.com/TheDataScienceLabs/DSLab_Fourier/blob/main/book/labs/analysis/pedometer/temperature.py) to record the temperature values in degrees Fahrenheit.\n",
    "- After the script is done running, move the `temp.txt` file that is stored on the Pico into your computer.\n",
    "- Delete `temp.txt` from the Pico's storage.\n",
    "- Plot and visualize the temperature readings.Include appropriate x-axis and y-axis labels.\n",
    "- Attach the modified code along with your answers."
   ]
  },
  {
   "cell_type": "code",
   "execution_count": null,
   "metadata": {},
   "outputs": [],
   "source": []
  },
  {
   "cell_type": "markdown",
   "metadata": {},
   "source": [
    "## <span style=\"color:orange;\"> 3. Building the Pedometer </span>"
   ]
  },
  {
   "cell_type": "markdown",
   "metadata": {},
   "source": [
    "Gait is a person's pattern of walking. Most wearable activity monitors like the FitBit or Apple Watch contain an internal accelerometer to track movement and estimate the user's number of steps. In today's lab, our goal is to build a pedometer in a similar way.\n",
    "\n",
    "## The LSM9DS0 sensor\n",
    "\n",
    "The LSM9DS0 is a system in a chip which packages three sensors, a 3-axis accelerometer, 3-axis gyroscope, and 3-axis magnetometer. Thats 9 sensor readings from a single chip! In addition to that it has both SPI and I2C serial interfaces for communication.\n",
    "\n",
    "For building our pedometer we will be reading the accelerometer values along all 3 axes from the sensor using the I2C protocol. \n",
    "\n",
    "## I2C Communication Protocol\n",
    "\n",
    "Inter-Integrated Circuit or I2C is a serial communication protocol used to share data between multiple sensors and a micro-controller or between micro-controllers using the same bus. It requires only two wires for communication, a clock line (SCL) and a data line (SDA). I2C allows multiple devices to share the same communication bus. The devices are given a unique address which allows the devices in the network to be referred individually.\n",
    "\n",
    "Raspberry Pi Pico has two I2C controllers which you can access through these GPIO pins:\n",
    "\n",
    "| I2C Controller      | GPIO Pins                       |\n",
    "| :---:               |    :----:                       |\n",
    "| I2C0 – SDA          | GP0,GP4,GP8,GP12,GP16,GP20      |\n",
    "| I2C0 – SDA          | GP1,GP5,GP9,GP13,GP17,GP21      |\n",
    "| I2C1 – SCL          | GP2,GP6,GP10,GP14,GP18,GP26     |\n",
    "| I2C1 – SCL          | GP3,GP7,GP11,GP15,GP19,GP27     |\n",
    "\n",
    "## Wiring Up the Circuit\n",
    "\n",
    "Wiring up the circuit for the pedometer is pretty simple.\n",
    "We will be using Pico pins GP18(Pin No. 24) and GP19(Pin No. 25) for our I2C communication.\n",
    "\n",
    "|  LSM9DS0 Pin | Raspberry Pico Pin |\n",
    "| :---:        |    :----: |\n",
    "| SDA          | GP18    |\n",
    "| SCL          | GP19    |\n",
    "| GND          | GND     |\n",
    "| VIN          | 3V3     |\n",
    "\n",
    "The circuit once completely wired will look something like this:\n",
    "\n",
    "![circuit diagram](pico_pedometer_circuit_bb.png)\n",
    "\n"
   ]
  },
  {
   "cell_type": "markdown",
   "metadata": {},
   "source": [
    "Now that we have wired the circuit, let us test it out.\n",
    "Run [test_accelerometer.py](https://github.com/TheDataScienceLabs/DSLab_Fourier/blob/main/book/labs/analysis/pedometer/test_accelerometer.py) on thonny with pico connected to your computer. If everything is connected properly you should start seeing the 3 components of acceleration from the accelerometer on the output.\n",
    "\n",
    "\n",
    "### <span style=\"color:red\"> Exercise 3</span>\n",
    "\n",
    "\n",
    "For this exercise you will only need the accelerometer hooked up to the Pico connected to your laptop with the USB connector.\n",
    "- Modify [test_accelerometer.py](https://github.com/TheDataScienceLabs/DSLab_Fourier/blob/main/book/labs/analysis/pedometer/test_accelerometer.py) to store the $x,y,$ and $z$ components of acceleration to a .txt file named `teststeps.txt` in the pico.\n",
    "- Take 10 'fake' steps while holding the breadboard close to your leg with everything else secured in your hand.\n",
    "- Plot the $x,y,$ and $z$ components of acceleration with detailed titles and axis labels.\n",
    "\n",
    "<h3 style=\"background-color:lightblue\"> Write Answers for Exercise 3 Below </h3>"
   ]
  },
  {
   "cell_type": "code",
   "execution_count": null,
   "metadata": {},
   "outputs": [],
   "source": []
  },
  {
   "cell_type": "markdown",
   "metadata": {},
   "source": [
    "## Run it on batteries\n",
    "\n",
    "We will power the Pico from a 9-volt battery. Here are a few important cautions:\n",
    "\n",
    "9 volts is more than any part of the Pico can handle. If you connect the battery directly you will damage the microcontroller. We need to use another component to convert the voltage to a range which the Pico can handle.\n",
    "\n",
    "It is not safe to power the Pico from more than one source at a time. That means you must not connect the Pico to a computer while it is powered by a battery, and you must not connect a battery while it is connected to a computer.\n",
    "\n",
    "## main.py\n",
    "\n",
    "Before running your pico from a battery, here is a question: how will we start the program without using Thonny? The pico needs to run without being connected to a computer.\n",
    "\n",
    "Here is the trick we will use: when the Pico powers on, the first thing it does is check its memory for a file called main.py. If there is a file with that name, it runs the file. So there is our solution: make a file called main.py which starts the accelerometer program. Or just rename the file we already have. The important thing is that the file is called main.py, and it's actually stored on the pico.\n",
    "\n",
    "Before continuing make sure you have your code starting whenever it gets connected to power. You should be able to plug the the microcontroller into any USB port and watch it start up automatically without doing anything on the computer. Once you have this, you can move on to powering it by battery.\n",
    "\n",
    "## The 7805 voltage regulator\n",
    "\n",
    "Since 9V is more than what the Pico can handle, we will be using a 7805 voltage regulator IC to step down the voltage to around 5V. The pinout for wiring the circuit is given below.\n",
    "\n",
    "\n",
    "|  Battery  | 7805 IC  |\n",
    "| :---:        |    :----: |\n",
    "| black        | GND    |\n",
    "| RED          | INPUT    |\n",
    "\n",
    "|  Raspberry Pi Pico  | 7805 IC  |\n",
    "| :---:        |    :----: |\n",
    "| VSYS        | OUTPUT    |\n",
    "| GND        | GND   |\n",
    "\n",
    "The pins on the 7805 are not labeled. You will have to check the data sheet. Do not connect the battery until you have had your circuit checked by an instructor. The correctly wired voltage regulator should look as shown in the image below.\n",
    "\n",
    "![battery powered circuit diagram](pico_pedometer_circuit_battery_bb.png)\n"
   ]
  },
  {
   "cell_type": "markdown",
   "metadata": {},
   "source": [
    "In order to detect when a step has occured, we will look at the magnitude of the acceleration vector, $G_a$ from $\\langle a_x,a_y,a_z \\rangle$, where $a_x,a_y,$ and $a_z$ are the $x,y$ and $z$ components of acceleration respectively.\n",
    "\n",
    "### <span style=\"color:red\"> Exercise 4</span>\n",
    "\n",
    "Using the data you collected in Exercise 3, plot the magnitute of the acceleration vector vs time. Make sure your graph has appropriate labels. Include your code with the answers.\n",
    "\n",
    "<h3 style=\"background-color:lightblue\"> Write Answers for Exercise 4 Below </h3>"
   ]
  },
  {
   "cell_type": "code",
   "execution_count": null,
   "metadata": {},
   "outputs": [],
   "source": []
  },
  {
   "cell_type": "markdown",
   "metadata": {},
   "source": [
    "You might have observed that the plot is erratic and noisy at times. This may be due to multiple factors like small vibrations due to the sensor not being fixed to a board, small movements of the hand while holding the breadboard close to the leg etc.\n",
    "\n",
    "Let us average the sensor readings over 50 samples to get a less noisy data."
   ]
  },
  {
   "cell_type": "markdown",
   "metadata": {},
   "source": [
    "### <span style=\"color:red\"> Exercise 5</span>\n",
    "\n",
    "The class `Averager` allows us to reduce error by averaging across multiple acceleration measurements.\n",
    "- Run [accelerometer_averaged.py](https://github.com/TheDataScienceLabs/DSLab_Fourier/blob/main/book/labs/analysis/pedometer/accelerometer_averaged.py) using the main method on Pico.\n",
    "- Take 10 'fake' steps while holding the battery powered breadboard circuit close to your leg with everything else secured in your hand.\n",
    "- Using the data you collected in `test_accel.txt`, plot the magnitute of the acceleration vector, $G_a$ vs time. Make sure your graph has appropriate labels.\n",
    "- How does the length of the averager affect the graph of the magnitude of the acceleration vectors?\n",
    "\n",
    "<h3 style=\"background-color:lightblue\"> Write Answers for Exercise 5 Below </h3>"
   ]
  },
  {
   "cell_type": "markdown",
   "metadata": {},
   "source": []
  },
  {
   "cell_type": "markdown",
   "metadata": {},
   "source": [
    "The plot shows that the graph is not centered around 0. Subtracting mean of $G_a$ from $G_a$ will remove constants like gravity from the sensor data."
   ]
  },
  {
   "cell_type": "markdown",
   "metadata": {},
   "source": [
    "### <span style=\"color:red\"> Exercise 6</span>\n",
    "\n",
    "- Compute and plot the magnitute of the acceleration vector, $G_a$.\n",
    "- Calculate mean of $G_a$, $\\hat{G_a}$.\n",
    "- Subtract $\\hat{G_a}$ from $G_a$.\n",
    "- Plot $G_a$ - $\\hat{G_a}$. Make sure your graph has appropriate labels.\n",
    "\n",
    "<h3 style=\"background-color:lightblue\"> Write Answers for Exercise 6 Below </h3>"
   ]
  },
  {
   "cell_type": "markdown",
   "metadata": {},
   "source": []
  },
  {
   "cell_type": "markdown",
   "metadata": {},
   "source": [
    "The plotted data is now centered about zero, and clearly shows peaks in acceleration magnitude. Each peak corresponds to a step being taken while walking. Count the number of peaks to get the approximate number of steps. It is good to count the number of peaks greater than a minimum threshold to get a better result."
   ]
  },
  {
   "cell_type": "markdown",
   "metadata": {},
   "source": [
    "### <span style=\"color:red\"> Exercise 7</span>\n",
    "\n",
    "Calculate the number of steps from the accelerometer readings. Include the code along with your submission.\n",
    "\n",
    "<h3 style=\"background-color:lightblue\"> Write Answers for Exercise 7 Below </h3>"
   ]
  },
  {
   "cell_type": "markdown",
   "metadata": {},
   "source": [
    "## <span style=\"color:green\"> Reflection </span>\n",
    "\n",
    "__1. What parts of the lab, if any, do you feel you did well? <br>\n",
    "2. What are some things you learned today? <br>\n",
    "3. Are there any topics that could use more clarification? <br>\n",
    "4. Do you have any suggestions on parts of the lab to improve?__\n",
    "\n",
    "<h3 style=\"background-color:lightblue\"> Write Answers for the Reflection Below </h3>"
   ]
  },
  {
   "cell_type": "markdown",
   "metadata": {},
   "source": []
  }
 ],
 "metadata": {
  "interpreter": {
   "hash": "f50c01e64c69964172779a86ea4c7131ebc214404e389984b9c2b9b905851c43"
  },
  "kernelspec": {
   "display_name": "Python 3 (ipykernel)",
   "language": "python",
   "name": "python3"
  },
  "language_info": {
   "codemirror_mode": {
    "name": "ipython",
    "version": 3
   },
   "file_extension": ".py",
   "mimetype": "text/x-python",
   "name": "python",
   "nbconvert_exporter": "python",
   "pygments_lexer": "ipython3",
   "version": "3.10.9"
  }
 },
 "nbformat": 4,
 "nbformat_minor": 4
}
