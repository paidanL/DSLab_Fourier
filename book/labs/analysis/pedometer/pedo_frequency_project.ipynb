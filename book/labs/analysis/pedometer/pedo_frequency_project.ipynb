{
 "cells": [
  {
   "cell_type": "markdown",
   "id": "82a51f21-32ac-43f9-8ea1-a604a5134a89",
   "metadata": {},
   "source": [
    "# Week 11: Step Detection versus Frequency Analysis\n",
    "\n",
    "<font size=\"6\"> Laboratory ? </font> <br>\n",
    "<font size=\"3\"> Last updated July 26, 2022 </font>"
   ]
  },
  {
   "cell_type": "markdown",
   "id": "216b4f96-ad10-44c3-a5ac-3e2d93d3b4e0",
   "metadata": {},
   "source": [
    "## <span style=\"color:orange;\"> 00. Content </span>\n",
    "\n",
    "### Mathematics \n",
    "- Type here\n",
    "    \n",
    "### Programming Skills \n",
    "- Type here\n",
    "    \n",
    "### Embedded Systems \n",
    "- Type here\n",
    "\n",
    "## <span style=\"color:orange;\"> 0. Required Hardware </span>\n",
    "- Type here"
   ]
  },
  {
   "cell_type": "markdown",
   "id": "a4c1e6fa-a057-46f8-b264-4d616af475b7",
   "metadata": {},
   "source": [
    "<h3 style=\"background-color:lightblue\"> Write your name and email below: </h3>\n",
    "\n",
    "**Name:** me \n",
    "\n",
    "**Email:** me @purdue.edu"
   ]
  },
  {
   "cell_type": "code",
   "execution_count": null,
   "id": "809515b8-a466-44be-87af-135d7f085ffa",
   "metadata": {},
   "outputs": [],
   "source": [
    "import numpy as np\n",
    "import matplotlib.pyplot as plt"
   ]
  },
  {
   "cell_type": "markdown",
   "id": "00c6275b-a29f-45d0-9204-e9e1b5fd0739",
   "metadata": {},
   "source": [
    "## <span style=\"color:orange;\"> 1. Intro </span>"
   ]
  },
  {
   "cell_type": "code",
   "execution_count": null,
   "id": "3ac3d526-48ba-46fa-9982-f0407f838ca6",
   "metadata": {},
   "outputs": [],
   "source": [
    "Part 1: Modify pedometer to compute step frequency"
   ]
  },
  {
   "cell_type": "code",
   "execution_count": null,
   "id": "f6723c7c-ec2a-4832-b962-54c32bafd00d",
   "metadata": {},
   "outputs": [],
   "source": [
    "Part 2: Find frequency component with largest magnitude in accelerometer data. Compare with Part 1: which is more accurate?"
   ]
  }
 ],
 "metadata": {
  "kernelspec": {
   "display_name": "Python 3",
   "language": "python",
   "name": "python3"
  },
  "language_info": {
   "codemirror_mode": {
    "name": "ipython",
    "version": 3
   },
   "file_extension": ".py",
   "mimetype": "text/x-python",
   "name": "python",
   "nbconvert_exporter": "python",
   "pygments_lexer": "ipython3",
   "version": "3.8.8"
  }
 },
 "nbformat": 4,
 "nbformat_minor": 5
}
