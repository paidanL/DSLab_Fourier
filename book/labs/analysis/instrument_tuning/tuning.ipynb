{
 "cells": [
  {
   "cell_type": "markdown",
   "id": "9b0a3fc6-fbad-4d7b-9896-1ab11ea169c7",
   "metadata": {},
   "source": [
    "# Week 12: Tuning an instrument \n",
    "\n",
    "<font size=\"6\"> Laboratory ? </font> <br>\n",
    "<font size=\"3\"> Last updated August 22, 2022 </font>"
   ]
  }
 ],
 "metadata": {
  "kernelspec": {
   "display_name": "Python 3",
   "language": "python",
   "name": "python3"
  },
  "language_info": {
   "codemirror_mode": {
    "name": "ipython",
    "version": 3
   },
   "file_extension": ".py",
   "mimetype": "text/x-python",
   "name": "python",
   "nbconvert_exporter": "python",
   "pygments_lexer": "ipython3",
   "version": "3.8.8"
  }
 },
 "nbformat": 4,
 "nbformat_minor": 5
}
