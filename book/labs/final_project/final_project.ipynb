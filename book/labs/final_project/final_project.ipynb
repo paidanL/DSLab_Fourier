{
 "cells": [
  {
   "cell_type": "markdown",
   "id": "f2d708a0-e6a5-4d12-ad05-03f37c7b4a6c",
   "metadata": {},
   "source": [
    "# Week 15: Final Project\n",
    "\n",
    "<font size=\"6\"> Laboratory 14 </font> <br>\n",
    "<font size=\"3\"> Last updated July 26, 2022 </font>"
   ]
  },
  {
   "cell_type": "markdown",
   "id": "adb2a29b-b6a1-4c87-b2af-569c35f8cbc5",
   "metadata": {},
   "source": [
    "## <span style=\"color:orange;\"> 00. Content </span>\n",
    "\n",
    "### Mathematics \n",
    "- Type here\n",
    "    \n",
    "### Programming Skills \n",
    "- Type here\n",
    "    \n",
    "### Embedded Systems \n",
    "- Type here\n",
    "\n",
    "## <span style=\"color:orange;\"> 0. Required Hardware </span>\n",
    "- Type here"
   ]
  },
  {
   "cell_type": "markdown",
   "id": "a542a6fb-87fe-42ee-9ebb-2344b297fb58",
   "metadata": {},
   "source": [
    "<h3 style=\"background-color:lightblue\"> Write your name and email below: </h3>\n",
    "\n",
    "**Name:** me \n",
    "\n",
    "**Email:** me @purdue.edu"
   ]
  },
  {
   "cell_type": "code",
   "execution_count": null,
   "id": "5c53b03a-7e50-4a1d-8b1c-eaf9ef256856",
   "metadata": {},
   "outputs": [],
   "source": [
    "import numpy as np\n",
    "import matplotlib.pyplot as plt"
   ]
  },
  {
   "cell_type": "markdown",
   "id": "0783b799-7d8a-4a2c-975a-d7054f8a5d57",
   "metadata": {},
   "source": [
    "## <span style=\"color:orange;\"> 1. Intro </span>"
   ]
  },
  {
   "cell_type": "markdown",
   "id": "b48d6ae8-a439-40b9-aa32-2efd839d731c",
   "metadata": {},
   "source": [
    "Ideas:\n",
    " remove low-frequency (fan?) noise\n",
    " synthesize a metronome\n",
    " "
   ]
  },
  {
   "cell_type": "markdown",
   "id": "fc3cd790-bb5e-4f27-aa2e-983707bd314d",
   "metadata": {},
   "source": []
  }
 ],
 "metadata": {
  "kernelspec": {
   "display_name": "Python 3 (ipykernel)",
   "language": "python",
   "name": "python3"
  },
  "language_info": {
   "codemirror_mode": {
    "name": "ipython",
    "version": 3
   },
   "file_extension": ".py",
   "mimetype": "text/x-python",
   "name": "python",
   "nbconvert_exporter": "python",
   "pygments_lexer": "ipython3",
   "version": "3.10.9"
  }
 },
 "nbformat": 4,
 "nbformat_minor": 5
}
