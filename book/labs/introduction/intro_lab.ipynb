{
 "cells": [
  {
   "cell_type": "markdown",
   "id": "14966487-8f46-4542-9edf-c37d58842cde",
   "metadata": {},
   "source": [
    "# Week 1: Introduction\n",
    "\n",
    "<font size=\"6\"> Laboratory 0 </font> <br>\n",
    "<font size=\"3\"> Last updated January 8, 2023 </font>"
   ]
  },
  {
   "cell_type": "markdown",
   "id": "39966a25-ebde-4ae2-a284-fcd104e582e8",
   "metadata": {},
   "source": [
    "## <span style=\"color:orange;\"> 00. Content </span>"
   ]
  },
  {
   "cell_type": "markdown",
   "id": "164b3116-a330-4ab0-9d2a-3c5db0353be9",
   "metadata": {},
   "source": [
    "### Mathematics \n",
    "- N/A\n",
    "     \n",
    "### Programming Skills\n",
    "- Importing Libraries\n",
    "- Functions\n",
    "- Loops\n",
    "\n",
    "    \n",
    "### Embedded Systems \n",
    "- N/A"
   ]
  },
  {
   "cell_type": "markdown",
   "id": "9b1ac2c7-fcfe-42ac-8494-6024ababd738",
   "metadata": {},
   "source": [
    "## <span style=\"color:orange;\"> 0. Required Hardware </span>"
   ]
  },
  {
   "cell_type": "markdown",
   "id": "3583270a-d0e4-46be-a7ca-f85f1191e643",
   "metadata": {},
   "source": [
    "- N/A"
   ]
  },
  {
   "cell_type": "markdown",
   "id": "2c94e0d0-1ca8-475c-a7b1-34d79f693ca1",
   "metadata": {},
   "source": [
    "## <span style=\"color:orange;\"> 1. Before Starting </span>"
   ]
  },
  {
   "cell_type": "markdown",
   "id": "30dd322a-13f2-4927-822d-c5a57cf29c5f",
   "metadata": {},
   "source": [
    "Before really getting started with this course, navigate to the Brightspace and read through the Syllabus.\n",
    "\n",
    "After this is completed, we will be setting up a file for organizational purposes that will be used to store all files throughout this course. To do this, navigate to the *Home* directory and add a new folder by right-clicking. Name the folder something that will be easy to find, such as \"DSLab_Calc3.\" If you'd like to put it at the top of the list of folders and make it even easier to find, add a tilde (~) at the beginning of the name you chose.\n",
    "\n",
    "Save this and all other files going forward to this folder. It'll make everything much easier to find and will especially come in handy when submitting the labs at the end of each class. This includes files that are downloaded through links during labs. When you click on a file link, it'll send you to the GitHub page for that file. To download and save it to your folder, click on the button that says \"Raw\" on the top right of the file preview (unless it's a PDF, then just click \"Download\"). This will take you to a white page with the information in black text. To see the file in the proper environment, right-click the screen and click \"Save as...\" and once you open it after this, it should appear in the correct environment!\n",
    "\n",
    "## Laboratory ethics\n",
    "\n",
    "\"I pledge to behave ethically and with honesty in this course. I may discuss approaches for a solution with others, but my submitted lab report will be my own work, including all code. I will not make my finished reports available to other students, even after the semester is over. In particular, I will not post my labs on the Internet or make my files available to other people. I will not be a cheater.\""
   ]
  },
  {
   "cell_type": "markdown",
   "id": "f7c4606c-9944-412f-887d-a36a6825493f",
   "metadata": {},
   "source": [
    "## <span style=\"color:orange;\"> 2. Toy Lab </span>"
   ]
  },
  {
   "cell_type": "markdown",
   "id": "80e0f45d-b14e-4d86-a14c-ab95531158cf",
   "metadata": {},
   "source": [
    "<h3 style=\"background-color:lightblue\"> Write your name and email below: </h3>\n",
    "\n",
    "First Name, Last Name, Email"
   ]
  },
  {
   "cell_type": "markdown",
   "id": "3c3cb029-e46e-45e2-86e9-03e83da28ed6",
   "metadata": {},
   "source": [
    "## Skill Checks"
   ]
  },
  {
   "cell_type": "markdown",
   "id": "872eb440-91e5-4499-928a-c931b926725d",
   "metadata": {},
   "source": [
    "### <span style=\"color:red\"> Exercise 1: </span>\n",
    "Use Euler's formula to write $\\cos \\theta$ in terms of complex exponentials. Write the steps of your derivation using Latex code. \n",
    "\n",
    "Note: If you are new to Latex, see the [first week lab of the Data Science Labs on Differential and Integral Calculus].(https://thedatasciencelabs.github.io/DSLab_Calculus/labs/1_intro_to_notebooks/lab0.html)"
   ]
  },
  {
   "cell_type": "code",
   "execution_count": null,
   "id": "ad17a8e5-28c8-47c8-959c-607509c11008",
   "metadata": {},
   "outputs": [],
   "source": []
  },
  {
   "cell_type": "markdown",
   "id": "53af050c-20dd-4be0-8a87-8747922317fd",
   "metadata": {},
   "source": [
    "### <span style=\"color:red\"> Exercise 2 </span> \n",
    "Simplify the expression $e^{i 2 \\pi k}-1$, where $k$ is an integer. How different would the answer be is $k$ was not an integer?"
   ]
  },
  {
   "cell_type": "code",
   "execution_count": null,
   "id": "2f5a8619-7390-4c4c-befe-d7e95e723d23",
   "metadata": {},
   "outputs": [],
   "source": []
  },
  {
   "cell_type": "markdown",
   "id": "f8a183c0-9e1a-49dc-8c4f-a0fbf1679348",
   "metadata": {},
   "source": [
    "### <span style=\"color:red\"> Exercise 3 </span>\n",
    "\n",
    "a) Write a function that computes the sum $\\sum_{n=0}^N e^{i \\frac{2 \\pi}{10} n }$. \n",
    "\n",
    "b) Use your function to evaluate the sum for $N=7$. \n",
    "\n",
    "Hint: Don't forget to load the relevant library. "
   ]
  },
  {
   "cell_type": "code",
   "execution_count": null,
   "id": "aea07d5b-67b7-4587-adb0-3a4777a330df",
   "metadata": {},
   "outputs": [],
   "source": []
  },
  {
   "cell_type": "markdown",
   "id": "8a33a83c-be1f-40fe-91f6-813149a6a234",
   "metadata": {},
   "source": [
    "<!--  ### <span style=\"color:red\"> Challenge Exercise 4 (optional): </span>\n",
    "Given an unsorted list of integers ([100, 4, 200, 1, 3, 2]), write a python program to find the length of the longest consecutive sequence.\n",
    "\n",
    "Example 1:\n",
    "\n",
    "    Input: nums = [1, 5, 7, 4]\n",
    "    Output: 2 \n",
    "    Explanation: The longest consecutive elements sequence is [4, 5]. \n",
    "                Therefore its length is 2.  -->"
   ]
  },
  {
   "cell_type": "markdown",
   "id": "f721223c-5aa5-4e05-8ced-0d2bbf745504",
   "metadata": {
    "tags": []
   },
   "source": [
    "## <span style=\"color:orange;\"> 3. Submitting the Lab </span>"
   ]
  },
  {
   "cell_type": "markdown",
   "id": "e5782dd2-29e5-4c7a-9c9e-2c0549e40fc2",
   "metadata": {},
   "source": [
    "Once you have finished the first lab, you will need to submit it. Recall that you are expected to submit the lab before the end of class everyweek. \n",
    "\n",
    "Before you submit, make sure that everything is completely filled out and saved (either by typing Ctrl+S or by clicking the floppy disk icon in the top left of this application). Once you've done this, navigate to *File* in the top left of the screen and find *Save and Export Notebook As...\"*. Once the drop down comes up, click on PDF and save a file to the folder you made at the beginning of this lab. Once this has been done you can turn it in under the submission link in Brightspace.\n",
    "\n",
    "Once you have submitted your lab in Brightspace, you are done and free to leave. See you next week!"
   ]
  }
 ],
 "metadata": {
  "kernelspec": {
   "display_name": "Python 3 (ipykernel)",
   "language": "python",
   "name": "python3"
  },
  "language_info": {
   "codemirror_mode": {
    "name": "ipython",
    "version": 3
   },
   "file_extension": ".py",
   "mimetype": "text/x-python",
   "name": "python",
   "nbconvert_exporter": "python",
   "pygments_lexer": "ipython3",
   "version": "3.10.8"
  }
 },
 "nbformat": 4,
 "nbformat_minor": 5
}
