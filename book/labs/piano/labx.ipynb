{
 "cells": [
  {
   "cell_type": "markdown",
   "id": "cf840d0b",
   "metadata": {},
   "source": [
    "# Build a piano"
   ]
  },
  {
   "cell_type": "markdown",
   "id": "a7758580",
   "metadata": {},
   "source": [
    "## Using hardware.\n",
    "1. MAX98257A\n",
    "2. 8ohms,0.5W speaker https://www.adafruit.com/product/1890#tutorials\n",
    "3. a lot of push buttons"
   ]
  },
  {
   "cell_type": "code",
   "execution_count": 1,
   "id": "567ee6f4",
   "metadata": {},
   "outputs": [
    {
     "data": {
      "text/html": [
       "<video src=\"piano.mp4\" controls  >\n",
       "      Your browser does not support the <code>video</code> element.\n",
       "    </video>"
      ],
      "text/plain": [
       "<IPython.core.display.Video object>"
      ]
     },
     "execution_count": 1,
     "metadata": {},
     "output_type": "execute_result"
    }
   ],
   "source": [
    "from IPython.display import Video\n",
    "\n",
    "Video(\"piano.mp4\")"
   ]
  },
  {
   "cell_type": "markdown",
   "id": "a41d12d8",
   "metadata": {},
   "source": []
  },
  {
   "cell_type": "markdown",
   "id": "f5f4ba65",
   "metadata": {},
   "source": []
  },
  {
   "cell_type": "markdown",
   "id": "0e13d452",
   "metadata": {},
   "source": [
    "## MAX98257A\n",
    " It takes standard I2S digital audio input and, not only decodes it into analog, but also amplifies it directly into a speaker. I2S (not to be confused with I2C) in a digital sound protocol that is used on circuit boards to pass audio data around. By changing the connection of the Gain pin of it you can acutally change its sound,the default is 9db, the documentation is https://learn.adafruit.com/adafruit-max98357-i2s-class-d-mono-amp/pinouts"
   ]
  },
  {
   "cell_type": "markdown",
   "id": "bf896624",
   "metadata": {},
   "source": [
    "## Connect the circuit and try the example code\n",
    "\n",
    "\n",
    "|I2S ID|SCK pin|WS pin|SD pin|\n",
    "|--|--|--|--|\n",
    "|0|16|17|18|\n",
    "\n",
    "<br>\n",
    "\n",
    "\n",
    "\n",
    "| Pico | MAX98357A |\n",
    "|--|--|\n",
    "|GP16|BCLK|\n",
    "|GP17|LCR|\n",
    "|GP18|Din|\n",
    "|VBUS|Vin|\n",
    "|ground|ground|\n",
    "\n",
    "<br>\n",
    "\n",
    "<img src=\"pictures/example.jpeg\" alt=\"eaxample circuit\" width=\"200\"/>\n",
    "\n",
    "\n",
    "Don't forget to connect the ground and Vin of MAX98357A. We use VBUS becasue we need high power supply when the sound go high.\n",
    "\n",
    "build the circuit and run the example code to produce a 440Hz sine wave.\n",
    "(you will need to update your micropython to 1.19 above version to support I2S)\n",
    "https://github.com/miketeachman/micropython-i2s-examples"
   ]
  },
  {
   "cell_type": "raw",
   "id": "e5c59e91",
   "metadata": {},
   "source": [
    "# The MIT License (MIT)\n",
    "# Copyright (c) 2022 Mike Teachman\n",
    "# https://opensource.org/licenses/MIT\n",
    "\n",
    "# Purpose:  Play a pure audio tone out of a speaker or headphones\n",
    "#\n",
    "# - write audio samples containing a pure tone to an I2S amplifier or DAC module\n",
    "# - tone will play continuously in a loop until\n",
    "#   a keyboard interrupt is detected or the board is reset\n",
    "#\n",
    "# Blocking version\n",
    "# - the write() method blocks until the entire sample buffer is written to I2S\n",
    "\n",
    "import os\n",
    "import math\n",
    "import struct\n",
    "from machine import I2S\n",
    "from machine import Pin\n",
    "import time\n",
    "\n",
    "def make_tone(rate, bits, frequency):\n",
    "    # create a buffer containing the pure tone samples\n",
    "    samples_per_cycle = rate // frequency\n",
    "    sample_size_in_bytes = bits // 8\n",
    "    samples = bytearray(samples_per_cycle * sample_size_in_bytes)\n",
    "    volume_reduction_factor = 4\n",
    "    range = pow(2, bits) // 2 // volume_reduction_factor\n",
    "    \n",
    "    if bits == 16:\n",
    "        format = \"<h\"\n",
    "    else:  # assume 32 bits\n",
    "        format = \"<l\"\n",
    "    \n",
    "    for i in range(samples_per_cycle):\n",
    "        sample = range + int((range - 1) * math.sin(2 * math.pi * i / samples_per_cycle))\n",
    "        struct.pack_into(format, samples, i * sample_size_in_bytes, sample)\n",
    "        \n",
    "    return samples\n",
    "\n",
    "# ======= I2S CONFIGURATION =======\n",
    "SCK_PIN = 16\n",
    "WS_PIN = 17\n",
    "SD_PIN = 18\n",
    "I2S_ID = 0\n",
    "BUFFER_LENGTH_IN_BYTES = 2000\n",
    "# ======= I2S CONFIGURATION =======\n",
    "\n",
    "# ======= AUDIO CONFIGURATION =======\n",
    "TONE_FREQUENCY_IN_HZ = 440\n",
    "SAMPLE_SIZE_IN_BITS = 16\n",
    "FORMAT = I2S.MONO  # only MONO supported in this example\n",
    "SAMPLE_RATE_IN_HZ = 22_050\n",
    "# ======= AUDIO CONFIGURATION =======\n",
    "\n",
    "audio_out = I2S(\n",
    "    I2S_ID,\n",
    "    sck=Pin(SCK_PIN),\n",
    "    ws=Pin(WS_PIN),\n",
    "    sd=Pin(SD_PIN),\n",
    "    mode=I2S.TX,\n",
    "    bits=SAMPLE_SIZE_IN_BITS,\n",
    "    format=FORMAT,\n",
    "    rate=SAMPLE_RATE_IN_HZ,\n",
    "    ibuf=BUFFER_LENGTH_IN_BYTES,\n",
    ")\n",
    "\n",
    "tone1 = make_tone(SAMPLE_RATE_IN_HZ, SAMPLE_SIZE_IN_BITS, 440)\n",
    "tone2 = make_tone(SAMPLE_RATE_IN_HZ, SAMPLE_SIZE_IN_BITS, 550)\n",
    "tone3 = make_tone(SAMPLE_RATE_IN_HZ, SAMPLE_SIZE_IN_BITS, 660)\n",
    "\n",
    "print(tone1)\n",
    "\n",
    "# continuously write tone sample buffer to an I2S DAC\n",
    "print(\"==========  START PLAYBACK ==========\")\n",
    "try:\n",
    "    while True:\n",
    "        start = time.ticks_us()\n",
    "        audio_out.write(tone3)\n",
    "        end = time.ticks_us()\n",
    "        print(end-start)\n",
    " \n",
    "except (KeyboardInterrupt, Exception) as e:\n",
    "    print(\"caught exception {} {}\".format(type(e).__name__, e))\n",
    "\n",
    "# cleanup\n",
    "audio_out.deinit()\n",
    "print(\"Done\")\n"
   ]
  },
  {
   "cell_type": "markdown",
   "id": "95dbcb22",
   "metadata": {},
   "source": [
    "## understand the code\n",
    "\n",
    "`rate` is the speed of sample rate. It is the speed DAC can tranfer a number to an output voltage. You can also understand how many data points dac can give you in 1 second.\n",
    "`frequency` is the frequency of the sine wave we want. For example if we want a 440Hz sine wave, and the `rate` is 22050. We have 22050 sample points in 1 second, and those points must form a 440 period of sine wave. Then sample points in each circle is 22050/440."
   ]
  },
  {
   "cell_type": "markdown",
   "id": "042b8bc7",
   "metadata": {},
   "source": [
    "## Class C amplifer\n",
    " MAX98357A contain a class C amplifer. using an oscilloscope to see the waveform with small and large horiaontal scale"
   ]
  },
  {
   "cell_type": "markdown",
   "id": "306972dd",
   "metadata": {},
   "source": [
    "## I2S\n",
    "In the example code, entire sine table was writen inside a buffer. Then pico automatically sends those data through I2S (by using DAC). You may find if you add a 2ms sleeping period in the while loop, the sounds may not changing, acutally you have 1/TONE_FREQUENCY_IN_HZ free time each while loop to do other things. Try that."
   ]
  },
  {
   "cell_type": "markdown",
   "id": "e39cfef6",
   "metadata": {},
   "source": [
    "## Build a simple piano"
   ]
  },
  {
   "cell_type": "markdown",
   "id": "1669f563",
   "metadata": {},
   "source": [
    "Build a piano with 12 keys. When the first key is push down, the speaker output 220 Hz sine wave. The next key is 220 * $ \\sqrt[12]{2}$, So and so next. Write you own code and connect the circuit.\n",
    "You may get something like  \n",
    "\n",
    "<img src=\"pictures/piano.jpeg\" alt=\"eaxample circuit\" width=\"400\"/>"
   ]
  },
  {
   "cell_type": "markdown",
   "id": "cd6fdc96",
   "metadata": {},
   "source": [
    "(person tips )\n",
    "\n",
    "Based on the provided example. You need to using for loop to initialize four list.\n",
    "First list stores the frequency value corresponding corresponding to each keys. \n",
    "The second list store 12 int value, their value is either 1 or 0 to represent if corresponding keys is pushing down.\n",
    "The third list is contain the sine table for each freqenecy.\n",
    "The forth store 12 Pin object.\n",
    "\n",
    "\n",
    "\n"
   ]
  },
  {
   "cell_type": "raw",
   "id": "48e5927a",
   "metadata": {},
   "source": [
    "# part of the code for piano\n",
    "\n",
    "num_of_keys = 12\n",
    "press = [0] * num_of_keys\n",
    "keys = []  #to store the pin object for each key\n",
    "tones = []\n",
    "TONE_FREQUENCY = []\n",
    "\n",
    "#initialize the tone table,keys\n",
    "for key_numth in range(num_of_keys):\n",
    "    TONE_FREQUENCY.append(int(220 * (1.059 ** (key_numth))))\n",
    "    keys.append(Pin(key_numth,Pin.IN,Pin.PULL_DOWN))\n",
    "    tones.append(make_tone(SAMPLE_RATE_IN_HZ, SAMPLE_SIZE_IN_BITS, TONE_FREQUENCY[key_numth]))\n",
    "\n",
    "#to store whether the button has been pushed down\n",
    "try:\n",
    "    while True:\n",
    "        # update the push value,the front key has higher priority\n",
    "        for key_numth in range(num_of_keys):\n",
    "            press[key_numth] = keys[key_numth].value()    #for combine multiple keys\n",
    "            if (press[key_numth] == 1):\n",
    "                audio_out.write(tones[key_numth])\n",
    "                break"
   ]
  },
  {
   "cell_type": "markdown",
   "id": "464c1864",
   "metadata": {},
   "source": [
    "## Resonance Frequency\n",
    "It can be measured that the output of the amplifer has the same AC rms. Listen to sound of each key carefully and write down what do you find. Write about why you think that happened."
   ]
  },
  {
   "cell_type": "markdown",
   "id": "dba79a2e",
   "metadata": {},
   "source": [
    "## Interupt \n",
    "Learning how to use interpt with mircopython. A good tourial is: https://www.coderdojotc.org/micropython/advanced-labs/02-interrupt-handlers/ .Add another button double the frequency of each button."
   ]
  },
  {
   "cell_type": "markdown",
   "id": "795c5ff9",
   "metadata": {},
   "source": []
  }
 ],
 "metadata": {
  "kernelspec": {
   "display_name": "Python 3 (ipykernel)",
   "language": "python",
   "name": "python3"
  },
  "language_info": {
   "codemirror_mode": {
    "name": "ipython",
    "version": 3
   },
   "file_extension": ".py",
   "mimetype": "text/x-python",
   "name": "python",
   "nbconvert_exporter": "python",
   "pygments_lexer": "ipython3",
   "version": "3.10.9"
  },
  "vscode": {
   "interpreter": {
    "hash": "1e50b8cbafc0c2ddeea0b261b330ded4c07fcb971b53272b79f259415b027d80"
   }
  }
 },
 "nbformat": 4,
 "nbformat_minor": 5
}
