{
 "cells": [
  {
   "cell_type": "markdown",
   "id": "1ba85b59-452c-4bab-bbbb-afc5867d0b05",
   "metadata": {},
   "source": [
    "# Week 4: Build a theremin\n",
    "\n",
    "<font size=\"6\"> Laboratory ? </font> <br>\n",
    "<font size=\"3\"> Last updated August 18, 2022 </font>"
   ]
  },
  {
   "cell_type": "markdown",
   "id": "5b313bdd-e088-4496-8093-b9e45f9790c9",
   "metadata": {},
   "source": [
    "## <span style=\"color:orange;\"> 00. Content </span>\n",
    "\n",
    "### Mathematics \n",
    "- N/A\n",
    "    \n",
    "### Programming Skills \n",
    "- Asynchronous functions\n",
    "- Nonlocal variables\n",
    "    \n",
    "### Embedded Systems \n",
    "- Timing conflicts\n",
    "- Buffer underflow\n",
    "\n",
    "## <span style=\"color:orange;\"> 0. Required Hardware </span>\n",
    "- Raspberry Pi Pico\n",
    "- MicroUSB cable\n",
    "- Breadboard\n",
    "- [I2S speaker module](https://learn.adafruit.com/adafruit-max98357-i2s-class-d-mono-amp), with [8-ohm speaker](https://www.adafruit.com/product/1890) connected\n",
    "- jumper wires (at least 12)\n",
    "- a potentiometer"
   ]
  },
  {
   "cell_type": "markdown",
   "id": "d192f8ed-a5a9-428e-944a-8a7e6240026d",
   "metadata": {},
   "source": [
    "<h3 style=\"background-color:lightblue\"> Write your name and email below: </h3>\n",
    "\n",
    "**Name:** Aidan Leib \n",
    "\n",
    "**Email:** pleib@purdue.edu"
   ]
  },
  {
   "cell_type": "code",
   "execution_count": 6,
   "id": "60c0eefe-e370-4dab-97dd-8a7e954eda84",
   "metadata": {},
   "outputs": [],
   "source": [
    "import numpy as np\n",
    "import matplotlib.pyplot as plt"
   ]
  },
  {
   "cell_type": "markdown",
   "id": "20f01c0c-c46d-482f-b7ca-3e59553e48cf",
   "metadata": {},
   "source": [
    "## <span style=\"color:orange;\"> 1. Intro </span>\n",
    "\n",
    "In a previous lab, we made a synthesizer which works by playing precomputed samples of audio. That worked well for a synthesizer, where we only have a limited selection of notes to choose from. One of the main drawbacks of this approach is that we can't change the samples in response to user input. For example, if we wanted to play sounds with multiple waveforms at multiple volumes over a continuous range of frequencies, we would run out of memory very fast.\n",
    "\n",
    "In this lab, we will discover some of the problems with computing samples in real time, and share some strategies for overcoming those difficulties. This will culminate in building a musical instrument which you play without touching, called a theremin. A traditional theremin works by detecting changes in capacitance due to the presence of people, while ours will work by monitoring the timing of ultrasound signals."
   ]
  },
  {
   "cell_type": "markdown",
   "id": "b1573b69-1833-4144-afd1-1f49c12ce235",
   "metadata": {},
   "source": [
    "## <span style=\"color:orange;\"> 2. The components </span>\n",
    "\n",
    "In the previous lab you tested the MAX98357 speaker module. As a reminder, it should be wired as in this table.\n",
    "\n",
    "| MAX 98357 | Speaker |\n",
    "|-----------|---------|\n",
    "| -         | (either wire) |\n",
    "| +         | (the other wire) |\n",
    "\n",
    "| MAX 98357 | Pico | What it does |\n",
    "|-----------|------|--------------|\n",
    "| Vin       | VBUS | USB power directly to the speaker driver |\n",
    "| GND       | GND  | A shared ground           |\n",
    "| BCLK      | GP16 | clock signal              |\n",
    "| LRC       | GP17 | left/right channel select |\n",
    "| DIN       | GP18 | data signal               |\n",
    "\n",
    "We will use two additional pieces of hardware today -- an ultrasonic distance sensor, and a potentiometer. Connect them as in the following tables.\n",
    "\n",
    "| Potentiometer | Pico |\n",
    "|---------------|------|\n",
    "| left leg      | GND  |\n",
    "| right leg     | 3V3  |\n",
    "| wiper leg     | GP26 |\n",
    "\n",
    "| HC-SR04       | Pico |\n",
    "|---------------|------|\n",
    "| VCC           | VBUS |\n",
    "| GND           | GND  |\n",
    "| Trig          | GP19 |\n",
    "| Echo          | GP20 |\n",
    "\n",
    "There are many ways to accomplish these connections on a breadboard. One possible way is shown below -- note that the breadboard power rails are used to provide power and ground to the potentiometer, and the ultrasonic sensor is connected to power at the speaker module.\n",
    "\n",
    "![a photo of a completed breadboard](wiring_small.jpg)"
   ]
  },
  {
   "cell_type": "markdown",
   "id": "9973c8a6-8573-460d-8e27-4290a0f573ba",
   "metadata": {},
   "source": [
    "To test that you have everything connected correctly and your components are working as expected, the file `component_test.py` has been provided. When you run it, it should produce a stream of numbers. You should be able to change the first number by rotating the potentiometer. The second number should tell you the distance in centimeters from the ultrasonic distance sensor to the nearest hard flat object -- if no object is detected it will give `nan` instead. If either number does not change, figure out why and fix it before continuing."
   ]
  },
  {
   "cell_type": "markdown",
   "id": "8236a8b8-1adb-4137-b1a9-787b9c1f8fab",
   "metadata": {},
   "source": [
    "## <span style=\"color:orange;\"> 3. A naive approach </span>\n",
    "\n",
    "A theremin makes a pure tone with a frequency that changes from one input, and a volume which changes from the other input. A small distance corresponds to a high frequency or low volume, and a large distance makes a low tone or high volume.\n",
    "\n",
    "Unfortunately, it can be hard to coordinate multiple ultrasonic sensors at once, since they can hear each other. For volume, we will use the potentiometer instead. The highest signal we can send to the speaker is $2^{15}$ since it takes a signed 16 bit integer, and the potentiometer gives numbers between 0 and $2^{16}$ since it's an unsigned 16 bit integer. We will just take a sine curve and multiply it by the potentiometer value over 2.\n",
    "\n",
    "Let's set a high frequency of A5=880 Hz at 1 centimeter distance, and a low frequency of C4=262 Hz at 60 cm distance. That means at the high end a period of $\\frac{22050}{880} = 25 $ samples and at the low end a period of $\\frac{22050}{262}=84$ samples. For simplicity, we will interpolate linearly, giving the function \n",
    "\n",
    "$$\n",
    "\\text{sample count} = 25 + (84-25)\\frac{\\text{distance}-1}{60-1}.\n",
    "$$\n",
    "\n",
    "We will round to the nearest integer, giving us a curve like the following."
   ]
  },
  {
   "cell_type": "code",
   "execution_count": 7,
   "id": "83f2d4e8-3b60-472c-95ca-d9fbdea24a00",
   "metadata": {},
   "outputs": [
    {
     "data": {
      "image/png": "[encoded data removed]",
      "text/plain": [
       "<Figure size 640x480 with 1 Axes>"
      ]
     },
     "metadata": {},
     "output_type": "display_data"
    }
   ],
   "source": [
    "distance = np.linspace(1, 60, 200)\n",
    "sample_count = np.rint( 25 + (84-25)*(distance-1)/(60-1) )\n",
    "plt.plot(distance, sample_count)\n",
    "plt.show()"
   ]
  },
  {
   "cell_type": "markdown",
   "id": "1c5db324-31a6-466b-834f-baaa89a99dc9",
   "metadata": {},
   "source": [
    "Applying this strategy blindly gives us a program like `naive_theremin.py`. \n",
    "\n",
    "### <span style=\"color:red\"> Exercise 1 </span> (10 pts)\n",
    "Run it and see what happens. You will likely find that it sounds scratchy, not at all like a pure sine wave, and of a much lower pitch than we would like. Write a description of the sound in your own words. How does it respond to movement in front of the ultrasonic sensor, or changes to the potentiometer?\n",
    "<h3 style=\"background-color:lightblue\"> Write Answers for Exercise 1 Below </h3>"
   ]
  },
  {
   "cell_type": "markdown",
   "id": "53ec5824-23f3-49c0-9739-a34acfc2b229",
   "metadata": {},
   "source": [
    "The naive theramin sounds very scratchy as the description mentioned it would. It is also very difficult to tell when the pitch changes at different distances due to the amount of noise in the signal. The volume side of this thermin works as expected and has a large range of volume, relatively. At lower volumes the pitch is even more difficult to distinguish across the different distances.\n",
    "\n",
    "It responds decently well to the distance of my hand in front of the ultrasonic sensor; as it got further from the sensor, the pitch got lower."
   ]
  },
  {
   "cell_type": "markdown",
   "id": "7db3fc0b-daa7-443d-ad61-62c36b212441",
   "metadata": {},
   "source": [
    "The problem here is in timing. Run the program `naive_theremin_timed.py`. This is almost identical, but it notes the current time before and after computing the tone. You will find that the tone takes anywhere from 2500 to 8000 microseconds to make. A 50 sample clip only takes $\\frac{50 \\text{samples}}{22,050\\text{ samples/second}}= 2200$ microseconds to play. That means that by the time the the I2S buffer is empty, we have not even finished coming up with the next sample. This is called **buffer underflow**.\n",
    "\n",
    "There are two ways to fix this. We can either compute the samples faster, or we can get ourselves more time to use for computing."
   ]
  },
  {
   "cell_type": "markdown",
   "id": "06e5134d-17ab-4298-92bc-319d00624df8",
   "metadata": {},
   "source": [
    "## <span style=\"color:orange;\"> 4. faster computation </span>\n",
    "\n",
    "If you want Python code to go faster, there is one approach which almost always works: remove big loops. There is just one big loop in the code which generates the tone. let's try running that code on your computer. Your computer is much faster than the microcontroller, so it will be able to do it quicker, but we can still make useful comparisons by comparing with other code running on the same computer.\n",
    "\n",
    "The `timeit` command makes it easy to tell how long something takes to run. Let's try it on the `make_tone` function. To make the effect more visible, we'll make a tone with many more samples than we really need."
   ]
  },
  {
   "cell_type": "code",
   "execution_count": 1,
   "id": "1720e50c-1717-4dd1-b3ab-b976f9521d4e",
   "metadata": {},
   "outputs": [],
   "source": [
    "import math\n",
    "import struct\n",
    "def make_tone(samplecount, volume):\n",
    "    tone = bytearray(samplecount * 2)\n",
    "    for i in range(samplecount):\n",
    "        sample = int(volume * math.sin(2 * math.pi * i / samplecount))\n",
    "        struct.pack_into(\"<h\", tone, 2 * i, sample)\n",
    "    return tone"
   ]
  },
  {
   "cell_type": "code",
   "execution_count": 2,
   "id": "ec5ab02d-1fcf-49f6-adcf-74248bf4fa79",
   "metadata": {},
   "outputs": [
    {
     "name": "stdout",
     "output_type": "stream",
     "text": [
      "2.86 ms ± 8.96 µs per loop (mean ± std. dev. of 7 runs, 100 loops each)\n"
     ]
    }
   ],
   "source": [
    "%%timeit\n",
    "\n",
    "make_tone(6000, 2**14)"
   ]
  },
  {
   "cell_type": "markdown",
   "id": "e1aa911c-1355-4312-b674-62d6c432da3e",
   "metadata": {},
   "source": [
    "On my computer, it takes about 3.6 milliseconds to make a 6000-sample tone. Of course, I can do it without a loop if I just use `numpy` instead. Let's see how that would go."
   ]
  },
  {
   "cell_type": "code",
   "execution_count": 9,
   "id": "993dda72-75e0-4ebd-a265-2405f32ad43a",
   "metadata": {},
   "outputs": [],
   "source": [
    "def fast_tone(samplecount, volume):\n",
    "    tone = volume * np.sin(np.linspace(0, 2*np.pi, samplecount, endpoint=False))\n",
    "    return np.asarray(tone, dtype=np.int16).tobytes()"
   ]
  },
  {
   "cell_type": "code",
   "execution_count": 10,
   "id": "69df0691-7112-4cee-9394-ade8d75a6f2d",
   "metadata": {},
   "outputs": [
    {
     "name": "stdout",
     "output_type": "stream",
     "text": [
      "181 µs ± 1.32 µs per loop (mean ± std. dev. of 7 runs, 10,000 loops each)\n"
     ]
    }
   ],
   "source": [
    "%%timeit\n",
    "\n",
    "fast_tone(6000, 2**14)"
   ]
  },
  {
   "cell_type": "markdown",
   "id": "7446d438-bf4a-454d-b145-5950b8751b8c",
   "metadata": {},
   "source": [
    "On my computer that took just 91 microseconds, or 0.091 milliseconds. The difference is tremendous.\n",
    "\n",
    "Can we get the same benefit in Micropython? Yes, but the default firmware does not include `numpy`. We will need to install a copy of the firmware which has that package available. You could download the latest version [from this website](https://github.com/v923z/micropython-builder), or just use the version included here as `PICO.uf2`. In either case, hold the bootloader button on your Pico while plugging it in, then copy the `uf2` file onto the drive that appears. Don't use Thonny for this, since it will use the default firmware, not one which includes `numpy`.\n",
    "\n",
    "### <span style=\"color:red\"> Exercise 2 </span> (10 pts)\n",
    "Run the file `numpy_theremin.py`. Write a description of the sound it makes, including in what ways it is different from the sound produced by `naive_theremin.py`.\n",
    "<h3 style=\"background-color:lightblue\"> Write Answers for Exercise 2 Below </h3>"
   ]
  },
  {
   "cell_type": "markdown",
   "id": "23ff1c15-a089-410e-a75f-ac7e48be7f16",
   "metadata": {},
   "source": [
    "The sound the `numpy_theremin.py` made was cleaner during the higher frequencies, however it was still fairly scratchy with the lower ones. Definitely an improvement from the `naive_thermin.py` test."
   ]
  },
  {
   "cell_type": "markdown",
   "id": "722311b7-3eb9-4849-8e4c-6611264b5786",
   "metadata": {},
   "source": [
    "The only difference between the two files is the function `make_tone`, which has been swapped for the function `fast_tone` above. You will find it takes only around 800 microseconds to compute the tone now, easily 5 times faster. On top of that, we get the improved readability that code written with broadcasting provides.\n",
    "\n",
    "Unfortunately, while it is faster, it is still not fast enough. We need to get some more time in order to make this work without buffer underflow."
   ]
  },
  {
   "cell_type": "markdown",
   "id": "32459e0c-254e-4f11-b4ed-77a919987eb6",
   "metadata": {},
   "source": [
    "## <span style=\"color:orange;\"> 5. finding more time </span>\n",
    "\n",
    "The code we have written so far is written in a synchronous way. Execution proceeds from top to bottom, doing one line at a time. For every call to `audio_out.write`, there is one call to `make_tone`. While the code does one thing (making the tone to play) it cannot do anything else (writing the tone to the buffer). This works fine as long as there is plenty of time to go around. In our case, it means there is a problem.\n",
    "\n",
    "The simplest way to solve this would be to change the ratio of calls to `audio_out.write` and `make_tone`, carefully including more of one or the other, and tweaking the size of the I2S buffer until we find the perfect balance. That would be tedious, and it would be hard to change. If we rewrote some code to make one part faster, we would have to rewrite the whole thing.\n",
    "\n",
    "The solution is to use **asynchronous functions**. An asynchronous function is called by a routine which schedules tasks according to whichever needs the time most urgently. If you run the program `async_theremin.py`, you will find it works great, with none of the clicking, stuttering, or scratching we heard previously.\n",
    "\n",
    "### <span style=\"color:red\"> Exercise 3 </span> (10 pts)\n",
    "Run the file `async_theremin.py`. Have some fun making spooky sounds. Just for fun, try to recreate the theremin intro sound from the original Star Trek. Once you have got it working, write a short message here to indicate that you have done so.\n",
    "<h3 style=\"background-color:lightblue\"> Write Answers for Exercise 3 Below </h3>"
   ]
  },
  {
   "cell_type": "markdown",
   "id": "0cb27d43-0b86-4d66-a049-63d6c436461b",
   "metadata": {},
   "source": [
    "The theramin sounds much better now and works very fluidly. It's fairly easy to match pitch with the star trek theme song now that each note has a distinct pitch from its neighbors."
   ]
  },
  {
   "cell_type": "markdown",
   "id": "d05d0f72-1f53-4d4a-a468-c8d98c4f1890",
   "metadata": {},
   "source": [
    "### Understanding the asynchronous version\n",
    "\n",
    "Most of the code here is the same as before. There are a few differences, which we will discuss here.\n",
    "\n",
    "```python\n",
    "tone = bytes(100)\n",
    "\n",
    "async def write_tone():\n",
    "    nonlocal tone\n",
    "    # ...\n",
    "\n",
    "async def refresh_tone():\n",
    "    nonlocal tone\n",
    "    # ...\n",
    "```\n",
    "\n",
    "The point of the asynchronous version is to allow these two routines (getting a new tone, and writing the current tone) to run independently of one another. However, they still need a way to share information between each other. That's the point of the variable `tone`. By declaring it as `nonlocal`, we can have `refresh_tone` write to the variable and `write_tone` read from the variable.\n",
    "\n",
    "Functions which run asynchronously need the special keyword `async` as part of their definition. This makes sure they are only called by asynchronous functions.\n",
    "\n",
    "```python\n",
    "swriter = asyncio.StreamWriter(audio_out)\n",
    "while True:\n",
    "    swriter.write(tone)\n",
    "    await swriter.drain()\n",
    "```\n",
    "\n",
    "All the hard work of managing the buffer is done by the `StreamWriter` object. We make a new `StreamWriter`, and write the tone to it. The special keyword `await` lets the interpreter go do other things until the condition it requires is met. In this case, the `drain` condition waits until there is enough room in the buffer to write the tone again.\n",
    "\n",
    "```python\n",
    "while True:\n",
    "    await asyncio.sleep(0.01)\n",
    "    # ...\n",
    "```\n",
    "\n",
    "Most of the body of `refresh_tone` is exactly the same as before. The only things we have added are the `nonlocal tone` statement and the line `await asyncio.sleep(0.01)`. We have already explained what `nonlocal tone` does. The `await` statement here is not waiting for anything in particular to change, it's just waiting for a certain amount of time to pass. This gives time to the `write_tone` function to run. It's an added bonus that this keeps the tone generation loop from happening too frequently. We really won't move our hands fast enough for changes in less than a hundredth of a second to matter, and this lets the whole system do less work.\n",
    "\n",
    "```python\n",
    "asyncio.run(asyncio.gather(write_tone(), refresh_tone()))\n",
    "```\n",
    "\n",
    "This is the final change we made. This is where the asynchronous functions actually get run. `gather` combines the two tasks into one big task, and `asyncio.run` sets them both in motion. Since they both have `while True` loops in them, they will keep going forever (until you tell them to stop).\n",
    "\n",
    "This system works so well because it allows `write_tone` to be called as many times as necessary to fill the I2S buffer, running the `refresh_tone` function only as often as needed. Because the buffer stays topped off, there is always enough time to compute the tone when we need it. All the load balancing is handled by the `asyncio` module!\n",
    "\n",
    "### <span style=\"color:red\"> Exercise 4 </span> (30 pts)\n",
    "Make two more nonlocal variables which (respectively) count how many times `write_tone` and `refresh_tone` are called. Put a line into each of the existing functions which increases their corresponding variable by 1 every time they go. Make a third asyncronous function which runs every two seconds and prints out the number of times each of the other tasks is run. Copy your code here, and comment on the results. About how many times is `write_tone` called for every time `refresh_tone` is called?\n",
    "<h3 style=\"background-color:lightblue\"> Write Answers for Exercise 4 Below </h3>"
   ]
  },
  {
   "cell_type": "markdown",
   "id": "716ecd5b-977b-40c1-80d2-a012db6d702e",
   "metadata": {},
   "source": [
    "```python\n",
    "\"\"\"\n",
    "A working theremin, using asyncronous functions.\n",
    "\"\"\"\n",
    "from machine import ADC, I2S, Pin, time_pulse_us\n",
    "import math\n",
    "import time\n",
    "from ulab import numpy as np\n",
    "import uasyncio as asyncio\n",
    "\n",
    "\n",
    "def main():\n",
    "    potentiometer = ADC(Pin(26))\n",
    "    ultrasonic = Ultrasonic(Pin(19, Pin.OUT), Pin(20, Pin.IN))\n",
    "\n",
    "    audio_out = I2S(\n",
    "        0,\n",
    "        sck=Pin(16),\n",
    "        ws=Pin(17),\n",
    "        sd=Pin(18),\n",
    "        mode=I2S.TX,\n",
    "        bits=16,\n",
    "        format=I2S.MONO,\n",
    "        rate=22_050,\n",
    "        ibuf=2000,\n",
    "    )\n",
    "    try:\n",
    "        tone = bytes(100)\n",
    "        write_count = 0\n",
    "        refresh_count = 0\n",
    "\n",
    "        async def write_tone():\n",
    "            nonlocal tone, write_count, refresh_count\n",
    "            swriter = asyncio.StreamWriter(audio_out)\n",
    "            while True:\n",
    "                swriter.write(tone)\n",
    "                await swriter.drain()\n",
    "                write_count += 1\n",
    "\n",
    "        async def refresh_tone():\n",
    "            nonlocal tone, write_count, refresh_count\n",
    "            while True:\n",
    "                await asyncio.sleep(0.01)\n",
    "                distance = ultrasonic.read_cm()\n",
    "                if math.isnan(distance):\n",
    "                    continue\n",
    "                samplecount = int(25 + (84 - 25) * (distance - 1) / (60 - 1))\n",
    "                volume = potentiometer.read_u16() / 2\n",
    "                tone = make_tone(samplecount, volume)\n",
    "                refresh_count += 1\n",
    "        \n",
    "        async def print_counts():\n",
    "            nonlocal write_count, refresh_count\n",
    "            while True:\n",
    "                await asyncio.sleep(2)\n",
    "                print(f\"\"\"\n",
    "                        write_tone called: {write_count}\n",
    "                        refresh_tone called: {refresh_count}\n",
    "                        \"\"\")\n",
    "\n",
    "        asyncio.run(asyncio.gather(write_tone(), refresh_tone(), print_counts()))\n",
    "    finally:\n",
    "        audio_out.deinit()\n",
    "\n",
    "\n",
    "def make_tone(samplecount, volume):\n",
    "    tone = volume * np.sin(np.linspace(0, 2 * np.pi, samplecount, endpoint=False))\n",
    "    return np.asarray(tone, dtype=np.int16).tobytes()\n",
    "\n",
    "\n",
    "class Ultrasonic:\n",
    "    \"\"\"\n",
    "    Interface for an HCSR04 ultrasonic distance sensor.\n",
    "    Configure trig as an output, and echo as in input.\n",
    "    \"\"\"\n",
    "\n",
    "    def __init__(self, trig, echo):\n",
    "        self.trig = trig\n",
    "        self.echo = echo\n",
    "        self.trig.off()\n",
    "\n",
    "    def read_ul(self):\n",
    "        \"\"\"\n",
    "        Measure the distance as a unitless quantity.\n",
    "        \"\"\"\n",
    "        self.trig.on()\n",
    "        time.sleep_us(10)\n",
    "        self.trig.off()\n",
    "        return time_pulse_us(self.echo, 1, 4000)\n",
    "\n",
    "    def read_cm(self):\n",
    "        \"\"\"\n",
    "        Measure the distance then convert to centimeters.\n",
    "        \"\"\"\n",
    "        ul = self.read_ul()\n",
    "        if ul > 0:\n",
    "            return ul / 58\n",
    "        else:\n",
    "            return float(\"nan\")\n",
    "\n",
    "\n",
    "if __name__ == \"__main__\":\n",
    "    main()\n",
    "```\n",
    "\n",
    "The results of the this new code show that the write function gets called almost 8.7 times more than the refresh function. This allows the theramin to output a cleaner signal between notes."
   ]
  },
  {
   "cell_type": "markdown",
   "id": "4e3d1d4d-7084-4a67-ae67-aa7fef0f6c49",
   "metadata": {},
   "source": [
    "## <span style=\"color:orange;\"> 6. Make it your own </span>\n",
    "\n",
    "What changes could you make to improve this theremin? Here are a few ideas:\n",
    "\n",
    "1. Get it working with a second ultrasonic sensor, for a truly hands-free experience\n",
    "2. If you listen very carefully, you may notice the theremin stepping between tones as we go from one sample count to the next. You can see why this happens by considering the graph in section 3. Find a way to get a smoother transition between tones, possibly by including more cycles in each audio clip.\n",
    "3. Add another dial to control the volume of a triangle wave of the same frequency, and add the sine and triangle waves together. This gives you control of the waveform in addition to the volume and pitch, making a whole new range of sounds possible.\n",
    "\n",
    "### <span style=\"color:red\"> Exercise 5 </span> (40 pts)\n",
    "Pick an improvement from the list above, or think of a different improvement you could make. Describe how you made your improvement, including any code you wrote.\n",
    "<h3 style=\"background-color:lightblue\"> Write Answers for Exercise 5 Below </h3>"
   ]
  },
  {
   "cell_type": "markdown",
   "id": "3d402f53-8344-488e-b629-99e6a28ea451",
   "metadata": {},
   "source": [
    "```python\n",
    "\"\"\"python\n",
    "A working theremin, using asyncronous functions.\n",
    "\"\"\"\n",
    "from machine import ADC, I2S, Pin, time_pulse_us\n",
    "import math\n",
    "import time\n",
    "from ulab import numpy as np\n",
    "import uasyncio as asyncio\n",
    "\n",
    "\n",
    "def main():\n",
    "    ultrasonic_l = Ultrasonic(Pin(19, Pin.OUT), Pin(20, Pin.IN))\n",
    "    ultrasonic_r = Ultrasonic(Pin(19, Pin.OUT), Pin(3, Pin.IN))\n",
    "\n",
    "    audio_out = I2S(\n",
    "        0,\n",
    "        sck=Pin(16),\n",
    "        ws=Pin(17),\n",
    "        sd=Pin(18),\n",
    "        mode=I2S.TX,\n",
    "        bits=16,\n",
    "        format=I2S.MONO,\n",
    "        rate=22_050,\n",
    "        ibuf=2000,\n",
    "    )\n",
    "    try:\n",
    "        tone = bytes(100)\n",
    "        write_count = 0\n",
    "        refresh_count = 0\n",
    "\n",
    "        async def write_tone():\n",
    "            nonlocal tone, write_count, refresh_count\n",
    "            swriter = asyncio.StreamWriter(audio_out)\n",
    "            while True:\n",
    "                swriter.write(tone)\n",
    "                await swriter.drain()\n",
    "                write_count += 1\n",
    "\n",
    "        async def refresh_tone():\n",
    "            nonlocal tone, write_count, refresh_count\n",
    "            while True:\n",
    "                await asyncio.sleep(0.01)\n",
    "                pitch = ultrasonic_l.read_cm()\n",
    "                if math.isnan(pitch):\n",
    "                    continue\n",
    "                samplecount = int(25 + (84 - 25) * (pitch - 1) / (60 - 1))\n",
    "                volume = ultrasonic_r.read_cm() * 546\n",
    "                tone = make_tone(samplecount, volume)\n",
    "                refresh_count += 1\n",
    "        \n",
    "        async def print_counts():\n",
    "            nonlocal write_count, refresh_count\n",
    "            while True:\n",
    "                await asyncio.sleep(2)\n",
    "                print(f\"\"\"\n",
    "                        write_tone called: {write_count}\n",
    "                        refresh_tone called: {refresh_count}\n",
    "                        \"\"\")\n",
    "\n",
    "        asyncio.run(asyncio.gather(write_tone(), refresh_tone(), print_counts()))\n",
    "    finally:\n",
    "        audio_out.deinit()\n",
    "\n",
    "\n",
    "def make_tone(samplecount, volume):\n",
    "    tone = volume * np.sin(np.linspace(0, 2 * np.pi, samplecount, endpoint=False))\n",
    "    return np.asarray(tone, dtype=np.int16).tobytes()\n",
    "\n",
    "\n",
    "class Ultrasonic:\n",
    "    \"\"\"\n",
    "    Interface for an HCSR04 ultrasonic distance sensor.\n",
    "    Configure trig as an output, and echo as in input.\n",
    "    \"\"\"\n",
    "\n",
    "    def __init__(self, trig, echo):\n",
    "        self.trig = trig\n",
    "        self.echo = echo\n",
    "        self.trig.off()\n",
    "\n",
    "    def read_ul(self):\n",
    "        \"\"\"\n",
    "        Measure the distance as a unitless quantity.\n",
    "        \"\"\"\n",
    "        self.trig.on()\n",
    "        time.sleep_us(10)\n",
    "        self.trig.off()\n",
    "        return time_pulse_us(self.echo, 1, 4000)\n",
    "\n",
    "    def read_cm(self):\n",
    "        \"\"\"\n",
    "        Measure the distance then convert to centimeters.\n",
    "        \"\"\"\n",
    "        ul = self.read_ul()\n",
    "        if ul > 0:\n",
    "            return ul / 58\n",
    "        else:\n",
    "            return float(\"nan\")\n",
    "\n",
    "\n",
    "if __name__ == \"__main__\":\n",
    "    main()\n",
    "```\n",
    "\n",
    "We chose to try improving on \\#1. We did this by replacing our potentiometer with a second ultrasonic sensor facing $180^\\circ$ from the first one. We then updated the code to use the \"right\" ultrasonic as the volume control by multiplying the distance outputed by a normalizing factor for the range the speaker can read. From there we made sure we wired the new sensor into the correct pins for the microcontroller and added a second ultrasonic object to the code using these pins. \n",
    "\n",
    "Overall, this approach worked however the range on the ultrasonic was probably too high for these sensors to use all 60cm they're rated for. To make this even better we would adjust the volume sensitivity to only use 20cm of the ultrasonic's range."
   ]
  }
 ],
 "metadata": {
  "kernelspec": {
   "display_name": "Python 3 (ipykernel)",
   "language": "python",
   "name": "python3"
  },
  "language_info": {
   "codemirror_mode": {
    "name": "ipython",
    "version": 3
   },
   "file_extension": ".py",
   "mimetype": "text/x-python",
   "name": "python",
   "nbconvert_exporter": "python",
   "pygments_lexer": "ipython3",
   "version": "3.10.9"
  }
 },
 "nbformat": 4,
 "nbformat_minor": 5
}
